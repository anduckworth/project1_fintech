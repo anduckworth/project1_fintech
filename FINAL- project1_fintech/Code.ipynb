{
 "cells": [
  {
   "cell_type": "code",
   "execution_count": 2,
   "id": "brutal-canadian",
   "metadata": {},
   "outputs": [],
   "source": [
    "# Loading Data \n",
    "import pandas as pd  \n",
    "import numpy as np\n",
    "from pathlib import Path\n",
    "import seaborn as sns\n",
    "import alpaca_trade_api as tradeapi\n",
    "\n",
    "import matplotlib.pyplot as plt\n",
    "%matplotlib inline\n",
    "import os \n",
    "from dotenv import load_dotenv\n",
    "import yfinance as yf\n",
    "import quandl"
   ]
  },
  {
   "cell_type": "code",
   "execution_count": 87,
   "id": "mexican-republic",
   "metadata": {},
   "outputs": [],
   "source": [
    "# Import Quandl API key\n",
    "load_dotenv()\n",
    "quandl_api_key = os.getenv(\"QUANDL_API_KEY\")"
   ]
  },
  {
   "cell_type": "code",
   "execution_count": 88,
   "id": "varied-explanation",
   "metadata": {},
   "outputs": [
    {
     "data": {
      "text/html": [
       "<div>\n",
       "<style scoped>\n",
       "    .dataframe tbody tr th:only-of-type {\n",
       "        vertical-align: middle;\n",
       "    }\n",
       "\n",
       "    .dataframe tbody tr th {\n",
       "        vertical-align: top;\n",
       "    }\n",
       "\n",
       "    .dataframe thead th {\n",
       "        text-align: right;\n",
       "    }\n",
       "</style>\n",
       "<table border=\"1\" class=\"dataframe\">\n",
       "  <thead>\n",
       "    <tr style=\"text-align: right;\">\n",
       "      <th></th>\n",
       "      <th>Value</th>\n",
       "    </tr>\n",
       "    <tr>\n",
       "      <th>Date</th>\n",
       "      <th></th>\n",
       "    </tr>\n",
       "  </thead>\n",
       "  <tbody>\n",
       "    <tr>\n",
       "      <th>2019-10-01</th>\n",
       "      <td>21747.394</td>\n",
       "    </tr>\n",
       "    <tr>\n",
       "      <th>2020-01-01</th>\n",
       "      <td>21561.139</td>\n",
       "    </tr>\n",
       "    <tr>\n",
       "      <th>2020-04-01</th>\n",
       "      <td>19520.114</td>\n",
       "    </tr>\n",
       "    <tr>\n",
       "      <th>2020-07-01</th>\n",
       "      <td>21170.252</td>\n",
       "    </tr>\n",
       "    <tr>\n",
       "      <th>2020-10-01</th>\n",
       "      <td>21494.731</td>\n",
       "    </tr>\n",
       "  </tbody>\n",
       "</table>\n",
       "</div>"
      ],
      "text/plain": [
       "                Value\n",
       "Date                 \n",
       "2019-10-01  21747.394\n",
       "2020-01-01  21561.139\n",
       "2020-04-01  19520.114\n",
       "2020-07-01  21170.252\n",
       "2020-10-01  21494.731"
      ]
     },
     "execution_count": 88,
     "metadata": {},
     "output_type": "execute_result"
    }
   ],
   "source": [
    "# GDP from Quandl \n",
    "gdp = quandl.get(\"FRED/GDP\") \n",
    "gdp.tail()"
   ]
  },
  {
   "cell_type": "code",
   "execution_count": 89,
   "id": "preliminary-circular",
   "metadata": {},
   "outputs": [],
   "source": [
    "# Dow Jones Data from 2001\n",
    "DJI = yf.Ticker(\"^DJI\")\n",
    "DJI_df = DJI.history(period=\"20y\").reset_index()"
   ]
  },
  {
   "cell_type": "code",
   "execution_count": 90,
   "id": "developing-robinson",
   "metadata": {},
   "outputs": [
    {
     "data": {
      "text/html": [
       "<div>\n",
       "<style scoped>\n",
       "    .dataframe tbody tr th:only-of-type {\n",
       "        vertical-align: middle;\n",
       "    }\n",
       "\n",
       "    .dataframe tbody tr th {\n",
       "        vertical-align: top;\n",
       "    }\n",
       "\n",
       "    .dataframe thead th {\n",
       "        text-align: right;\n",
       "    }\n",
       "</style>\n",
       "<table border=\"1\" class=\"dataframe\">\n",
       "  <thead>\n",
       "    <tr style=\"text-align: right;\">\n",
       "      <th></th>\n",
       "      <th>Date</th>\n",
       "      <th>Open</th>\n",
       "      <th>High</th>\n",
       "      <th>Low</th>\n",
       "      <th>Close</th>\n",
       "      <th>Volume</th>\n",
       "      <th>Dividends</th>\n",
       "      <th>Stock Splits</th>\n",
       "    </tr>\n",
       "  </thead>\n",
       "  <tbody>\n",
       "    <tr>\n",
       "      <th>0</th>\n",
       "      <td>2001-04-02</td>\n",
       "      <td>9877.160156</td>\n",
       "      <td>9992.530273</td>\n",
       "      <td>9705.070312</td>\n",
       "      <td>9777.929688</td>\n",
       "      <td>237210000</td>\n",
       "      <td>0</td>\n",
       "      <td>0</td>\n",
       "    </tr>\n",
       "    <tr>\n",
       "      <th>1</th>\n",
       "      <td>2001-04-03</td>\n",
       "      <td>9774.780273</td>\n",
       "      <td>9774.780273</td>\n",
       "      <td>9428.070312</td>\n",
       "      <td>9485.709961</td>\n",
       "      <td>273290000</td>\n",
       "      <td>0</td>\n",
       "      <td>0</td>\n",
       "    </tr>\n",
       "    <tr>\n",
       "      <th>2</th>\n",
       "      <td>2001-04-04</td>\n",
       "      <td>9480.950195</td>\n",
       "      <td>9625.900391</td>\n",
       "      <td>9375.719727</td>\n",
       "      <td>9515.419922</td>\n",
       "      <td>301600000</td>\n",
       "      <td>0</td>\n",
       "      <td>0</td>\n",
       "    </tr>\n",
       "    <tr>\n",
       "      <th>3</th>\n",
       "      <td>2001-04-05</td>\n",
       "      <td>9527.209961</td>\n",
       "      <td>9929.790039</td>\n",
       "      <td>9527.209961</td>\n",
       "      <td>9918.049805</td>\n",
       "      <td>281710000</td>\n",
       "      <td>0</td>\n",
       "      <td>0</td>\n",
       "    </tr>\n",
       "    <tr>\n",
       "      <th>4</th>\n",
       "      <td>2001-04-06</td>\n",
       "      <td>9913.940430</td>\n",
       "      <td>9913.940430</td>\n",
       "      <td>9698.070312</td>\n",
       "      <td>9791.089844</td>\n",
       "      <td>270000000</td>\n",
       "      <td>0</td>\n",
       "      <td>0</td>\n",
       "    </tr>\n",
       "  </tbody>\n",
       "</table>\n",
       "</div>"
      ],
      "text/plain": [
       "        Date         Open         High          Low        Close     Volume  \\\n",
       "0 2001-04-02  9877.160156  9992.530273  9705.070312  9777.929688  237210000   \n",
       "1 2001-04-03  9774.780273  9774.780273  9428.070312  9485.709961  273290000   \n",
       "2 2001-04-04  9480.950195  9625.900391  9375.719727  9515.419922  301600000   \n",
       "3 2001-04-05  9527.209961  9929.790039  9527.209961  9918.049805  281710000   \n",
       "4 2001-04-06  9913.940430  9913.940430  9698.070312  9791.089844  270000000   \n",
       "\n",
       "   Dividends  Stock Splits  \n",
       "0          0             0  \n",
       "1          0             0  \n",
       "2          0             0  \n",
       "3          0             0  \n",
       "4          0             0  "
      ]
     },
     "execution_count": 90,
     "metadata": {},
     "output_type": "execute_result"
    }
   ],
   "source": [
    "DJI_df.head()"
   ]
  },
  {
   "cell_type": "code",
   "execution_count": 91,
   "id": "persistent-chambers",
   "metadata": {},
   "outputs": [],
   "source": [
    "# Cleaned Dow Data \n",
    "DJI_df = DJI_df[['Date','Close']].set_index(\"Date\")"
   ]
  },
  {
   "cell_type": "code",
   "execution_count": 92,
   "id": "capital-archive",
   "metadata": {},
   "outputs": [
    {
     "data": {
      "text/html": [
       "<div>\n",
       "<style scoped>\n",
       "    .dataframe tbody tr th:only-of-type {\n",
       "        vertical-align: middle;\n",
       "    }\n",
       "\n",
       "    .dataframe tbody tr th {\n",
       "        vertical-align: top;\n",
       "    }\n",
       "\n",
       "    .dataframe thead th {\n",
       "        text-align: right;\n",
       "    }\n",
       "</style>\n",
       "<table border=\"1\" class=\"dataframe\">\n",
       "  <thead>\n",
       "    <tr style=\"text-align: right;\">\n",
       "      <th></th>\n",
       "      <th>Close</th>\n",
       "    </tr>\n",
       "    <tr>\n",
       "      <th>Date</th>\n",
       "      <th></th>\n",
       "    </tr>\n",
       "  </thead>\n",
       "  <tbody>\n",
       "    <tr>\n",
       "      <th>2001-04-02</th>\n",
       "      <td>9777.929688</td>\n",
       "    </tr>\n",
       "    <tr>\n",
       "      <th>2001-04-03</th>\n",
       "      <td>9485.709961</td>\n",
       "    </tr>\n",
       "    <tr>\n",
       "      <th>2001-04-04</th>\n",
       "      <td>9515.419922</td>\n",
       "    </tr>\n",
       "    <tr>\n",
       "      <th>2001-04-05</th>\n",
       "      <td>9918.049805</td>\n",
       "    </tr>\n",
       "    <tr>\n",
       "      <th>2001-04-06</th>\n",
       "      <td>9791.089844</td>\n",
       "    </tr>\n",
       "  </tbody>\n",
       "</table>\n",
       "</div>"
      ],
      "text/plain": [
       "                  Close\n",
       "Date                   \n",
       "2001-04-02  9777.929688\n",
       "2001-04-03  9485.709961\n",
       "2001-04-04  9515.419922\n",
       "2001-04-05  9918.049805\n",
       "2001-04-06  9791.089844"
      ]
     },
     "execution_count": 92,
     "metadata": {},
     "output_type": "execute_result"
    }
   ],
   "source": [
    "DJI_df.head()"
   ]
  },
  {
   "cell_type": "code",
   "execution_count": 93,
   "id": "native-digit",
   "metadata": {},
   "outputs": [
    {
     "data": {
      "text/html": [
       "<div>\n",
       "<style scoped>\n",
       "    .dataframe tbody tr th:only-of-type {\n",
       "        vertical-align: middle;\n",
       "    }\n",
       "\n",
       "    .dataframe tbody tr th {\n",
       "        vertical-align: top;\n",
       "    }\n",
       "\n",
       "    .dataframe thead th {\n",
       "        text-align: right;\n",
       "    }\n",
       "</style>\n",
       "<table border=\"1\" class=\"dataframe\">\n",
       "  <thead>\n",
       "    <tr style=\"text-align: right;\">\n",
       "      <th></th>\n",
       "      <th>Close</th>\n",
       "    </tr>\n",
       "  </thead>\n",
       "  <tbody>\n",
       "    <tr>\n",
       "      <th>count</th>\n",
       "      <td>5032.000000</td>\n",
       "    </tr>\n",
       "    <tr>\n",
       "      <th>mean</th>\n",
       "      <td>15112.322480</td>\n",
       "    </tr>\n",
       "    <tr>\n",
       "      <th>std</th>\n",
       "      <td>6129.901006</td>\n",
       "    </tr>\n",
       "    <tr>\n",
       "      <th>min</th>\n",
       "      <td>6547.049805</td>\n",
       "    </tr>\n",
       "    <tr>\n",
       "      <th>25%</th>\n",
       "      <td>10456.947510</td>\n",
       "    </tr>\n",
       "    <tr>\n",
       "      <th>50%</th>\n",
       "      <td>12654.604980</td>\n",
       "    </tr>\n",
       "    <tr>\n",
       "      <th>75%</th>\n",
       "      <td>18001.237793</td>\n",
       "    </tr>\n",
       "    <tr>\n",
       "      <th>max</th>\n",
       "      <td>33171.371094</td>\n",
       "    </tr>\n",
       "  </tbody>\n",
       "</table>\n",
       "</div>"
      ],
      "text/plain": [
       "              Close\n",
       "count   5032.000000\n",
       "mean   15112.322480\n",
       "std     6129.901006\n",
       "min     6547.049805\n",
       "25%    10456.947510\n",
       "50%    12654.604980\n",
       "75%    18001.237793\n",
       "max    33171.371094"
      ]
     },
     "execution_count": 93,
     "metadata": {},
     "output_type": "execute_result"
    }
   ],
   "source": [
    "# Dow data described \n",
    "DJI_df.describe()"
   ]
  },
  {
   "cell_type": "code",
   "execution_count": 94,
   "id": "assumed-football",
   "metadata": {},
   "outputs": [
    {
     "data": {
      "text/html": [
       "<div>\n",
       "<style scoped>\n",
       "    .dataframe tbody tr th:only-of-type {\n",
       "        vertical-align: middle;\n",
       "    }\n",
       "\n",
       "    .dataframe tbody tr th {\n",
       "        vertical-align: top;\n",
       "    }\n",
       "\n",
       "    .dataframe thead th {\n",
       "        text-align: right;\n",
       "    }\n",
       "</style>\n",
       "<table border=\"1\" class=\"dataframe\">\n",
       "  <thead>\n",
       "    <tr style=\"text-align: right;\">\n",
       "      <th></th>\n",
       "      <th></th>\n",
       "      <th>Close</th>\n",
       "    </tr>\n",
       "    <tr>\n",
       "      <th>Date</th>\n",
       "      <th>Date</th>\n",
       "      <th></th>\n",
       "    </tr>\n",
       "  </thead>\n",
       "  <tbody>\n",
       "    <tr>\n",
       "      <th rowspan=\"5\" valign=\"top\">2001</th>\n",
       "      <th>4</th>\n",
       "      <td>9777.929688</td>\n",
       "    </tr>\n",
       "    <tr>\n",
       "      <th>5</th>\n",
       "      <td>10898.339844</td>\n",
       "    </tr>\n",
       "    <tr>\n",
       "      <th>6</th>\n",
       "      <td>10990.410156</td>\n",
       "    </tr>\n",
       "    <tr>\n",
       "      <th>7</th>\n",
       "      <td>10593.719727</td>\n",
       "    </tr>\n",
       "    <tr>\n",
       "      <th>8</th>\n",
       "      <td>10510.009766</td>\n",
       "    </tr>\n",
       "  </tbody>\n",
       "</table>\n",
       "</div>"
      ],
      "text/plain": [
       "                  Close\n",
       "Date Date              \n",
       "2001 4      9777.929688\n",
       "     5     10898.339844\n",
       "     6     10990.410156\n",
       "     7     10593.719727\n",
       "     8     10510.009766"
      ]
     },
     "execution_count": 94,
     "metadata": {},
     "output_type": "execute_result"
    }
   ],
   "source": [
    "# Dow grouped by month\n",
    "DJI_grp = DJI_df.groupby([DJI_df.index.year,DJI_df.index.month]).first()\n",
    "DJI_grp.head()"
   ]
  },
  {
   "cell_type": "code",
   "execution_count": 95,
   "id": "severe-compensation",
   "metadata": {},
   "outputs": [
    {
     "data": {
      "text/html": [
       "<div>\n",
       "<style scoped>\n",
       "    .dataframe tbody tr th:only-of-type {\n",
       "        vertical-align: middle;\n",
       "    }\n",
       "\n",
       "    .dataframe tbody tr th {\n",
       "        vertical-align: top;\n",
       "    }\n",
       "\n",
       "    .dataframe thead th {\n",
       "        text-align: right;\n",
       "    }\n",
       "</style>\n",
       "<table border=\"1\" class=\"dataframe\">\n",
       "  <thead>\n",
       "    <tr style=\"text-align: right;\">\n",
       "      <th></th>\n",
       "      <th></th>\n",
       "      <th>Close</th>\n",
       "    </tr>\n",
       "    <tr>\n",
       "      <th>Date</th>\n",
       "      <th>Date</th>\n",
       "      <th></th>\n",
       "    </tr>\n",
       "  </thead>\n",
       "  <tbody>\n",
       "    <tr>\n",
       "      <th rowspan=\"5\" valign=\"top\">2001</th>\n",
       "      <th>5</th>\n",
       "      <td>0.114586</td>\n",
       "    </tr>\n",
       "    <tr>\n",
       "      <th>6</th>\n",
       "      <td>0.008448</td>\n",
       "    </tr>\n",
       "    <tr>\n",
       "      <th>7</th>\n",
       "      <td>-0.036094</td>\n",
       "    </tr>\n",
       "    <tr>\n",
       "      <th>8</th>\n",
       "      <td>-0.007902</td>\n",
       "    </tr>\n",
       "    <tr>\n",
       "      <th>9</th>\n",
       "      <td>-0.048765</td>\n",
       "    </tr>\n",
       "  </tbody>\n",
       "</table>\n",
       "</div>"
      ],
      "text/plain": [
       "              Close\n",
       "Date Date          \n",
       "2001 5     0.114586\n",
       "     6     0.008448\n",
       "     7    -0.036094\n",
       "     8    -0.007902\n",
       "     9    -0.048765"
      ]
     },
     "execution_count": 95,
     "metadata": {},
     "output_type": "execute_result"
    }
   ],
   "source": [
    "# Dow Month Percent Change \n",
    "month_percent_change = DJI_grp.pct_change().dropna()\n",
    "month_percent_change = pd.DataFrame(month_percent_change)\n",
    "month_percent_change.head()"
   ]
  },
  {
   "cell_type": "code",
   "execution_count": 96,
   "id": "brave-chrome",
   "metadata": {},
   "outputs": [
    {
     "data": {
      "text/html": [
       "<div>\n",
       "<style scoped>\n",
       "    .dataframe tbody tr th:only-of-type {\n",
       "        vertical-align: middle;\n",
       "    }\n",
       "\n",
       "    .dataframe tbody tr th {\n",
       "        vertical-align: top;\n",
       "    }\n",
       "\n",
       "    .dataframe thead th {\n",
       "        text-align: right;\n",
       "    }\n",
       "</style>\n",
       "<table border=\"1\" class=\"dataframe\">\n",
       "  <thead>\n",
       "    <tr style=\"text-align: right;\">\n",
       "      <th></th>\n",
       "      <th>Close</th>\n",
       "    </tr>\n",
       "    <tr>\n",
       "      <th>Date</th>\n",
       "      <th></th>\n",
       "    </tr>\n",
       "  </thead>\n",
       "  <tbody>\n",
       "    <tr>\n",
       "      <th>2001-04-03</th>\n",
       "      <td>-0.029886</td>\n",
       "    </tr>\n",
       "    <tr>\n",
       "      <th>2001-04-04</th>\n",
       "      <td>0.003132</td>\n",
       "    </tr>\n",
       "    <tr>\n",
       "      <th>2001-04-05</th>\n",
       "      <td>0.042313</td>\n",
       "    </tr>\n",
       "    <tr>\n",
       "      <th>2001-04-06</th>\n",
       "      <td>-0.012801</td>\n",
       "    </tr>\n",
       "    <tr>\n",
       "      <th>2001-04-09</th>\n",
       "      <td>0.005521</td>\n",
       "    </tr>\n",
       "  </tbody>\n",
       "</table>\n",
       "</div>"
      ],
      "text/plain": [
       "               Close\n",
       "Date                \n",
       "2001-04-03 -0.029886\n",
       "2001-04-04  0.003132\n",
       "2001-04-05  0.042313\n",
       "2001-04-06 -0.012801\n",
       "2001-04-09  0.005521"
      ]
     },
     "execution_count": 96,
     "metadata": {},
     "output_type": "execute_result"
    }
   ],
   "source": [
    "# Dow Percent Change \n",
    "dow_percent_change = DJI_df.pct_change().dropna()\n",
    "dow_percent_change.head()"
   ]
  },
  {
   "cell_type": "markdown",
   "id": "descending-journal",
   "metadata": {},
   "source": [
    "# Confidence Indicator on Dow"
   ]
  },
  {
   "cell_type": "code",
   "execution_count": 3,
   "id": "built-coverage",
   "metadata": {},
   "outputs": [],
   "source": [
    "# Import confidence Data \n",
    "confidence_path = Path(\"data/one_year_confidence.csv\")\n",
    "confidence = pd.read_csv(confidence_path,parse_dates=True, index_col='Date', infer_datetime_format=True).dropna()"
   ]
  },
  {
   "cell_type": "code",
   "execution_count": 4,
   "id": "satisfactory-corpus",
   "metadata": {},
   "outputs": [
    {
     "data": {
      "text/html": [
       "<div>\n",
       "<style scoped>\n",
       "    .dataframe tbody tr th:only-of-type {\n",
       "        vertical-align: middle;\n",
       "    }\n",
       "\n",
       "    .dataframe tbody tr th {\n",
       "        vertical-align: top;\n",
       "    }\n",
       "\n",
       "    .dataframe thead th {\n",
       "        text-align: right;\n",
       "    }\n",
       "</style>\n",
       "<table border=\"1\" class=\"dataframe\">\n",
       "  <thead>\n",
       "    <tr style=\"text-align: right;\">\n",
       "      <th></th>\n",
       "      <th>Percent Change</th>\n",
       "    </tr>\n",
       "    <tr>\n",
       "      <th>Date</th>\n",
       "      <th></th>\n",
       "    </tr>\n",
       "  </thead>\n",
       "  <tbody>\n",
       "    <tr>\n",
       "      <th>2000-05-01</th>\n",
       "      <td>-0.020918</td>\n",
       "    </tr>\n",
       "    <tr>\n",
       "      <th>2000-06-01</th>\n",
       "      <td>-0.008902</td>\n",
       "    </tr>\n",
       "    <tr>\n",
       "      <th>2000-07-01</th>\n",
       "      <td>0.005988</td>\n",
       "    </tr>\n",
       "    <tr>\n",
       "      <th>2000-08-01</th>\n",
       "      <td>0.071131</td>\n",
       "    </tr>\n",
       "    <tr>\n",
       "      <th>2000-09-01</th>\n",
       "      <td>-0.051959</td>\n",
       "    </tr>\n",
       "  </tbody>\n",
       "</table>\n",
       "</div>"
      ],
      "text/plain": [
       "            Percent Change\n",
       "Date                      \n",
       "2000-05-01       -0.020918\n",
       "2000-06-01       -0.008902\n",
       "2000-07-01        0.005988\n",
       "2000-08-01        0.071131\n",
       "2000-09-01       -0.051959"
      ]
     },
     "execution_count": 4,
     "metadata": {},
     "output_type": "execute_result"
    }
   ],
   "source": [
    "dow_pct_change_path = Path(\"data/Dow Pct Change.csv\")\n",
    "dow_pct_change = pd.read_csv(dow_pct_change_path,parse_dates=True, index_col='Date', infer_datetime_format=True).dropna()\n",
    "dow_pct_change.head()"
   ]
  },
  {
   "cell_type": "code",
   "execution_count": 5,
   "id": "initial-outside",
   "metadata": {},
   "outputs": [
    {
     "data": {
      "text/html": [
       "<div>\n",
       "<style scoped>\n",
       "    .dataframe tbody tr th:only-of-type {\n",
       "        vertical-align: middle;\n",
       "    }\n",
       "\n",
       "    .dataframe tbody tr th {\n",
       "        vertical-align: top;\n",
       "    }\n",
       "\n",
       "    .dataframe thead th {\n",
       "        text-align: right;\n",
       "    }\n",
       "</style>\n",
       "<table border=\"1\" class=\"dataframe\">\n",
       "  <thead>\n",
       "    <tr style=\"text-align: right;\">\n",
       "      <th></th>\n",
       "      <th>US Institutional</th>\n",
       "      <th>US Individual</th>\n",
       "    </tr>\n",
       "    <tr>\n",
       "      <th>Date</th>\n",
       "      <th></th>\n",
       "      <th></th>\n",
       "    </tr>\n",
       "  </thead>\n",
       "  <tbody>\n",
       "    <tr>\n",
       "      <th>2021-02-01</th>\n",
       "      <td>62.12</td>\n",
       "      <td>75.00</td>\n",
       "    </tr>\n",
       "    <tr>\n",
       "      <th>2021-01-01</th>\n",
       "      <td>61.90</td>\n",
       "      <td>73.17</td>\n",
       "    </tr>\n",
       "    <tr>\n",
       "      <th>2020-12-01</th>\n",
       "      <td>61.54</td>\n",
       "      <td>69.17</td>\n",
       "    </tr>\n",
       "    <tr>\n",
       "      <th>2020-11-01</th>\n",
       "      <td>62.86</td>\n",
       "      <td>70.68</td>\n",
       "    </tr>\n",
       "    <tr>\n",
       "      <th>2020-10-01</th>\n",
       "      <td>67.61</td>\n",
       "      <td>70.71</td>\n",
       "    </tr>\n",
       "  </tbody>\n",
       "</table>\n",
       "</div>"
      ],
      "text/plain": [
       "            US Institutional  US Individual\n",
       "Date                                       \n",
       "2021-02-01             62.12          75.00\n",
       "2021-01-01             61.90          73.17\n",
       "2020-12-01             61.54          69.17\n",
       "2020-11-01             62.86          70.68\n",
       "2020-10-01             67.61          70.71"
      ]
     },
     "execution_count": 5,
     "metadata": {},
     "output_type": "execute_result"
    }
   ],
   "source": [
    "confidence.head()"
   ]
  },
  {
   "cell_type": "code",
   "execution_count": 164,
   "id": "steady-memorabilia",
   "metadata": {},
   "outputs": [
    {
     "data": {
      "image/png": "[encoded data removed]",
      "text/plain": [
       "<Figure size 432x288 with 2 Axes>"
      ]
     },
     "metadata": {
      "needs_background": "light"
     },
     "output_type": "display_data"
    }
   ],
   "source": [
    "confidence_dist = confidence.hist()"
   ]
  },
  {
   "cell_type": "code",
   "execution_count": 101,
   "id": "innovative-atlantic",
   "metadata": {},
   "outputs": [
    {
     "data": {
      "text/plain": [
       "54.74"
      ]
     },
     "execution_count": 101,
     "metadata": {},
     "output_type": "execute_result"
    }
   ],
   "source": [
    "confidence['US Institutional'].min()"
   ]
  },
  {
   "cell_type": "code",
   "execution_count": 17,
   "id": "talented-forge",
   "metadata": {},
   "outputs": [
    {
     "data": {
      "text/plain": [
       "59.75"
      ]
     },
     "execution_count": 17,
     "metadata": {},
     "output_type": "execute_result"
    }
   ],
   "source": [
    "confidence['US Individual'].min()"
   ]
  },
  {
   "cell_type": "code",
   "execution_count": 18,
   "id": "changed-seventh",
   "metadata": {},
   "outputs": [
    {
     "data": {
      "text/html": [
       "<div>\n",
       "<style scoped>\n",
       "    .dataframe tbody tr th:only-of-type {\n",
       "        vertical-align: middle;\n",
       "    }\n",
       "\n",
       "    .dataframe tbody tr th {\n",
       "        vertical-align: top;\n",
       "    }\n",
       "\n",
       "    .dataframe thead th {\n",
       "        text-align: right;\n",
       "    }\n",
       "</style>\n",
       "<table border=\"1\" class=\"dataframe\">\n",
       "  <thead>\n",
       "    <tr style=\"text-align: right;\">\n",
       "      <th></th>\n",
       "      <th>US Institutional</th>\n",
       "      <th>US Individual</th>\n",
       "    </tr>\n",
       "    <tr>\n",
       "      <th>Date</th>\n",
       "      <th></th>\n",
       "      <th></th>\n",
       "    </tr>\n",
       "  </thead>\n",
       "  <tbody>\n",
       "    <tr>\n",
       "      <th>2000-04-01</th>\n",
       "      <td>56.82</td>\n",
       "      <td>76.34</td>\n",
       "    </tr>\n",
       "    <tr>\n",
       "      <th>1999-04-01</th>\n",
       "      <td>54.74</td>\n",
       "      <td>75.59</td>\n",
       "    </tr>\n",
       "  </tbody>\n",
       "</table>\n",
       "</div>"
      ],
      "text/plain": [
       "            US Institutional  US Individual\n",
       "Date                                       \n",
       "2000-04-01             56.82          76.34\n",
       "1999-04-01             54.74          75.59"
      ]
     },
     "execution_count": 18,
     "metadata": {},
     "output_type": "execute_result"
    }
   ],
   "source": [
    "# US Institutional data less than 60%\n",
    "confidence.loc[confidence['US Institutional'] < 60].round(2)"
   ]
  },
  {
   "cell_type": "code",
   "execution_count": 166,
   "id": "level-melissa",
   "metadata": {},
   "outputs": [
    {
     "data": {
      "text/html": [
       "<div>\n",
       "<style scoped>\n",
       "    .dataframe tbody tr th:only-of-type {\n",
       "        vertical-align: middle;\n",
       "    }\n",
       "\n",
       "    .dataframe tbody tr th {\n",
       "        vertical-align: top;\n",
       "    }\n",
       "\n",
       "    .dataframe thead th {\n",
       "        text-align: right;\n",
       "    }\n",
       "</style>\n",
       "<table border=\"1\" class=\"dataframe\">\n",
       "  <thead>\n",
       "    <tr style=\"text-align: right;\">\n",
       "      <th></th>\n",
       "      <th>US Institutional</th>\n",
       "      <th>US Individual</th>\n",
       "    </tr>\n",
       "    <tr>\n",
       "      <th>Date</th>\n",
       "      <th></th>\n",
       "      <th></th>\n",
       "    </tr>\n",
       "  </thead>\n",
       "  <tbody>\n",
       "    <tr>\n",
       "      <th>2021-02-01</th>\n",
       "      <td>62.12</td>\n",
       "      <td>75.00</td>\n",
       "    </tr>\n",
       "    <tr>\n",
       "      <th>2021-01-01</th>\n",
       "      <td>61.90</td>\n",
       "      <td>73.17</td>\n",
       "    </tr>\n",
       "    <tr>\n",
       "      <th>2020-12-01</th>\n",
       "      <td>61.54</td>\n",
       "      <td>69.17</td>\n",
       "    </tr>\n",
       "    <tr>\n",
       "      <th>2020-11-01</th>\n",
       "      <td>62.86</td>\n",
       "      <td>70.68</td>\n",
       "    </tr>\n",
       "    <tr>\n",
       "      <th>2020-10-01</th>\n",
       "      <td>67.61</td>\n",
       "      <td>70.71</td>\n",
       "    </tr>\n",
       "  </tbody>\n",
       "</table>\n",
       "</div>"
      ],
      "text/plain": [
       "            US Institutional  US Individual\n",
       "Date                                       \n",
       "2021-02-01             62.12          75.00\n",
       "2021-01-01             61.90          73.17\n",
       "2020-12-01             61.54          69.17\n",
       "2020-11-01             62.86          70.68\n",
       "2020-10-01             67.61          70.71"
      ]
     },
     "execution_count": 166,
     "metadata": {},
     "output_type": "execute_result"
    }
   ],
   "source": [
    "confidence.head()"
   ]
  },
  {
   "cell_type": "code",
   "execution_count": 6,
   "id": "vocational-situation",
   "metadata": {},
   "outputs": [
    {
     "data": {
      "text/plain": [
       "US Institutional    53\n",
       "US Individual       53\n",
       "dtype: int64"
      ]
     },
     "execution_count": 6,
     "metadata": {},
     "output_type": "execute_result"
    }
   ],
   "source": [
    "# US individual less than 70%\n",
    "individual_below_70 = confidence.loc[confidence['US Individual'] < 70].round(2)\n",
    "individual_below_70.count()"
   ]
  },
  {
   "cell_type": "code",
   "execution_count": 322,
   "id": "associate-fence",
   "metadata": {},
   "outputs": [],
   "source": [
    "#ind_and_dow_less_70.head()"
   ]
  },
  {
   "cell_type": "code",
   "execution_count": 7,
   "id": "accepted-dodge",
   "metadata": {},
   "outputs": [
    {
     "data": {
      "text/html": [
       "<div>\n",
       "<style scoped>\n",
       "    .dataframe tbody tr th:only-of-type {\n",
       "        vertical-align: middle;\n",
       "    }\n",
       "\n",
       "    .dataframe tbody tr th {\n",
       "        vertical-align: top;\n",
       "    }\n",
       "\n",
       "    .dataframe thead th {\n",
       "        text-align: right;\n",
       "    }\n",
       "</style>\n",
       "<table border=\"1\" class=\"dataframe\">\n",
       "  <thead>\n",
       "    <tr style=\"text-align: right;\">\n",
       "      <th></th>\n",
       "      <th>Percent Change</th>\n",
       "    </tr>\n",
       "    <tr>\n",
       "      <th>Date</th>\n",
       "      <th></th>\n",
       "    </tr>\n",
       "  </thead>\n",
       "  <tbody>\n",
       "    <tr>\n",
       "      <th>2020-12-01</th>\n",
       "      <td>1.413598</td>\n",
       "    </tr>\n",
       "  </tbody>\n",
       "</table>\n",
       "</div>"
      ],
      "text/plain": [
       "            Percent Change\n",
       "Date                      \n",
       "2020-12-01        1.413598"
      ]
     },
     "execution_count": 7,
     "metadata": {},
     "output_type": "execute_result"
    }
   ],
   "source": [
    "# Percent of Dow when individual confidence less than\n",
    "ind_and_dow_less_70 = pd.concat([dow_pct_change,individual_below_70], axis='columns', join='inner')\n",
    "#ind_and_dow_less_70[[\"Percent Change\"]].mean()\n",
    "cumulative_returns = ind_and_dow_less_70[[\"Percent Change\"]]+1\n",
    "cumulative_returns.cumprod().tail(1)"
   ]
  },
  {
   "cell_type": "code",
   "execution_count": 8,
   "id": "future-maldives",
   "metadata": {},
   "outputs": [
    {
     "data": {
      "text/plain": [
       "US Institutional    24\n",
       "US Individual       24\n",
       "dtype: int64"
      ]
     },
     "execution_count": 8,
     "metadata": {},
     "output_type": "execute_result"
    }
   ],
   "source": [
    "# US institutional confidence less than 70%\n",
    "institutional_below_70 = confidence.loc[confidence['US Institutional'] < 70].round(2)\n",
    "institutional_below_70.count()"
   ]
  },
  {
   "cell_type": "code",
   "execution_count": 9,
   "id": "precise-shopper",
   "metadata": {},
   "outputs": [
    {
     "data": {
      "text/html": [
       "<div>\n",
       "<style scoped>\n",
       "    .dataframe tbody tr th:only-of-type {\n",
       "        vertical-align: middle;\n",
       "    }\n",
       "\n",
       "    .dataframe tbody tr th {\n",
       "        vertical-align: top;\n",
       "    }\n",
       "\n",
       "    .dataframe thead th {\n",
       "        text-align: right;\n",
       "    }\n",
       "</style>\n",
       "<table border=\"1\" class=\"dataframe\">\n",
       "  <thead>\n",
       "    <tr style=\"text-align: right;\">\n",
       "      <th></th>\n",
       "      <th>Percent Change</th>\n",
       "    </tr>\n",
       "    <tr>\n",
       "      <th>Date</th>\n",
       "      <th></th>\n",
       "    </tr>\n",
       "  </thead>\n",
       "  <tbody>\n",
       "    <tr>\n",
       "      <th>2021-02-01</th>\n",
       "      <td>1.154175</td>\n",
       "    </tr>\n",
       "  </tbody>\n",
       "</table>\n",
       "</div>"
      ],
      "text/plain": [
       "            Percent Change\n",
       "Date                      \n",
       "2021-02-01        1.154175"
      ]
     },
     "execution_count": 9,
     "metadata": {},
     "output_type": "execute_result"
    }
   ],
   "source": [
    "# Dow Performance when institutional confidence is below 70\n",
    "inst_and_dow_less_70 = pd.concat([dow_pct_change,institutional_below_70], axis='columns', join='inner')\n",
    "cumulative_returns = inst_and_dow_less_70[[\"Percent Change\"]]+1\n",
    "cumulative_returns.cumprod().tail(1)"
   ]
  },
  {
   "cell_type": "code",
   "execution_count": 12,
   "id": "outer-rehabilitation",
   "metadata": {},
   "outputs": [
    {
     "data": {
      "text/html": [
       "<div>\n",
       "<style scoped>\n",
       "    .dataframe tbody tr th:only-of-type {\n",
       "        vertical-align: middle;\n",
       "    }\n",
       "\n",
       "    .dataframe tbody tr th {\n",
       "        vertical-align: top;\n",
       "    }\n",
       "\n",
       "    .dataframe thead th {\n",
       "        text-align: right;\n",
       "    }\n",
       "</style>\n",
       "<table border=\"1\" class=\"dataframe\">\n",
       "  <thead>\n",
       "    <tr style=\"text-align: right;\">\n",
       "      <th></th>\n",
       "      <th>Percent Change</th>\n",
       "    </tr>\n",
       "    <tr>\n",
       "      <th>Date</th>\n",
       "      <th></th>\n",
       "    </tr>\n",
       "  </thead>\n",
       "  <tbody>\n",
       "    <tr>\n",
       "      <th>2020-08-01</th>\n",
       "      <td>2.827144</td>\n",
       "    </tr>\n",
       "  </tbody>\n",
       "</table>\n",
       "</div>"
      ],
      "text/plain": [
       "            Percent Change\n",
       "Date                      \n",
       "2020-08-01        2.827144"
      ]
     },
     "execution_count": 12,
     "metadata": {},
     "output_type": "execute_result"
    }
   ],
   "source": [
    "# Dow Performance when institutional confidence is below 70\n",
    "# US institutional confidence less than 70%\n",
    "institutional_below_70 = confidence.loc[confidence['US Institutional'] > 70].round(2)\n",
    "inst_and_dow_less_70 = pd.concat([dow_pct_change,institutional_below_70], axis='columns', join='inner')\n",
    "cumulative_returns = inst_and_dow_less_70[[\"Percent Change\"]]+1\n",
    "cumulative_returns.cumprod().tail(1)\n",
    "\n",
    "#cumulative_returns.count()"
   ]
  },
  {
   "cell_type": "code",
   "execution_count": 308,
   "id": "indoor-assist",
   "metadata": {},
   "outputs": [
    {
     "data": {
      "text/plain": [
       "Percent Change    252\n",
       "dtype: int64"
      ]
     },
     "execution_count": 308,
     "metadata": {},
     "output_type": "execute_result"
    }
   ],
   "source": [
    "#inst_and_dow_less_70.count()\n",
    "#dow_pct_change.count()"
   ]
  },
  {
   "cell_type": "code",
   "execution_count": 1,
   "id": "stupid-ensemble",
   "metadata": {},
   "outputs": [
    {
     "ename": "NameError",
     "evalue": "name 'confidence' is not defined",
     "output_type": "error",
     "traceback": [
      "\u001b[0;31m---------------------------------------------------------------------------\u001b[0m",
      "\u001b[0;31mNameError\u001b[0m                                 Traceback (most recent call last)",
      "\u001b[0;32m<ipython-input-1-9e0ae7cb9c44>\u001b[0m in \u001b[0;36m<module>\u001b[0;34m\u001b[0m\n\u001b[1;32m      1\u001b[0m \u001b[0;31m# Dow Performance when institutional confidence is below 70\u001b[0m\u001b[0;34m\u001b[0m\u001b[0;34m\u001b[0m\u001b[0;34m\u001b[0m\u001b[0m\n\u001b[1;32m      2\u001b[0m \u001b[0;31m# US institutional confidence less than 70%\u001b[0m\u001b[0;34m\u001b[0m\u001b[0;34m\u001b[0m\u001b[0;34m\u001b[0m\u001b[0m\n\u001b[0;32m----> 3\u001b[0;31m \u001b[0minstitutional_below_70\u001b[0m \u001b[0;34m=\u001b[0m \u001b[0mconfidence\u001b[0m\u001b[0;34m.\u001b[0m\u001b[0mloc\u001b[0m\u001b[0;34m[\u001b[0m\u001b[0mconfidence\u001b[0m\u001b[0;34m[\u001b[0m\u001b[0;34m'US Individual'\u001b[0m\u001b[0;34m]\u001b[0m \u001b[0;34m>\u001b[0m \u001b[0;36m80\u001b[0m\u001b[0;34m]\u001b[0m\u001b[0;34m.\u001b[0m\u001b[0mround\u001b[0m\u001b[0;34m(\u001b[0m\u001b[0;36m2\u001b[0m\u001b[0;34m)\u001b[0m\u001b[0;34m\u001b[0m\u001b[0;34m\u001b[0m\u001b[0m\n\u001b[0m\u001b[1;32m      4\u001b[0m \u001b[0minst_and_dow_less_70\u001b[0m \u001b[0;34m=\u001b[0m \u001b[0mpd\u001b[0m\u001b[0;34m.\u001b[0m\u001b[0mconcat\u001b[0m\u001b[0;34m(\u001b[0m\u001b[0;34m[\u001b[0m\u001b[0mdow_pct_change\u001b[0m\u001b[0;34m,\u001b[0m\u001b[0minstitutional_below_70\u001b[0m\u001b[0;34m]\u001b[0m\u001b[0;34m,\u001b[0m \u001b[0maxis\u001b[0m\u001b[0;34m=\u001b[0m\u001b[0;34m'columns'\u001b[0m\u001b[0;34m,\u001b[0m \u001b[0mjoin\u001b[0m\u001b[0;34m=\u001b[0m\u001b[0;34m'inner'\u001b[0m\u001b[0;34m)\u001b[0m\u001b[0;34m\u001b[0m\u001b[0;34m\u001b[0m\u001b[0m\n\u001b[1;32m      5\u001b[0m \u001b[0mcumulative_returns\u001b[0m \u001b[0;34m=\u001b[0m \u001b[0minst_and_dow_less_70\u001b[0m\u001b[0;34m[\u001b[0m\u001b[0;34m[\u001b[0m\u001b[0;34m\"Percent Change\"\u001b[0m\u001b[0;34m]\u001b[0m\u001b[0;34m]\u001b[0m\u001b[0;34m+\u001b[0m\u001b[0;36m1\u001b[0m\u001b[0;34m\u001b[0m\u001b[0;34m\u001b[0m\u001b[0m\n",
      "\u001b[0;31mNameError\u001b[0m: name 'confidence' is not defined"
     ]
    }
   ],
   "source": [
    "# Dow Performance when institutional confidence is below 70\n",
    "# US institutional confidence less than 70%\n",
    "institutional_below_70 = confidence.loc[confidence['US Individual'] > 80].round(2)\n",
    "inst_and_dow_less_70 = pd.concat([dow_pct_change,institutional_below_70], axis='columns', join='inner')\n",
    "cumulative_returns = inst_and_dow_less_70[[\"Percent Change\"]]+1\n",
    "cumulative_returns.cumprod().tail(1)"
   ]
  },
  {
   "cell_type": "code",
   "execution_count": 21,
   "id": "skilled-budapest",
   "metadata": {},
   "outputs": [
    {
     "data": {
      "text/html": [
       "<div>\n",
       "<style scoped>\n",
       "    .dataframe tbody tr th:only-of-type {\n",
       "        vertical-align: middle;\n",
       "    }\n",
       "\n",
       "    .dataframe tbody tr th {\n",
       "        vertical-align: top;\n",
       "    }\n",
       "\n",
       "    .dataframe thead th {\n",
       "        text-align: right;\n",
       "    }\n",
       "</style>\n",
       "<table border=\"1\" class=\"dataframe\">\n",
       "  <thead>\n",
       "    <tr style=\"text-align: right;\">\n",
       "      <th></th>\n",
       "      <th>US Institutional</th>\n",
       "      <th>US Individual</th>\n",
       "    </tr>\n",
       "    <tr>\n",
       "      <th>Date</th>\n",
       "      <th></th>\n",
       "      <th></th>\n",
       "    </tr>\n",
       "  </thead>\n",
       "  <tbody>\n",
       "    <tr>\n",
       "      <th>2021-01-01</th>\n",
       "      <td>-0.003542</td>\n",
       "      <td>-0.024400</td>\n",
       "    </tr>\n",
       "    <tr>\n",
       "      <th>2020-12-01</th>\n",
       "      <td>-0.005816</td>\n",
       "      <td>-0.054667</td>\n",
       "    </tr>\n",
       "    <tr>\n",
       "      <th>2020-11-01</th>\n",
       "      <td>0.021449</td>\n",
       "      <td>0.021830</td>\n",
       "    </tr>\n",
       "    <tr>\n",
       "      <th>2020-10-01</th>\n",
       "      <td>0.075565</td>\n",
       "      <td>0.000424</td>\n",
       "    </tr>\n",
       "    <tr>\n",
       "      <th>2020-09-01</th>\n",
       "      <td>0.033279</td>\n",
       "      <td>-0.009051</td>\n",
       "    </tr>\n",
       "  </tbody>\n",
       "</table>\n",
       "</div>"
      ],
      "text/plain": [
       "            US Institutional  US Individual\n",
       "Date                                       \n",
       "2021-01-01         -0.003542      -0.024400\n",
       "2020-12-01         -0.005816      -0.054667\n",
       "2020-11-01          0.021449       0.021830\n",
       "2020-10-01          0.075565       0.000424\n",
       "2020-09-01          0.033279      -0.009051"
      ]
     },
     "execution_count": 21,
     "metadata": {},
     "output_type": "execute_result"
    }
   ],
   "source": [
    "# Confidence percent change\n",
    "confidence_pct_change = confidence.pct_change().dropna()\n",
    "confidence_pct_change.head()"
   ]
  },
  {
   "cell_type": "code",
   "execution_count": 333,
   "id": "english-attraction",
   "metadata": {},
   "outputs": [
    {
     "data": {
      "text/html": [
       "<div>\n",
       "<style scoped>\n",
       "    .dataframe tbody tr th:only-of-type {\n",
       "        vertical-align: middle;\n",
       "    }\n",
       "\n",
       "    .dataframe tbody tr th {\n",
       "        vertical-align: top;\n",
       "    }\n",
       "\n",
       "    .dataframe thead th {\n",
       "        text-align: right;\n",
       "    }\n",
       "</style>\n",
       "<table border=\"1\" class=\"dataframe\">\n",
       "  <thead>\n",
       "    <tr style=\"text-align: right;\">\n",
       "      <th></th>\n",
       "      <th>Percent Change</th>\n",
       "    </tr>\n",
       "    <tr>\n",
       "      <th>Date</th>\n",
       "      <th></th>\n",
       "    </tr>\n",
       "  </thead>\n",
       "  <tbody>\n",
       "    <tr>\n",
       "      <th>2021-04-01</th>\n",
       "      <td>3.081464</td>\n",
       "    </tr>\n",
       "  </tbody>\n",
       "</table>\n",
       "</div>"
      ],
      "text/plain": [
       "            Percent Change\n",
       "Date                      \n",
       "2021-04-01        3.081464"
      ]
     },
     "execution_count": 333,
     "metadata": {},
     "output_type": "execute_result"
    }
   ],
   "source": [
    "conf_and_dow = pd.concat([dow_pct_change,confidence], axis='columns', join='inner')\n",
    "\n",
    "cumulative_returns = conf_and_dow[[\"Percent Change\"]]+1\n",
    "cumulative_returns.cumprod().tail(1)\n",
    "\n",
    "#cumulative_returns.count()\n",
    "cumulative_returns = dow_pct_change[[\"Percent Change\"]]+1\n",
    "cumulative_returns.cumprod().tail(1)\n",
    "\n",
    "#1.75 Years more than inst > 70\n",
    "# 25% more return"
   ]
  },
  {
   "cell_type": "code",
   "execution_count": 336,
   "id": "automotive-lawsuit",
   "metadata": {},
   "outputs": [
    {
     "data": {
      "text/html": [
       "<div>\n",
       "<style scoped>\n",
       "    .dataframe tbody tr th:only-of-type {\n",
       "        vertical-align: middle;\n",
       "    }\n",
       "\n",
       "    .dataframe tbody tr th {\n",
       "        vertical-align: top;\n",
       "    }\n",
       "\n",
       "    .dataframe thead th {\n",
       "        text-align: right;\n",
       "    }\n",
       "</style>\n",
       "<table border=\"1\" class=\"dataframe\">\n",
       "  <thead>\n",
       "    <tr style=\"text-align: right;\">\n",
       "      <th></th>\n",
       "      <th>Percent Change</th>\n",
       "    </tr>\n",
       "    <tr>\n",
       "      <th>Date</th>\n",
       "      <th></th>\n",
       "    </tr>\n",
       "  </thead>\n",
       "  <tbody>\n",
       "    <tr>\n",
       "      <th>2020-07-01</th>\n",
       "      <td>1.972136</td>\n",
       "    </tr>\n",
       "  </tbody>\n",
       "</table>\n",
       "</div>"
      ],
      "text/plain": [
       "            Percent Change\n",
       "Date                      \n",
       "2020-07-01        1.972136"
      ]
     },
     "execution_count": 336,
     "metadata": {},
     "output_type": "execute_result"
    }
   ],
   "source": [
    "instutitional_greater_individual = confidence.loc[confidence[\"US Institutional\"] > confidence[\"US Individual\"]]\n",
    "\n",
    "#instutitional_greater_individual.head()\n",
    "# If you were to invest ONLY when institutional confidence was greater than individual confidence, you would have a return of almost 97%\n",
    "institutional_greater_individual = pd.concat([dow_pct_change,instutitional_greater_individual], axis='columns', join='inner')\n",
    "cumulative_returns = institutional_greater_individual[[\"Percent Change\"]]+1\n",
    "cumulative_returns.cumprod().tail(1)"
   ]
  },
  {
   "cell_type": "code",
   "execution_count": 335,
   "id": "cordless-evaluation",
   "metadata": {},
   "outputs": [
    {
     "data": {
      "text/html": [
       "<div>\n",
       "<style scoped>\n",
       "    .dataframe tbody tr th:only-of-type {\n",
       "        vertical-align: middle;\n",
       "    }\n",
       "\n",
       "    .dataframe tbody tr th {\n",
       "        vertical-align: top;\n",
       "    }\n",
       "\n",
       "    .dataframe thead th {\n",
       "        text-align: right;\n",
       "    }\n",
       "</style>\n",
       "<table border=\"1\" class=\"dataframe\">\n",
       "  <thead>\n",
       "    <tr style=\"text-align: right;\">\n",
       "      <th></th>\n",
       "      <th>Percent Change</th>\n",
       "    </tr>\n",
       "    <tr>\n",
       "      <th>Date</th>\n",
       "      <th></th>\n",
       "    </tr>\n",
       "  </thead>\n",
       "  <tbody>\n",
       "    <tr>\n",
       "      <th>2021-02-01</th>\n",
       "      <td>1.654561</td>\n",
       "    </tr>\n",
       "  </tbody>\n",
       "</table>\n",
       "</div>"
      ],
      "text/plain": [
       "            Percent Change\n",
       "Date                      \n",
       "2021-02-01        1.654561"
      ]
     },
     "execution_count": 335,
     "metadata": {},
     "output_type": "execute_result"
    }
   ],
   "source": [
    "instutitional_greater_individual = confidence.loc[confidence[\"US Institutional\"] < confidence[\"US Individual\"]]\n",
    "\n",
    "#instutitional_greater_individual.head()\n",
    "# If you were to invest ONLY when institutional confidence was greater than individual confidence, you would have a return of almost 65%\n",
    "institutional_greater_individual = pd.concat([dow_pct_change,instutitional_greater_individual], axis='columns', join='inner')\n",
    "cumulative_returns = institutional_greater_individual[[\"Percent Change\"]]+1\n",
    "cumulative_returns.cumprod().tail(1)"
   ]
  },
  {
   "cell_type": "code",
   "execution_count": 48,
   "id": "violent-hazard",
   "metadata": {},
   "outputs": [
    {
     "data": {
      "text/plain": [
       "US Institutional    5\n",
       "US Individual       5\n",
       "dtype: int64"
      ]
     },
     "execution_count": 48,
     "metadata": {},
     "output_type": "execute_result"
    }
   ],
   "source": [
    "# Institutional confidence that dropped\n",
    "institutional_zero = confidence_pct_change.loc[confidence_pct_change[\"US Institutional\"] < -0.08]\n",
    "institutional_zero.count()"
   ]
  },
  {
   "cell_type": "code",
   "execution_count": 49,
   "id": "promotional-musical",
   "metadata": {},
   "outputs": [
    {
     "data": {
      "text/plain": [
       "US Institutional    4\n",
       "US Individual       4\n",
       "dtype: int64"
      ]
     },
     "execution_count": 49,
     "metadata": {},
     "output_type": "execute_result"
    }
   ],
   "source": [
    "# Individual confidence that dropped\n",
    "individual_zero = confidence_pct_change.loc[confidence_pct_change[\"US Individual\"] < -0.08]\n",
    "individual_zero.count()"
   ]
  },
  {
   "cell_type": "code",
   "execution_count": 50,
   "id": "irish-layer",
   "metadata": {},
   "outputs": [
    {
     "data": {
      "text/plain": [
       "Percent Change   -0.001684\n",
       "dtype: float64"
      ]
     },
     "execution_count": 50,
     "metadata": {},
     "output_type": "execute_result"
    },
    {
     "data": {
      "image/png": "[encoded data removed]",
      "text/plain": [
       "<Figure size 432x288 with 1 Axes>"
      ]
     },
     "metadata": {
      "needs_background": "light"
     },
     "output_type": "display_data"
    }
   ],
   "source": [
    "# Individual confidence when dipping 4%\n",
    "no_individual = pd.concat([dow_pct_change,individual_zero], axis='columns', join='inner')\n",
    "no_individual.plot()\n",
    "no_individual[[\"Percent Change\"]].mean()"
   ]
  },
  {
   "cell_type": "code",
   "execution_count": 52,
   "id": "enhanced-postcard",
   "metadata": {},
   "outputs": [
    {
     "data": {
      "text/plain": [
       "Percent Change    0.015721\n",
       "dtype: float64"
      ]
     },
     "execution_count": 52,
     "metadata": {},
     "output_type": "execute_result"
    },
    {
     "data": {
      "image/png": "[encoded data removed]",
      "text/plain": [
       "<Figure size 432x288 with 1 Axes>"
      ]
     },
     "metadata": {
      "needs_background": "light"
     },
     "output_type": "display_data"
    }
   ],
   "source": [
    "# Institutional confidence when dipping 8%\n",
    "no_institution = pd.concat([dow_pct_change,institutional_zero], axis='columns', join='inner')\n",
    "no_institution.plot()\n",
    "no_institution[[\"Percent Change\"]].mean()"
   ]
  },
  {
   "cell_type": "code",
   "execution_count": 26,
   "id": "russian-leonard",
   "metadata": {},
   "outputs": [],
   "source": [
    "#dow_pct_change = DJI_df.pct_change().dropna()\n",
    "#dow_pct_change.head()\n",
    "\n",
    "dow_and_confidence = pd.concat([dow_pct_change,confidence_pct_change], axis='columns', join='inner')"
   ]
  },
  {
   "cell_type": "code",
   "execution_count": 27,
   "id": "owned-lemon",
   "metadata": {},
   "outputs": [
    {
     "data": {
      "text/html": [
       "<div>\n",
       "<style scoped>\n",
       "    .dataframe tbody tr th:only-of-type {\n",
       "        vertical-align: middle;\n",
       "    }\n",
       "\n",
       "    .dataframe tbody tr th {\n",
       "        vertical-align: top;\n",
       "    }\n",
       "\n",
       "    .dataframe thead th {\n",
       "        text-align: right;\n",
       "    }\n",
       "</style>\n",
       "<table border=\"1\" class=\"dataframe\">\n",
       "  <thead>\n",
       "    <tr style=\"text-align: right;\">\n",
       "      <th></th>\n",
       "      <th>Percent Change</th>\n",
       "      <th>US Institutional</th>\n",
       "      <th>US Individual</th>\n",
       "    </tr>\n",
       "    <tr>\n",
       "      <th>Date</th>\n",
       "      <th></th>\n",
       "      <th></th>\n",
       "      <th></th>\n",
       "    </tr>\n",
       "  </thead>\n",
       "  <tbody>\n",
       "    <tr>\n",
       "      <th>2000-10-01</th>\n",
       "      <td>0.026084</td>\n",
       "      <td>-0.153486</td>\n",
       "      <td>-0.155667</td>\n",
       "    </tr>\n",
       "    <tr>\n",
       "      <th>2001-04-01</th>\n",
       "      <td>0.081501</td>\n",
       "      <td>0.133126</td>\n",
       "      <td>-0.006545</td>\n",
       "    </tr>\n",
       "    <tr>\n",
       "      <th>2001-07-01</th>\n",
       "      <td>-0.001995</td>\n",
       "      <td>-0.010634</td>\n",
       "      <td>-0.007159</td>\n",
       "    </tr>\n",
       "    <tr>\n",
       "      <th>2001-08-01</th>\n",
       "      <td>-0.049034</td>\n",
       "      <td>0.005151</td>\n",
       "      <td>0.024255</td>\n",
       "    </tr>\n",
       "    <tr>\n",
       "      <th>2001-09-01</th>\n",
       "      <td>-0.115439</td>\n",
       "      <td>-0.023516</td>\n",
       "      <td>-0.041730</td>\n",
       "    </tr>\n",
       "  </tbody>\n",
       "</table>\n",
       "</div>"
      ],
      "text/plain": [
       "            Percent Change  US Institutional  US Individual\n",
       "Date                                                       \n",
       "2000-10-01        0.026084         -0.153486      -0.155667\n",
       "2001-04-01        0.081501          0.133126      -0.006545\n",
       "2001-07-01       -0.001995         -0.010634      -0.007159\n",
       "2001-08-01       -0.049034          0.005151       0.024255\n",
       "2001-09-01       -0.115439         -0.023516      -0.041730"
      ]
     },
     "execution_count": 27,
     "metadata": {},
     "output_type": "execute_result"
    }
   ],
   "source": [
    "dow_and_confidence.head()"
   ]
  },
  {
   "cell_type": "code",
   "execution_count": 28,
   "id": "tender-season",
   "metadata": {},
   "outputs": [
    {
     "data": {
      "text/html": [
       "<div>\n",
       "<style scoped>\n",
       "    .dataframe tbody tr th:only-of-type {\n",
       "        vertical-align: middle;\n",
       "    }\n",
       "\n",
       "    .dataframe tbody tr th {\n",
       "        vertical-align: top;\n",
       "    }\n",
       "\n",
       "    .dataframe thead th {\n",
       "        text-align: right;\n",
       "    }\n",
       "</style>\n",
       "<table border=\"1\" class=\"dataframe\">\n",
       "  <thead>\n",
       "    <tr style=\"text-align: right;\">\n",
       "      <th></th>\n",
       "      <th>Percent Change</th>\n",
       "      <th>US Institutional</th>\n",
       "      <th>US Individual</th>\n",
       "    </tr>\n",
       "  </thead>\n",
       "  <tbody>\n",
       "    <tr>\n",
       "      <th>Percent Change</th>\n",
       "      <td>1.000000</td>\n",
       "      <td>0.108051</td>\n",
       "      <td>0.063783</td>\n",
       "    </tr>\n",
       "    <tr>\n",
       "      <th>US Institutional</th>\n",
       "      <td>0.108051</td>\n",
       "      <td>1.000000</td>\n",
       "      <td>0.266446</td>\n",
       "    </tr>\n",
       "    <tr>\n",
       "      <th>US Individual</th>\n",
       "      <td>0.063783</td>\n",
       "      <td>0.266446</td>\n",
       "      <td>1.000000</td>\n",
       "    </tr>\n",
       "  </tbody>\n",
       "</table>\n",
       "</div>"
      ],
      "text/plain": [
       "                  Percent Change  US Institutional  US Individual\n",
       "Percent Change          1.000000          0.108051       0.063783\n",
       "US Institutional        0.108051          1.000000       0.266446\n",
       "US Individual           0.063783          0.266446       1.000000"
      ]
     },
     "execution_count": 28,
     "metadata": {},
     "output_type": "execute_result"
    }
   ],
   "source": [
    "dow_corr = dow_and_confidence.corr()\n",
    "dow_corr\n",
    "#sns.heatmap(dow_corr,vmin=-1,vmax=1)"
   ]
  },
  {
   "cell_type": "code",
   "execution_count": 56,
   "id": "sustained-chair",
   "metadata": {},
   "outputs": [
    {
     "data": {
      "text/html": [
       "<div>\n",
       "<style scoped>\n",
       "    .dataframe tbody tr th:only-of-type {\n",
       "        vertical-align: middle;\n",
       "    }\n",
       "\n",
       "    .dataframe tbody tr th {\n",
       "        vertical-align: top;\n",
       "    }\n",
       "\n",
       "    .dataframe thead th {\n",
       "        text-align: right;\n",
       "    }\n",
       "</style>\n",
       "<table border=\"1\" class=\"dataframe\">\n",
       "  <thead>\n",
       "    <tr style=\"text-align: right;\">\n",
       "      <th></th>\n",
       "      <th>Percent Change</th>\n",
       "      <th>US Institutional</th>\n",
       "      <th>US Individual</th>\n",
       "    </tr>\n",
       "  </thead>\n",
       "  <tbody>\n",
       "    <tr>\n",
       "      <th>Percent Change</th>\n",
       "      <td>1.000000</td>\n",
       "      <td>-0.295420</td>\n",
       "      <td>-0.310302</td>\n",
       "    </tr>\n",
       "    <tr>\n",
       "      <th>US Institutional</th>\n",
       "      <td>-0.295420</td>\n",
       "      <td>1.000000</td>\n",
       "      <td>0.999878</td>\n",
       "    </tr>\n",
       "    <tr>\n",
       "      <th>US Individual</th>\n",
       "      <td>-0.310302</td>\n",
       "      <td>0.999878</td>\n",
       "      <td>1.000000</td>\n",
       "    </tr>\n",
       "  </tbody>\n",
       "</table>\n",
       "</div>"
      ],
      "text/plain": [
       "                  Percent Change  US Institutional  US Individual\n",
       "Percent Change          1.000000         -0.295420      -0.310302\n",
       "US Institutional       -0.295420          1.000000       0.999878\n",
       "US Individual          -0.310302          0.999878       1.000000"
      ]
     },
     "execution_count": 56,
     "metadata": {},
     "output_type": "execute_result"
    }
   ],
   "source": [
    "no_institution.corr()"
   ]
  },
  {
   "cell_type": "code",
   "execution_count": 35,
   "id": "cloudy-kidney",
   "metadata": {},
   "outputs": [
    {
     "data": {
      "text/plain": [
       "US Institutional    17\n",
       "US Individual       17\n",
       "dtype: int64"
      ]
     },
     "execution_count": 35,
     "metadata": {},
     "output_type": "execute_result"
    }
   ],
   "source": [
    "# Institutional confidence that increased\n",
    "institutional_great = confidence_pct_change.loc[confidence_pct_change[\"US Institutional\"] > 0.05]\n",
    "institutional_great.count()"
   ]
  },
  {
   "cell_type": "code",
   "execution_count": 36,
   "id": "mobile-boutique",
   "metadata": {},
   "outputs": [
    {
     "data": {
      "text/plain": [
       "Percent Change    0.016046\n",
       "dtype: float64"
      ]
     },
     "execution_count": 36,
     "metadata": {},
     "output_type": "execute_result"
    },
    {
     "data": {
      "image/png": "[encoded data removed]",
      "text/plain": [
       "<Figure size 432x288 with 1 Axes>"
      ]
     },
     "metadata": {
      "needs_background": "light"
     },
     "output_type": "display_data"
    }
   ],
   "source": [
    "# Institutional Plot when confidence increase\n",
    "great_institution = pd.concat([dow_pct_change,institutional_great], axis='columns', join='inner')\n",
    "great_institution.plot()\n",
    "great_institution[[\"Percent Change\"]].mean()"
   ]
  },
  {
   "cell_type": "code",
   "execution_count": 40,
   "id": "verified-functionality",
   "metadata": {},
   "outputs": [
    {
     "data": {
      "text/plain": [
       "US Institutional    15\n",
       "US Individual       15\n",
       "dtype: int64"
      ]
     },
     "execution_count": 40,
     "metadata": {},
     "output_type": "execute_result"
    }
   ],
   "source": [
    "# Individual confidence increase \n",
    "individual_great = confidence_pct_change.loc[confidence_pct_change[\"US Individual\"] > 0.05]\n",
    "individual_great.count()"
   ]
  },
  {
   "cell_type": "code",
   "execution_count": 42,
   "id": "narrative-carnival",
   "metadata": {},
   "outputs": [
    {
     "data": {
      "text/plain": [
       "Percent Change    0.009444\n",
       "dtype: float64"
      ]
     },
     "execution_count": 42,
     "metadata": {},
     "output_type": "execute_result"
    },
    {
     "data": {
      "image/png": "[encoded data removed]",
      "text/plain": [
       "<Figure size 432x288 with 1 Axes>"
      ]
     },
     "metadata": {
      "needs_background": "light"
     },
     "output_type": "display_data"
    }
   ],
   "source": [
    "# Individual confidence when increasing 5%\n",
    "great_individual = pd.concat([dow_pct_change,individual_great], axis='columns', join='inner')\n",
    "great_individual.plot()\n",
    "great_individual[[\"Percent Change\"]].mean()"
   ]
  },
  {
   "cell_type": "markdown",
   "id": "logical-general",
   "metadata": {},
   "source": [
    "# Dow on Confidence Indicator"
   ]
  },
  {
   "cell_type": "code",
   "execution_count": 132,
   "id": "recorded-friendly",
   "metadata": {},
   "outputs": [
    {
     "data": {
      "text/plain": [
       "array([[<matplotlib.axes._subplots.AxesSubplot object at 0x7ff2a0064eb0>,\n",
       "        <matplotlib.axes._subplots.AxesSubplot object at 0x7ff3064fb670>]],\n",
       "      dtype=object)"
      ]
     },
     "execution_count": 132,
     "metadata": {},
     "output_type": "execute_result"
    },
    {
     "data": {
      "image/png": "[encoded data removed]",
      "text/plain": [
       "<Figure size 432x288 with 2 Axes>"
      ]
     },
     "metadata": {
      "needs_background": "light"
     },
     "output_type": "display_data"
    }
   ],
   "source": [
    "confidence.hist()"
   ]
  },
  {
   "cell_type": "code",
   "execution_count": 124,
   "id": "authentic-assets",
   "metadata": {},
   "outputs": [
    {
     "data": {
      "text/plain": [
       "array([[<matplotlib.axes._subplots.AxesSubplot object at 0x7ff305721d60>]],\n",
       "      dtype=object)"
      ]
     },
     "execution_count": 124,
     "metadata": {},
     "output_type": "execute_result"
    },
    {
     "data": {
      "image/png": "[encoded data removed]",
      "text/plain": [
       "<Figure size 432x288 with 1 Axes>"
      ]
     },
     "metadata": {
      "needs_background": "light"
     },
     "output_type": "display_data"
    }
   ],
   "source": [
    "dow_pct_change.hist()"
   ]
  },
  {
   "cell_type": "code",
   "execution_count": 184,
   "id": "massive-evans",
   "metadata": {},
   "outputs": [
    {
     "data": {
      "text/plain": [
       "Percent Change      21\n",
       "US Institutional    21\n",
       "US Individual       21\n",
       "dtype: int64"
      ]
     },
     "execution_count": 184,
     "metadata": {},
     "output_type": "execute_result"
    }
   ],
   "source": [
    "# Percent of dow dropping 5%\n",
    "dow_drop_5 = dow_and_confidence.loc[dow_and_confidence['Percent Change'] < -.05]\n",
    "dow_drop_5.count()"
   ]
  },
  {
   "cell_type": "code",
   "execution_count": 145,
   "id": "tribal-ending",
   "metadata": {},
   "outputs": [
    {
     "data": {
      "text/plain": [
       "Percent Change      21\n",
       "US Institutional    21\n",
       "US Individual       21\n",
       "dtype: int64"
      ]
     },
     "execution_count": 145,
     "metadata": {},
     "output_type": "execute_result"
    }
   ],
   "source": [
    "dow_drop_5 = dow_and_confidence.loc[dow_and_confidence[\"Percent Change\"] <-.05]\n",
    "dow_drop_5.count()"
   ]
  },
  {
   "cell_type": "code",
   "execution_count": 156,
   "id": "affected-slave",
   "metadata": {},
   "outputs": [
    {
     "data": {
      "text/plain": [
       "US Institutional    -0.006152\n",
       "US Institutional    78.916190\n",
       "dtype: float64"
      ]
     },
     "execution_count": 156,
     "metadata": {},
     "output_type": "execute_result"
    }
   ],
   "source": [
    "# Dow on Confidence \n",
    "dow_impact = pd.concat([dow_drop_5,confidence], axis='columns', join='inner')\n",
    "\n",
    "dow_impact[[\"US Institutional\"]].mean()"
   ]
  },
  {
   "cell_type": "code",
   "execution_count": 157,
   "id": "looking-serve",
   "metadata": {},
   "outputs": [
    {
     "data": {
      "text/html": [
       "<div>\n",
       "<style scoped>\n",
       "    .dataframe tbody tr th:only-of-type {\n",
       "        vertical-align: middle;\n",
       "    }\n",
       "\n",
       "    .dataframe tbody tr th {\n",
       "        vertical-align: top;\n",
       "    }\n",
       "\n",
       "    .dataframe thead th {\n",
       "        text-align: right;\n",
       "    }\n",
       "</style>\n",
       "<table border=\"1\" class=\"dataframe\">\n",
       "  <thead>\n",
       "    <tr style=\"text-align: right;\">\n",
       "      <th></th>\n",
       "      <th>Percent Change</th>\n",
       "      <th>US Institutional</th>\n",
       "      <th>US Individual</th>\n",
       "      <th>US Institutional</th>\n",
       "      <th>US Individual</th>\n",
       "    </tr>\n",
       "    <tr>\n",
       "      <th>Date</th>\n",
       "      <th></th>\n",
       "      <th></th>\n",
       "      <th></th>\n",
       "      <th></th>\n",
       "      <th></th>\n",
       "    </tr>\n",
       "  </thead>\n",
       "  <tbody>\n",
       "    <tr>\n",
       "      <th>2001-09-01</th>\n",
       "      <td>-0.115439</td>\n",
       "      <td>-0.023516</td>\n",
       "      <td>-0.041730</td>\n",
       "      <td>77.65</td>\n",
       "      <td>88.64</td>\n",
       "    </tr>\n",
       "    <tr>\n",
       "      <th>2002-06-01</th>\n",
       "      <td>-0.067708</td>\n",
       "      <td>0.000713</td>\n",
       "      <td>0.010171</td>\n",
       "      <td>84.21</td>\n",
       "      <td>88.39</td>\n",
       "    </tr>\n",
       "    <tr>\n",
       "      <th>2002-07-01</th>\n",
       "      <td>-0.058143</td>\n",
       "      <td>0.041847</td>\n",
       "      <td>0.028928</td>\n",
       "      <td>84.15</td>\n",
       "      <td>87.50</td>\n",
       "    </tr>\n",
       "    <tr>\n",
       "      <th>2002-09-01</th>\n",
       "      <td>-0.121590</td>\n",
       "      <td>0.015327</td>\n",
       "      <td>-0.011930</td>\n",
       "      <td>81.48</td>\n",
       "      <td>84.48</td>\n",
       "    </tr>\n",
       "    <tr>\n",
       "      <th>2002-12-01</th>\n",
       "      <td>-0.060630</td>\n",
       "      <td>-0.031039</td>\n",
       "      <td>-0.021773</td>\n",
       "      <td>80.23</td>\n",
       "      <td>88.51</td>\n",
       "    </tr>\n",
       "  </tbody>\n",
       "</table>\n",
       "</div>"
      ],
      "text/plain": [
       "            Percent Change  US Institutional  US Individual  US Institutional  \\\n",
       "Date                                                                            \n",
       "2001-09-01       -0.115439         -0.023516      -0.041730             77.65   \n",
       "2002-06-01       -0.067708          0.000713       0.010171             84.21   \n",
       "2002-07-01       -0.058143          0.041847       0.028928             84.15   \n",
       "2002-09-01       -0.121590          0.015327      -0.011930             81.48   \n",
       "2002-12-01       -0.060630         -0.031039      -0.021773             80.23   \n",
       "\n",
       "            US Individual  \n",
       "Date                       \n",
       "2001-09-01          88.64  \n",
       "2002-06-01          88.39  \n",
       "2002-07-01          87.50  \n",
       "2002-09-01          84.48  \n",
       "2002-12-01          88.51  "
      ]
     },
     "execution_count": 157,
     "metadata": {},
     "output_type": "execute_result"
    }
   ],
   "source": [
    "dow_impact.head()"
   ]
  },
  {
   "cell_type": "code",
   "execution_count": 158,
   "id": "structural-raising",
   "metadata": {},
   "outputs": [
    {
     "data": {
      "text/plain": [
       "US Individual    -0.016261\n",
       "US Individual    75.934286\n",
       "dtype: float64"
      ]
     },
     "execution_count": 158,
     "metadata": {},
     "output_type": "execute_result"
    }
   ],
   "source": [
    "dow_impact[[\"US Individual\"]].mean()"
   ]
  },
  {
   "cell_type": "code",
   "execution_count": 160,
   "id": "velvet-harvey",
   "metadata": {},
   "outputs": [
    {
     "data": {
      "text/plain": [
       "Percent Change      27\n",
       "US Institutional    27\n",
       "US Individual       27\n",
       "dtype: int64"
      ]
     },
     "execution_count": 160,
     "metadata": {},
     "output_type": "execute_result"
    }
   ],
   "source": [
    "# Dow gain 5%\n",
    "dow_gain_5 = dow_and_confidence.loc[dow_and_confidence['Percent Change'] > .05]\n",
    "dow_gain_5.count()"
   ]
  },
  {
   "cell_type": "code",
   "execution_count": 161,
   "id": "civil-outside",
   "metadata": {},
   "outputs": [
    {
     "data": {
      "text/plain": [
       "US Institutional     0.019359\n",
       "US Institutional    77.661481\n",
       "dtype: float64"
      ]
     },
     "execution_count": 161,
     "metadata": {},
     "output_type": "execute_result"
    }
   ],
   "source": [
    "# Dow gain and  Confidence \n",
    "dow_good_impact = pd.concat([dow_gain_5,confidence], axis='columns', join='inner')\n",
    "\n",
    "dow_good_impact[[\"US Institutional\"]].mean()"
   ]
  },
  {
   "cell_type": "code",
   "execution_count": 163,
   "id": "revised-benjamin",
   "metadata": {},
   "outputs": [
    {
     "data": {
      "text/plain": [
       "US Individual     0.005923\n",
       "US Individual    77.589259\n",
       "dtype: float64"
      ]
     },
     "execution_count": 163,
     "metadata": {},
     "output_type": "execute_result"
    }
   ],
   "source": [
    "dow_good_impact[[\"US Individual\"]].mean()"
   ]
  },
  {
   "cell_type": "code",
   "execution_count": null,
   "id": "amateur-cleaning",
   "metadata": {},
   "outputs": [],
   "source": []
  },
  {
   "cell_type": "code",
   "execution_count": null,
   "id": "silent-scholarship",
   "metadata": {},
   "outputs": [],
   "source": []
  },
  {
   "cell_type": "markdown",
   "id": "exciting-hebrew",
   "metadata": {},
   "source": [
    "# Crash Confidence Correct? "
   ]
  },
  {
   "cell_type": "code",
   "execution_count": 82,
   "id": "color-dominican",
   "metadata": {},
   "outputs": [],
   "source": [
    "# Import confidence Data (Percent of population that thinks market is not too high)\n",
    "# High numnber indicates more bullish sentiment \n",
    "# Low number indicates bearish sentiment\n",
    "valuation_confidence_path = Path(\"data/us_valuation_confidence_index.csv\")\n",
    "valuation_confidence = pd.read_csv(valuation_confidence_path,parse_dates=True, index_col='Date', infer_datetime_format=True)"
   ]
  },
  {
   "cell_type": "code",
   "execution_count": 83,
   "id": "other-danger",
   "metadata": {},
   "outputs": [
    {
     "data": {
      "text/html": [
       "<div>\n",
       "<style scoped>\n",
       "    .dataframe tbody tr th:only-of-type {\n",
       "        vertical-align: middle;\n",
       "    }\n",
       "\n",
       "    .dataframe tbody tr th {\n",
       "        vertical-align: top;\n",
       "    }\n",
       "\n",
       "    .dataframe thead th {\n",
       "        text-align: right;\n",
       "    }\n",
       "</style>\n",
       "<table border=\"1\" class=\"dataframe\">\n",
       "  <thead>\n",
       "    <tr style=\"text-align: right;\">\n",
       "      <th></th>\n",
       "      <th>US Institutional</th>\n",
       "      <th>US Individual</th>\n",
       "    </tr>\n",
       "    <tr>\n",
       "      <th>Date</th>\n",
       "      <th></th>\n",
       "      <th></th>\n",
       "    </tr>\n",
       "  </thead>\n",
       "  <tbody>\n",
       "    <tr>\n",
       "      <th>2021-02-01</th>\n",
       "      <td>42.70</td>\n",
       "      <td>29.51</td>\n",
       "    </tr>\n",
       "    <tr>\n",
       "      <th>2021-01-01</th>\n",
       "      <td>43.82</td>\n",
       "      <td>28.78</td>\n",
       "    </tr>\n",
       "    <tr>\n",
       "      <th>2020-12-01</th>\n",
       "      <td>44.68</td>\n",
       "      <td>31.47</td>\n",
       "    </tr>\n",
       "    <tr>\n",
       "      <th>2020-11-01</th>\n",
       "      <td>41.84</td>\n",
       "      <td>33.77</td>\n",
       "    </tr>\n",
       "    <tr>\n",
       "      <th>2020-10-01</th>\n",
       "      <td>46.39</td>\n",
       "      <td>34.16</td>\n",
       "    </tr>\n",
       "  </tbody>\n",
       "</table>\n",
       "</div>"
      ],
      "text/plain": [
       "            US Institutional  US Individual\n",
       "Date                                       \n",
       "2021-02-01             42.70          29.51\n",
       "2021-01-01             43.82          28.78\n",
       "2020-12-01             44.68          31.47\n",
       "2020-11-01             41.84          33.77\n",
       "2020-10-01             46.39          34.16"
      ]
     },
     "execution_count": 83,
     "metadata": {},
     "output_type": "execute_result"
    }
   ],
   "source": [
    "valuation_confidence.head()"
   ]
  },
  {
   "cell_type": "code",
   "execution_count": 102,
   "id": "changing-dancing",
   "metadata": {},
   "outputs": [
    {
     "data": {
      "text/plain": [
       "array([[<matplotlib.axes._subplots.AxesSubplot object at 0x7ff3050faf70>,\n",
       "        <matplotlib.axes._subplots.AxesSubplot object at 0x7ff3050ea520>]],\n",
       "      dtype=object)"
      ]
     },
     "execution_count": 102,
     "metadata": {},
     "output_type": "execute_result"
    },
    {
     "data": {
      "image/png": "[encoded data removed]",
      "text/plain": [
       "<Figure size 432x288 with 2 Axes>"
      ]
     },
     "metadata": {
      "needs_background": "light"
     },
     "output_type": "display_data"
    }
   ],
   "source": [
    "valuation_confidence.hist()"
   ]
  },
  {
   "cell_type": "code",
   "execution_count": null,
   "id": "residential-selling",
   "metadata": {},
   "outputs": [],
   "source": []
  },
  {
   "cell_type": "code",
   "execution_count": null,
   "id": "cognitive-shopping",
   "metadata": {},
   "outputs": [],
   "source": []
  },
  {
   "cell_type": "code",
   "execution_count": 185,
   "id": "western-attitude",
   "metadata": {},
   "outputs": [
    {
     "data": {
      "text/plain": [
       "US Institutional    72\n",
       "US Individual       72\n",
       "dtype: int64"
      ]
     },
     "execution_count": 185,
     "metadata": {},
     "output_type": "execute_result"
    }
   ],
   "source": [
    "# US individual less than 70%\n",
    "individual_greater_80 = confidence.loc[confidence['US Individual'] > 80].round(2)\n",
    "individual_greater_80.count()"
   ]
  },
  {
   "cell_type": "code",
   "execution_count": 188,
   "id": "mediterranean-relief",
   "metadata": {},
   "outputs": [
    {
     "data": {
      "text/plain": [
       "US Institutional    72\n",
       "US Individual       72\n",
       "dtype: int64"
      ]
     },
     "execution_count": 188,
     "metadata": {},
     "output_type": "execute_result"
    }
   ],
   "source": [
    "individual_greater_80.count()"
   ]
  },
  {
   "cell_type": "code",
   "execution_count": 196,
   "id": "available-writing",
   "metadata": {},
   "outputs": [
    {
     "data": {
      "text/html": [
       "<div>\n",
       "<style scoped>\n",
       "    .dataframe tbody tr th:only-of-type {\n",
       "        vertical-align: middle;\n",
       "    }\n",
       "\n",
       "    .dataframe tbody tr th {\n",
       "        vertical-align: top;\n",
       "    }\n",
       "\n",
       "    .dataframe thead th {\n",
       "        text-align: right;\n",
       "    }\n",
       "</style>\n",
       "<table border=\"1\" class=\"dataframe\">\n",
       "  <thead>\n",
       "    <tr style=\"text-align: right;\">\n",
       "      <th></th>\n",
       "      <th>US Institutional</th>\n",
       "      <th>US Individual</th>\n",
       "    </tr>\n",
       "    <tr>\n",
       "      <th>Date</th>\n",
       "      <th></th>\n",
       "      <th></th>\n",
       "    </tr>\n",
       "  </thead>\n",
       "  <tbody>\n",
       "    <tr>\n",
       "      <th>2021-02-01</th>\n",
       "      <td>62.12</td>\n",
       "      <td>75.00</td>\n",
       "    </tr>\n",
       "    <tr>\n",
       "      <th>2021-01-01</th>\n",
       "      <td>61.90</td>\n",
       "      <td>73.17</td>\n",
       "    </tr>\n",
       "    <tr>\n",
       "      <th>2020-12-01</th>\n",
       "      <td>61.54</td>\n",
       "      <td>69.17</td>\n",
       "    </tr>\n",
       "    <tr>\n",
       "      <th>2020-11-01</th>\n",
       "      <td>62.86</td>\n",
       "      <td>70.68</td>\n",
       "    </tr>\n",
       "    <tr>\n",
       "      <th>2020-10-01</th>\n",
       "      <td>67.61</td>\n",
       "      <td>70.71</td>\n",
       "    </tr>\n",
       "  </tbody>\n",
       "</table>\n",
       "</div>"
      ],
      "text/plain": [
       "            US Institutional  US Individual\n",
       "Date                                       \n",
       "2021-02-01             62.12          75.00\n",
       "2021-01-01             61.90          73.17\n",
       "2020-12-01             61.54          69.17\n",
       "2020-11-01             62.86          70.68\n",
       "2020-10-01             67.61          70.71"
      ]
     },
     "execution_count": 196,
     "metadata": {},
     "output_type": "execute_result"
    }
   ],
   "source": [
    "confidence.head()"
   ]
  },
  {
   "cell_type": "code",
   "execution_count": 206,
   "id": "political-memory",
   "metadata": {},
   "outputs": [
    {
     "data": {
      "text/plain": [
       "Date             2021-02-01 00:00:00\n",
       "US Individual                  95.62\n",
       "dtype: object"
      ]
     },
     "execution_count": 206,
     "metadata": {},
     "output_type": "execute_result"
    }
   ],
   "source": [
    "confidence[['US Individual']].reset_index().max()"
   ]
  },
  {
   "cell_type": "code",
   "execution_count": 208,
   "id": "attached-staff",
   "metadata": {},
   "outputs": [
    {
     "data": {
      "text/plain": [
       "Date             1999-04-01 00:00:00\n",
       "US Individual                  59.75\n",
       "dtype: object"
      ]
     },
     "execution_count": 208,
     "metadata": {},
     "output_type": "execute_result"
    }
   ],
   "source": [
    "confidence[['US Individual']].reset_index().min()"
   ]
  },
  {
   "cell_type": "code",
   "execution_count": 211,
   "id": "headed-surfing",
   "metadata": {},
   "outputs": [],
   "source": [
    "lowest_individual_confidence = confidence.sort_values(\"US Individual\", ascending = True)"
   ]
  },
  {
   "cell_type": "code",
   "execution_count": 212,
   "id": "awful-richardson",
   "metadata": {},
   "outputs": [
    {
     "data": {
      "text/html": [
       "<div>\n",
       "<style scoped>\n",
       "    .dataframe tbody tr th:only-of-type {\n",
       "        vertical-align: middle;\n",
       "    }\n",
       "\n",
       "    .dataframe tbody tr th {\n",
       "        vertical-align: top;\n",
       "    }\n",
       "\n",
       "    .dataframe thead th {\n",
       "        text-align: right;\n",
       "    }\n",
       "</style>\n",
       "<table border=\"1\" class=\"dataframe\">\n",
       "  <thead>\n",
       "    <tr style=\"text-align: right;\">\n",
       "      <th></th>\n",
       "      <th>US Institutional</th>\n",
       "      <th>US Individual</th>\n",
       "    </tr>\n",
       "    <tr>\n",
       "      <th>Date</th>\n",
       "      <th></th>\n",
       "      <th></th>\n",
       "    </tr>\n",
       "  </thead>\n",
       "  <tbody>\n",
       "    <tr>\n",
       "      <th>2017-08-01</th>\n",
       "      <td>72.85</td>\n",
       "      <td>59.75</td>\n",
       "    </tr>\n",
       "    <tr>\n",
       "      <th>2019-10-01</th>\n",
       "      <td>66.33</td>\n",
       "      <td>59.79</td>\n",
       "    </tr>\n",
       "    <tr>\n",
       "      <th>2017-07-01</th>\n",
       "      <td>74.40</td>\n",
       "      <td>60.12</td>\n",
       "    </tr>\n",
       "    <tr>\n",
       "      <th>2017-11-01</th>\n",
       "      <td>69.92</td>\n",
       "      <td>60.61</td>\n",
       "    </tr>\n",
       "    <tr>\n",
       "      <th>2017-04-01</th>\n",
       "      <td>79.61</td>\n",
       "      <td>60.69</td>\n",
       "    </tr>\n",
       "  </tbody>\n",
       "</table>\n",
       "</div>"
      ],
      "text/plain": [
       "            US Institutional  US Individual\n",
       "Date                                       \n",
       "2017-08-01             72.85          59.75\n",
       "2019-10-01             66.33          59.79\n",
       "2017-07-01             74.40          60.12\n",
       "2017-11-01             69.92          60.61\n",
       "2017-04-01             79.61          60.69"
      ]
     },
     "execution_count": 212,
     "metadata": {},
     "output_type": "execute_result"
    }
   ],
   "source": [
    "lowest_individual_confidence.head()"
   ]
  },
  {
   "cell_type": "code",
   "execution_count": 241,
   "id": "opposed-wilderness",
   "metadata": {},
   "outputs": [
    {
     "ename": "TypeError",
     "evalue": "'(slice('2017-08-01', '2018-02-01', None), slice(None, None, None))' is an invalid key",
     "output_type": "error",
     "traceback": [
      "\u001b[0;31m---------------------------------------------------------------------------\u001b[0m",
      "\u001b[0;31mTypeError\u001b[0m                                 Traceback (most recent call last)",
      "\u001b[0;32m<ipython-input-241-da0e60a94ce3>\u001b[0m in \u001b[0;36m<module>\u001b[0;34m\u001b[0m\n\u001b[1;32m      1\u001b[0m \u001b[0mDJI_df_sorted\u001b[0m \u001b[0;34m=\u001b[0m \u001b[0mDJI_df\u001b[0m\u001b[0;34m.\u001b[0m\u001b[0msort_values\u001b[0m\u001b[0;34m(\u001b[0m\u001b[0;34m\"Close\"\u001b[0m\u001b[0;34m,\u001b[0m \u001b[0mascending\u001b[0m \u001b[0;34m=\u001b[0m \u001b[0;32mTrue\u001b[0m\u001b[0;34m)\u001b[0m\u001b[0;31m#.reset_index()\u001b[0m\u001b[0;34m\u001b[0m\u001b[0;34m\u001b[0m\u001b[0m\n\u001b[1;32m      2\u001b[0m \u001b[0mDJI_df_sorted\u001b[0m \u001b[0;34m=\u001b[0m \u001b[0mpd\u001b[0m\u001b[0;34m.\u001b[0m\u001b[0mDataFrame\u001b[0m\u001b[0;34m(\u001b[0m\u001b[0mDJI_df_sorted\u001b[0m\u001b[0;34m)\u001b[0m\u001b[0;34m\u001b[0m\u001b[0;34m\u001b[0m\u001b[0m\n\u001b[0;32m----> 3\u001b[0;31m \u001b[0mDJI_df_sorted\u001b[0m\u001b[0;34m.\u001b[0m\u001b[0mloc\u001b[0m\u001b[0;34m[\u001b[0m\u001b[0;34m[\u001b[0m\u001b[0mDJI_df_sorted\u001b[0m\u001b[0;34m[\u001b[0m\u001b[0;34m'2017-08-01'\u001b[0m\u001b[0;34m:\u001b[0m\u001b[0;34m'2018-02-01'\u001b[0m\u001b[0;34m,\u001b[0m\u001b[0;34m:\u001b[0m\u001b[0;34m]\u001b[0m\u001b[0;34m]\u001b[0m\u001b[0;34m]\u001b[0m\u001b[0;34m\u001b[0m\u001b[0;34m\u001b[0m\u001b[0m\n\u001b[0m",
      "\u001b[0;32m/opt/anaconda3/lib/python3.8/site-packages/pandas/core/frame.py\u001b[0m in \u001b[0;36m__getitem__\u001b[0;34m(self, key)\u001b[0m\n\u001b[1;32m   2798\u001b[0m             \u001b[0;32mif\u001b[0m \u001b[0mself\u001b[0m\u001b[0;34m.\u001b[0m\u001b[0mcolumns\u001b[0m\u001b[0;34m.\u001b[0m\u001b[0mnlevels\u001b[0m \u001b[0;34m>\u001b[0m \u001b[0;36m1\u001b[0m\u001b[0;34m:\u001b[0m\u001b[0;34m\u001b[0m\u001b[0;34m\u001b[0m\u001b[0m\n\u001b[1;32m   2799\u001b[0m                 \u001b[0;32mreturn\u001b[0m \u001b[0mself\u001b[0m\u001b[0;34m.\u001b[0m\u001b[0m_getitem_multilevel\u001b[0m\u001b[0;34m(\u001b[0m\u001b[0mkey\u001b[0m\u001b[0;34m)\u001b[0m\u001b[0;34m\u001b[0m\u001b[0;34m\u001b[0m\u001b[0m\n\u001b[0;32m-> 2800\u001b[0;31m             \u001b[0mindexer\u001b[0m \u001b[0;34m=\u001b[0m \u001b[0mself\u001b[0m\u001b[0;34m.\u001b[0m\u001b[0mcolumns\u001b[0m\u001b[0;34m.\u001b[0m\u001b[0mget_loc\u001b[0m\u001b[0;34m(\u001b[0m\u001b[0mkey\u001b[0m\u001b[0;34m)\u001b[0m\u001b[0;34m\u001b[0m\u001b[0;34m\u001b[0m\u001b[0m\n\u001b[0m\u001b[1;32m   2801\u001b[0m             \u001b[0;32mif\u001b[0m \u001b[0mis_integer\u001b[0m\u001b[0;34m(\u001b[0m\u001b[0mindexer\u001b[0m\u001b[0;34m)\u001b[0m\u001b[0;34m:\u001b[0m\u001b[0;34m\u001b[0m\u001b[0;34m\u001b[0m\u001b[0m\n\u001b[1;32m   2802\u001b[0m                 \u001b[0mindexer\u001b[0m \u001b[0;34m=\u001b[0m \u001b[0;34m[\u001b[0m\u001b[0mindexer\u001b[0m\u001b[0;34m]\u001b[0m\u001b[0;34m\u001b[0m\u001b[0;34m\u001b[0m\u001b[0m\n",
      "\u001b[0;32m/opt/anaconda3/lib/python3.8/site-packages/pandas/core/indexes/base.py\u001b[0m in \u001b[0;36mget_loc\u001b[0;34m(self, key, method, tolerance)\u001b[0m\n\u001b[1;32m   2644\u001b[0m                 )\n\u001b[1;32m   2645\u001b[0m             \u001b[0;32mtry\u001b[0m\u001b[0;34m:\u001b[0m\u001b[0;34m\u001b[0m\u001b[0;34m\u001b[0m\u001b[0m\n\u001b[0;32m-> 2646\u001b[0;31m                 \u001b[0;32mreturn\u001b[0m \u001b[0mself\u001b[0m\u001b[0;34m.\u001b[0m\u001b[0m_engine\u001b[0m\u001b[0;34m.\u001b[0m\u001b[0mget_loc\u001b[0m\u001b[0;34m(\u001b[0m\u001b[0mkey\u001b[0m\u001b[0;34m)\u001b[0m\u001b[0;34m\u001b[0m\u001b[0;34m\u001b[0m\u001b[0m\n\u001b[0m\u001b[1;32m   2647\u001b[0m             \u001b[0;32mexcept\u001b[0m \u001b[0mKeyError\u001b[0m\u001b[0;34m:\u001b[0m\u001b[0;34m\u001b[0m\u001b[0;34m\u001b[0m\u001b[0m\n\u001b[1;32m   2648\u001b[0m                 \u001b[0;32mreturn\u001b[0m \u001b[0mself\u001b[0m\u001b[0;34m.\u001b[0m\u001b[0m_engine\u001b[0m\u001b[0;34m.\u001b[0m\u001b[0mget_loc\u001b[0m\u001b[0;34m(\u001b[0m\u001b[0mself\u001b[0m\u001b[0;34m.\u001b[0m\u001b[0m_maybe_cast_indexer\u001b[0m\u001b[0;34m(\u001b[0m\u001b[0mkey\u001b[0m\u001b[0;34m)\u001b[0m\u001b[0;34m)\u001b[0m\u001b[0;34m\u001b[0m\u001b[0;34m\u001b[0m\u001b[0m\n",
      "\u001b[0;32mpandas/_libs/index.pyx\u001b[0m in \u001b[0;36mpandas._libs.index.IndexEngine.get_loc\u001b[0;34m()\u001b[0m\n",
      "\u001b[0;32mpandas/_libs/index.pyx\u001b[0m in \u001b[0;36mpandas._libs.index.IndexEngine.get_loc\u001b[0;34m()\u001b[0m\n",
      "\u001b[0;31mTypeError\u001b[0m: '(slice('2017-08-01', '2018-02-01', None), slice(None, None, None))' is an invalid key"
     ]
    }
   ],
   "source": [
    "DJI_df_sorted = DJI_df.sort_values(\"Close\", ascending = True)#.reset_index()\n",
    "DJI_df_sorted = pd.DataFrame(DJI_df_sorted)\n",
    "DJI_df_sorted.loc[[DJI_df_sorted['2017-08-01':'2018-02-01',:]]]"
   ]
  },
  {
   "cell_type": "code",
   "execution_count": 238,
   "id": "atomic-polls",
   "metadata": {},
   "outputs": [
    {
     "data": {
      "text/html": [
       "<div>\n",
       "<style scoped>\n",
       "    .dataframe tbody tr th:only-of-type {\n",
       "        vertical-align: middle;\n",
       "    }\n",
       "\n",
       "    .dataframe tbody tr th {\n",
       "        vertical-align: top;\n",
       "    }\n",
       "\n",
       "    .dataframe thead th {\n",
       "        text-align: right;\n",
       "    }\n",
       "</style>\n",
       "<table border=\"1\" class=\"dataframe\">\n",
       "  <thead>\n",
       "    <tr style=\"text-align: right;\">\n",
       "      <th></th>\n",
       "      <th>Date</th>\n",
       "      <th>Close</th>\n",
       "    </tr>\n",
       "  </thead>\n",
       "  <tbody>\n",
       "    <tr>\n",
       "      <th>0</th>\n",
       "      <td>2009-03-09</td>\n",
       "      <td>6547.049805</td>\n",
       "    </tr>\n",
       "    <tr>\n",
       "      <th>1</th>\n",
       "      <td>2009-03-05</td>\n",
       "      <td>6594.439941</td>\n",
       "    </tr>\n",
       "    <tr>\n",
       "      <th>2</th>\n",
       "      <td>2009-03-06</td>\n",
       "      <td>6626.939941</td>\n",
       "    </tr>\n",
       "    <tr>\n",
       "      <th>3</th>\n",
       "      <td>2009-03-03</td>\n",
       "      <td>6726.020020</td>\n",
       "    </tr>\n",
       "    <tr>\n",
       "      <th>4</th>\n",
       "      <td>2009-03-02</td>\n",
       "      <td>6763.290039</td>\n",
       "    </tr>\n",
       "  </tbody>\n",
       "</table>\n",
       "</div>"
      ],
      "text/plain": [
       "        Date        Close\n",
       "0 2009-03-09  6547.049805\n",
       "1 2009-03-05  6594.439941\n",
       "2 2009-03-06  6626.939941\n",
       "3 2009-03-03  6726.020020\n",
       "4 2009-03-02  6763.290039"
      ]
     },
     "execution_count": 238,
     "metadata": {},
     "output_type": "execute_result"
    }
   ],
   "source": [
    "DJI_df_sorted.groupby['Date'][2017-08-01':'2018-02-01']"
   ]
  },
  {
   "cell_type": "code",
   "execution_count": null,
   "id": "charitable-dream",
   "metadata": {},
   "outputs": [],
   "source": []
  }
 ],
 "metadata": {
  "kernelspec": {
   "display_name": "Python 3",
   "language": "python",
   "name": "python3"
  },
  "language_info": {
   "codemirror_mode": {
    "name": "ipython",
    "version": 3
   },
   "file_extension": ".py",
   "mimetype": "text/x-python",
   "name": "python",
   "nbconvert_exporter": "python",
   "pygments_lexer": "ipython3",
   "version": "3.8.5"
  }
 },
 "nbformat": 4,
 "nbformat_minor": 5
}
