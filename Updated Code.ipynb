{
 "cells": [
  {
   "cell_type": "code",
   "execution_count": 9,
   "id": "present-serbia",
   "metadata": {},
   "outputs": [],
   "source": [
    "# Loading Data \n",
    "import pandas as pd  \n",
    "import numpy as np\n",
    "from pathlib import Path\n",
    "import seaborn as sns\n",
    "#import alpaca_trade_api as tradeapi\n",
    "\n",
    "\n",
    "import hvplot.pandas\n",
    "import matplotlib.pyplot as plt\n",
    "%matplotlib inline\n",
    "import os \n",
    "from dotenv import load_dotenv\n",
    "import yfinance as yf\n",
    "import quandl\n",
    "import plotly.express as px\n",
    "import plotly.graph_objects as go"
   ]
  },
  {
   "cell_type": "code",
   "execution_count": 2,
   "id": "editorial-modern",
   "metadata": {},
   "outputs": [],
   "source": [
    "msft = yf.Ticker(\"CAKE\")\n",
    "hist =  msft.history(period=\"max\")\n",
    "#msft.info"
   ]
  },
  {
   "cell_type": "code",
   "execution_count": 3,
   "id": "sufficient-norman",
   "metadata": {},
   "outputs": [],
   "source": [
    "# Import Quandl API key\n",
    "load_dotenv()\n",
    "quandl_api_key = os.getenv(\"QUANDL_API_KEY\")"
   ]
  },
  {
   "cell_type": "code",
   "execution_count": 10,
   "id": "blocked-columbus",
   "metadata": {},
   "outputs": [
    {
     "ename": "LimitExceededError",
     "evalue": "(Status 429) (Quandl Error QELx01) You have exceeded the anonymous user limit of 50 calls per day. To make more calls today, please register for a free Quandl account and then include your API key with your requests.",
     "output_type": "error",
     "traceback": [
      "\u001b[0;31m---------------------------------------------------------------------------\u001b[0m",
      "\u001b[0;31mLimitExceededError\u001b[0m                        Traceback (most recent call last)",
      "\u001b[0;32m<ipython-input-10-b543dd66f308>\u001b[0m in \u001b[0;36m<module>\u001b[0;34m\u001b[0m\n\u001b[1;32m      1\u001b[0m \u001b[0;31m# GDP from Quandl\u001b[0m\u001b[0;34m\u001b[0m\u001b[0;34m\u001b[0m\u001b[0;34m\u001b[0m\u001b[0m\n\u001b[0;32m----> 2\u001b[0;31m \u001b[0mgdp\u001b[0m \u001b[0;34m=\u001b[0m \u001b[0mquandl\u001b[0m\u001b[0;34m.\u001b[0m\u001b[0mget\u001b[0m\u001b[0;34m(\u001b[0m\u001b[0;34m\"FRED/GDP\"\u001b[0m\u001b[0;34m)\u001b[0m\u001b[0;34m\u001b[0m\u001b[0;34m\u001b[0m\u001b[0m\n\u001b[0m\u001b[1;32m      3\u001b[0m \u001b[0mgdp\u001b[0m\u001b[0;34m.\u001b[0m\u001b[0mrename\u001b[0m\u001b[0;34m(\u001b[0m\u001b[0mcolumns\u001b[0m\u001b[0;34m=\u001b[0m\u001b[0;34m{\u001b[0m \u001b[0;34m\"Value\"\u001b[0m \u001b[0;34m:\u001b[0m \u001b[0;34m\"GDP\"\u001b[0m\u001b[0;34m}\u001b[0m\u001b[0;34m,\u001b[0m \u001b[0minplace\u001b[0m \u001b[0;34m=\u001b[0m \u001b[0;32mTrue\u001b[0m\u001b[0;34m)\u001b[0m\u001b[0;34m\u001b[0m\u001b[0;34m\u001b[0m\u001b[0m\n\u001b[1;32m      4\u001b[0m \u001b[0mgdp\u001b[0m\u001b[0;34m.\u001b[0m\u001b[0mtail\u001b[0m\u001b[0;34m(\u001b[0m\u001b[0;34m)\u001b[0m\u001b[0;34m\u001b[0m\u001b[0;34m\u001b[0m\u001b[0m\n",
      "\u001b[0;32m/opt/anaconda3/envs/pyvizenv/lib/python3.7/site-packages/quandl/get.py\u001b[0m in \u001b[0;36mget\u001b[0;34m(dataset, **kwargs)\u001b[0m\n\u001b[1;32m     46\u001b[0m         \u001b[0;32mif\u001b[0m \u001b[0mdataset_args\u001b[0m\u001b[0;34m[\u001b[0m\u001b[0;34m'column_index'\u001b[0m\u001b[0;34m]\u001b[0m \u001b[0;32mis\u001b[0m \u001b[0;32mnot\u001b[0m \u001b[0;32mNone\u001b[0m\u001b[0;34m:\u001b[0m\u001b[0;34m\u001b[0m\u001b[0;34m\u001b[0m\u001b[0m\n\u001b[1;32m     47\u001b[0m             \u001b[0mkwargs\u001b[0m\u001b[0;34m.\u001b[0m\u001b[0mupdate\u001b[0m\u001b[0;34m(\u001b[0m\u001b[0;34m{\u001b[0m\u001b[0;34m'column_index'\u001b[0m\u001b[0;34m:\u001b[0m \u001b[0mdataset_args\u001b[0m\u001b[0;34m[\u001b[0m\u001b[0;34m'column_index'\u001b[0m\u001b[0;34m]\u001b[0m\u001b[0;34m}\u001b[0m\u001b[0;34m)\u001b[0m\u001b[0;34m\u001b[0m\u001b[0;34m\u001b[0m\u001b[0m\n\u001b[0;32m---> 48\u001b[0;31m         \u001b[0mdata\u001b[0m \u001b[0;34m=\u001b[0m \u001b[0mDataset\u001b[0m\u001b[0;34m(\u001b[0m\u001b[0mdataset_args\u001b[0m\u001b[0;34m[\u001b[0m\u001b[0;34m'code'\u001b[0m\u001b[0;34m]\u001b[0m\u001b[0;34m)\u001b[0m\u001b[0;34m.\u001b[0m\u001b[0mdata\u001b[0m\u001b[0;34m(\u001b[0m\u001b[0mparams\u001b[0m\u001b[0;34m=\u001b[0m\u001b[0mkwargs\u001b[0m\u001b[0;34m,\u001b[0m \u001b[0mhandle_column_not_found\u001b[0m\u001b[0;34m=\u001b[0m\u001b[0;32mTrue\u001b[0m\u001b[0;34m)\u001b[0m\u001b[0;34m\u001b[0m\u001b[0;34m\u001b[0m\u001b[0m\n\u001b[0m\u001b[1;32m     49\u001b[0m     \u001b[0;31m# Array\u001b[0m\u001b[0;34m\u001b[0m\u001b[0;34m\u001b[0m\u001b[0;34m\u001b[0m\u001b[0m\n\u001b[1;32m     50\u001b[0m     \u001b[0;32melif\u001b[0m \u001b[0misinstance\u001b[0m\u001b[0;34m(\u001b[0m\u001b[0mdataset\u001b[0m\u001b[0;34m,\u001b[0m \u001b[0mlist\u001b[0m\u001b[0;34m)\u001b[0m\u001b[0;34m:\u001b[0m\u001b[0;34m\u001b[0m\u001b[0;34m\u001b[0m\u001b[0m\n",
      "\u001b[0;32m/opt/anaconda3/envs/pyvizenv/lib/python3.7/site-packages/quandl/model/dataset.py\u001b[0m in \u001b[0;36mdata\u001b[0;34m(self, **options)\u001b[0m\n\u001b[1;32m     45\u001b[0m         \u001b[0mupdated_options\u001b[0m \u001b[0;34m=\u001b[0m \u001b[0mUtil\u001b[0m\u001b[0;34m.\u001b[0m\u001b[0mmerge_options\u001b[0m\u001b[0;34m(\u001b[0m\u001b[0;34m'params'\u001b[0m\u001b[0;34m,\u001b[0m \u001b[0mparams\u001b[0m\u001b[0;34m,\u001b[0m \u001b[0;34m**\u001b[0m\u001b[0moptions\u001b[0m\u001b[0;34m)\u001b[0m\u001b[0;34m\u001b[0m\u001b[0;34m\u001b[0m\u001b[0m\n\u001b[1;32m     46\u001b[0m         \u001b[0;32mtry\u001b[0m\u001b[0;34m:\u001b[0m\u001b[0;34m\u001b[0m\u001b[0;34m\u001b[0m\u001b[0m\n\u001b[0;32m---> 47\u001b[0;31m             \u001b[0;32mreturn\u001b[0m \u001b[0mData\u001b[0m\u001b[0;34m.\u001b[0m\u001b[0mall\u001b[0m\u001b[0;34m(\u001b[0m\u001b[0;34m**\u001b[0m\u001b[0mupdated_options\u001b[0m\u001b[0;34m)\u001b[0m\u001b[0;34m\u001b[0m\u001b[0;34m\u001b[0m\u001b[0m\n\u001b[0m\u001b[1;32m     48\u001b[0m         \u001b[0;32mexcept\u001b[0m \u001b[0mNotFoundError\u001b[0m\u001b[0;34m:\u001b[0m\u001b[0;34m\u001b[0m\u001b[0;34m\u001b[0m\u001b[0m\n\u001b[1;32m     49\u001b[0m             \u001b[0;32mif\u001b[0m \u001b[0mhandle_not_found_error\u001b[0m\u001b[0;34m:\u001b[0m\u001b[0;34m\u001b[0m\u001b[0;34m\u001b[0m\u001b[0m\n",
      "\u001b[0;32m/opt/anaconda3/envs/pyvizenv/lib/python3.7/site-packages/quandl/operations/list.py\u001b[0m in \u001b[0;36mall\u001b[0;34m(cls, **options)\u001b[0m\n\u001b[1;32m     13\u001b[0m             \u001b[0moptions\u001b[0m\u001b[0;34m[\u001b[0m\u001b[0;34m'params'\u001b[0m\u001b[0;34m]\u001b[0m \u001b[0;34m=\u001b[0m \u001b[0;34m{\u001b[0m\u001b[0;34m}\u001b[0m\u001b[0;34m\u001b[0m\u001b[0;34m\u001b[0m\u001b[0m\n\u001b[1;32m     14\u001b[0m         \u001b[0mpath\u001b[0m \u001b[0;34m=\u001b[0m \u001b[0mUtil\u001b[0m\u001b[0;34m.\u001b[0m\u001b[0mconstructed_path\u001b[0m\u001b[0;34m(\u001b[0m\u001b[0mcls\u001b[0m\u001b[0;34m.\u001b[0m\u001b[0mlist_path\u001b[0m\u001b[0;34m(\u001b[0m\u001b[0;34m)\u001b[0m\u001b[0;34m,\u001b[0m \u001b[0moptions\u001b[0m\u001b[0;34m[\u001b[0m\u001b[0;34m'params'\u001b[0m\u001b[0;34m]\u001b[0m\u001b[0;34m)\u001b[0m\u001b[0;34m\u001b[0m\u001b[0;34m\u001b[0m\u001b[0m\n\u001b[0;32m---> 15\u001b[0;31m         \u001b[0mr\u001b[0m \u001b[0;34m=\u001b[0m \u001b[0mConnection\u001b[0m\u001b[0;34m.\u001b[0m\u001b[0mrequest\u001b[0m\u001b[0;34m(\u001b[0m\u001b[0;34m'get'\u001b[0m\u001b[0;34m,\u001b[0m \u001b[0mpath\u001b[0m\u001b[0;34m,\u001b[0m \u001b[0;34m**\u001b[0m\u001b[0moptions\u001b[0m\u001b[0;34m)\u001b[0m\u001b[0;34m\u001b[0m\u001b[0;34m\u001b[0m\u001b[0m\n\u001b[0m\u001b[1;32m     16\u001b[0m         \u001b[0mresponse_data\u001b[0m \u001b[0;34m=\u001b[0m \u001b[0mr\u001b[0m\u001b[0;34m.\u001b[0m\u001b[0mjson\u001b[0m\u001b[0;34m(\u001b[0m\u001b[0;34m)\u001b[0m\u001b[0;34m\u001b[0m\u001b[0;34m\u001b[0m\u001b[0m\n\u001b[1;32m     17\u001b[0m         \u001b[0mUtil\u001b[0m\u001b[0;34m.\u001b[0m\u001b[0mconvert_to_dates\u001b[0m\u001b[0;34m(\u001b[0m\u001b[0mresponse_data\u001b[0m\u001b[0;34m)\u001b[0m\u001b[0;34m\u001b[0m\u001b[0;34m\u001b[0m\u001b[0m\n",
      "\u001b[0;32m/opt/anaconda3/envs/pyvizenv/lib/python3.7/site-packages/quandl/connection.py\u001b[0m in \u001b[0;36mrequest\u001b[0;34m(cls, http_verb, url, **options)\u001b[0m\n\u001b[1;32m     36\u001b[0m         \u001b[0mabs_url\u001b[0m \u001b[0;34m=\u001b[0m \u001b[0;34m'%s/%s'\u001b[0m \u001b[0;34m%\u001b[0m \u001b[0;34m(\u001b[0m\u001b[0mApiConfig\u001b[0m\u001b[0;34m.\u001b[0m\u001b[0mapi_base\u001b[0m\u001b[0;34m,\u001b[0m \u001b[0murl\u001b[0m\u001b[0;34m)\u001b[0m\u001b[0;34m\u001b[0m\u001b[0;34m\u001b[0m\u001b[0m\n\u001b[1;32m     37\u001b[0m \u001b[0;34m\u001b[0m\u001b[0m\n\u001b[0;32m---> 38\u001b[0;31m         \u001b[0;32mreturn\u001b[0m \u001b[0mcls\u001b[0m\u001b[0;34m.\u001b[0m\u001b[0mexecute_request\u001b[0m\u001b[0;34m(\u001b[0m\u001b[0mhttp_verb\u001b[0m\u001b[0;34m,\u001b[0m \u001b[0mabs_url\u001b[0m\u001b[0;34m,\u001b[0m \u001b[0;34m**\u001b[0m\u001b[0moptions\u001b[0m\u001b[0;34m)\u001b[0m\u001b[0;34m\u001b[0m\u001b[0;34m\u001b[0m\u001b[0m\n\u001b[0m\u001b[1;32m     39\u001b[0m \u001b[0;34m\u001b[0m\u001b[0m\n\u001b[1;32m     40\u001b[0m     \u001b[0;34m@\u001b[0m\u001b[0mclassmethod\u001b[0m\u001b[0;34m\u001b[0m\u001b[0;34m\u001b[0m\u001b[0m\n",
      "\u001b[0;32m/opt/anaconda3/envs/pyvizenv/lib/python3.7/site-packages/quandl/connection.py\u001b[0m in \u001b[0;36mexecute_request\u001b[0;34m(cls, http_verb, url, **options)\u001b[0m\n\u001b[1;32m     48\u001b[0m                                        **options)\n\u001b[1;32m     49\u001b[0m             \u001b[0;32mif\u001b[0m \u001b[0mresponse\u001b[0m\u001b[0;34m.\u001b[0m\u001b[0mstatus_code\u001b[0m \u001b[0;34m<\u001b[0m \u001b[0;36m200\u001b[0m \u001b[0;32mor\u001b[0m \u001b[0mresponse\u001b[0m\u001b[0;34m.\u001b[0m\u001b[0mstatus_code\u001b[0m \u001b[0;34m>=\u001b[0m \u001b[0;36m300\u001b[0m\u001b[0;34m:\u001b[0m\u001b[0;34m\u001b[0m\u001b[0;34m\u001b[0m\u001b[0m\n\u001b[0;32m---> 50\u001b[0;31m                 \u001b[0mcls\u001b[0m\u001b[0;34m.\u001b[0m\u001b[0mhandle_api_error\u001b[0m\u001b[0;34m(\u001b[0m\u001b[0mresponse\u001b[0m\u001b[0;34m)\u001b[0m\u001b[0;34m\u001b[0m\u001b[0;34m\u001b[0m\u001b[0m\n\u001b[0m\u001b[1;32m     51\u001b[0m             \u001b[0;32melse\u001b[0m\u001b[0;34m:\u001b[0m\u001b[0;34m\u001b[0m\u001b[0;34m\u001b[0m\u001b[0m\n\u001b[1;32m     52\u001b[0m                 \u001b[0;32mreturn\u001b[0m \u001b[0mresponse\u001b[0m\u001b[0;34m\u001b[0m\u001b[0;34m\u001b[0m\u001b[0m\n",
      "\u001b[0;32m/opt/anaconda3/envs/pyvizenv/lib/python3.7/site-packages/quandl/connection.py\u001b[0m in \u001b[0;36mhandle_api_error\u001b[0;34m(cls, resp)\u001b[0m\n\u001b[1;32m    112\u001b[0m         \u001b[0mklass\u001b[0m \u001b[0;34m=\u001b[0m \u001b[0md_klass\u001b[0m\u001b[0;34m.\u001b[0m\u001b[0mget\u001b[0m\u001b[0;34m(\u001b[0m\u001b[0mcode_letter\u001b[0m\u001b[0;34m,\u001b[0m \u001b[0mQuandlError\u001b[0m\u001b[0;34m)\u001b[0m\u001b[0;34m\u001b[0m\u001b[0;34m\u001b[0m\u001b[0m\n\u001b[1;32m    113\u001b[0m \u001b[0;34m\u001b[0m\u001b[0m\n\u001b[0;32m--> 114\u001b[0;31m         \u001b[0;32mraise\u001b[0m \u001b[0mklass\u001b[0m\u001b[0;34m(\u001b[0m\u001b[0mmessage\u001b[0m\u001b[0;34m,\u001b[0m \u001b[0mresp\u001b[0m\u001b[0;34m.\u001b[0m\u001b[0mstatus_code\u001b[0m\u001b[0;34m,\u001b[0m \u001b[0mresp\u001b[0m\u001b[0;34m.\u001b[0m\u001b[0mtext\u001b[0m\u001b[0;34m,\u001b[0m \u001b[0mresp\u001b[0m\u001b[0;34m.\u001b[0m\u001b[0mheaders\u001b[0m\u001b[0;34m,\u001b[0m \u001b[0mcode\u001b[0m\u001b[0;34m)\u001b[0m\u001b[0;34m\u001b[0m\u001b[0;34m\u001b[0m\u001b[0m\n\u001b[0m",
      "\u001b[0;31mLimitExceededError\u001b[0m: (Status 429) (Quandl Error QELx01) You have exceeded the anonymous user limit of 50 calls per day. To make more calls today, please register for a free Quandl account and then include your API key with your requests."
     ]
    }
   ],
   "source": [
    "# GDP from Quandl \n",
    "gdp = quandl.get(\"FRED/GDP\")\n",
    "gdp.rename(columns={ \"Value\" : \"GDP\"}, inplace = True)\n",
    "gdp.tail()"
   ]
  },
  {
   "cell_type": "code",
   "execution_count": null,
   "id": "antique-ecology",
   "metadata": {},
   "outputs": [],
   "source": [
    "# SP 500 PE Ratio from Quandl \n",
    "sp500 = quandl.get(\"MULTPL/SP500_REAL_PRICE_MONTH\")\n",
    "sp500.rename(columns={ \"Value\" : \"SP500\"}, inplace = True)\n",
    "sp500.hvplot()"
   ]
  },
  {
   "cell_type": "code",
   "execution_count": null,
   "id": "according-camera",
   "metadata": {},
   "outputs": [],
   "source": [
    "sp500.head()"
   ]
  },
  {
   "cell_type": "code",
   "execution_count": null,
   "id": "rough-penny",
   "metadata": {},
   "outputs": [],
   "source": [
    "#sp500_global = sp500[\"SP500\"]*0.60\n",
    "#sp500_global = pd.DataFrame(sp500_global)\n",
    "#sp500_global.head()"
   ]
  },
  {
   "cell_type": "code",
   "execution_count": null,
   "id": "banned-necklace",
   "metadata": {},
   "outputs": [],
   "source": [
    "#sp500_and_gdp_global = pd.concat([sp500_global,gdp], axis = 'columns', join = 'inner').reset_index()\n",
    "#sp500_and_gdp_global.tail()"
   ]
  },
  {
   "cell_type": "code",
   "execution_count": null,
   "id": "dressed-success",
   "metadata": {},
   "outputs": [],
   "source": [
    "#sp500_and_real_gdp_global = pd.concat([sp500_global,real_gdp], axis = 'columns', join = 'inner').reset_index()\n",
    "#sp500_and_real_gdp_global.tail()"
   ]
  },
  {
   "cell_type": "code",
   "execution_count": null,
   "id": "dramatic-tenant",
   "metadata": {},
   "outputs": [],
   "source": [
    "#sp500_and_real_gdp_global = pd.DataFrame(sp500_and_real_gdp_global)\n",
    "#sp500_and_real_gdp_global[\"Ratio\"] = 'NA'\n",
    "#sp500_and_real_gdp_global = sp500_and_real_gdp_global.set_index(\"Date\")\n",
    "#sp500_and_real_gdp_global.head()"
   ]
  },
  {
   "cell_type": "code",
   "execution_count": null,
   "id": "stupid-tackle",
   "metadata": {},
   "outputs": [],
   "source": [
    "#sp500_and_real_gdp_global[[\"Ratio\"]] = sp500_and_real_gdp_global[\"SP500\"] / sp500_and_real_gdp_global[\"Real GDP\"]"
   ]
  },
  {
   "cell_type": "code",
   "execution_count": null,
   "id": "moving-tracy",
   "metadata": {},
   "outputs": [],
   "source": [
    "#sp500_and_real_gdp_global[\"Ratio\"].hvplot()"
   ]
  },
  {
   "cell_type": "code",
   "execution_count": 5,
   "id": "identical-episode",
   "metadata": {},
   "outputs": [
    {
     "ename": "NameError",
     "evalue": "name 'sp500' is not defined",
     "output_type": "error",
     "traceback": [
      "\u001b[0;31m---------------------------------------------------------------------------\u001b[0m",
      "\u001b[0;31mNameError\u001b[0m                                 Traceback (most recent call last)",
      "\u001b[0;32m<ipython-input-5-0f917ddb7322>\u001b[0m in \u001b[0;36m<module>\u001b[0;34m\u001b[0m\n\u001b[0;32m----> 1\u001b[0;31m \u001b[0msp500_and_gdp\u001b[0m \u001b[0;34m=\u001b[0m \u001b[0mpd\u001b[0m\u001b[0;34m.\u001b[0m\u001b[0mconcat\u001b[0m\u001b[0;34m(\u001b[0m\u001b[0;34m[\u001b[0m\u001b[0msp500\u001b[0m\u001b[0;34m,\u001b[0m\u001b[0mgdp\u001b[0m\u001b[0;34m]\u001b[0m\u001b[0;34m,\u001b[0m \u001b[0maxis\u001b[0m \u001b[0;34m=\u001b[0m \u001b[0;34m'columns'\u001b[0m\u001b[0;34m,\u001b[0m \u001b[0mjoin\u001b[0m \u001b[0;34m=\u001b[0m \u001b[0;34m'inner'\u001b[0m\u001b[0;34m)\u001b[0m\u001b[0;34m.\u001b[0m\u001b[0mreset_index\u001b[0m\u001b[0;34m(\u001b[0m\u001b[0;34m)\u001b[0m\u001b[0;34m\u001b[0m\u001b[0;34m\u001b[0m\u001b[0m\n\u001b[0m\u001b[1;32m      2\u001b[0m \u001b[0msp500_and_gdp\u001b[0m\u001b[0;34m.\u001b[0m\u001b[0mtail\u001b[0m\u001b[0;34m(\u001b[0m\u001b[0;34m)\u001b[0m\u001b[0;34m\u001b[0m\u001b[0;34m\u001b[0m\u001b[0m\n",
      "\u001b[0;31mNameError\u001b[0m: name 'sp500' is not defined"
     ]
    }
   ],
   "source": [
    "sp500_and_gdp = pd.concat([sp500,gdp], axis = 'columns', join = 'inner').reset_index()\n",
    "sp500_and_gdp.tail()"
   ]
  },
  {
   "cell_type": "code",
   "execution_count": 6,
   "id": "cubic-scratch",
   "metadata": {},
   "outputs": [
    {
     "data": {
      "text/html": [
       "<div>\n",
       "<style scoped>\n",
       "    .dataframe tbody tr th:only-of-type {\n",
       "        vertical-align: middle;\n",
       "    }\n",
       "\n",
       "    .dataframe tbody tr th {\n",
       "        vertical-align: top;\n",
       "    }\n",
       "\n",
       "    .dataframe thead th {\n",
       "        text-align: right;\n",
       "    }\n",
       "</style>\n",
       "<table border=\"1\" class=\"dataframe\">\n",
       "  <thead>\n",
       "    <tr style=\"text-align: right;\">\n",
       "      <th></th>\n",
       "      <th>Real GDP</th>\n",
       "    </tr>\n",
       "    <tr>\n",
       "      <th>Date</th>\n",
       "      <th></th>\n",
       "    </tr>\n",
       "  </thead>\n",
       "  <tbody>\n",
       "    <tr>\n",
       "      <th>2047-01-01</th>\n",
       "      <td>40.10183</td>\n",
       "    </tr>\n",
       "    <tr>\n",
       "      <th>2047-04-01</th>\n",
       "      <td>39.99488</td>\n",
       "    </tr>\n",
       "    <tr>\n",
       "      <th>2047-07-01</th>\n",
       "      <td>39.91230</td>\n",
       "    </tr>\n",
       "    <tr>\n",
       "      <th>2047-10-01</th>\n",
       "      <td>40.53661</td>\n",
       "    </tr>\n",
       "    <tr>\n",
       "      <th>2048-01-01</th>\n",
       "      <td>41.14638</td>\n",
       "    </tr>\n",
       "  </tbody>\n",
       "</table>\n",
       "</div>"
      ],
      "text/plain": [
       "            Real GDP\n",
       "Date                \n",
       "2047-01-01  40.10183\n",
       "2047-04-01  39.99488\n",
       "2047-07-01  39.91230\n",
       "2047-10-01  40.53661\n",
       "2048-01-01  41.14638"
      ]
     },
     "execution_count": 6,
     "metadata": {},
     "output_type": "execute_result"
    }
   ],
   "source": [
    "real_gdp_path = Path(\"data/GDPC1.csv\")\n",
    "real_gdp = pd.read_csv(real_gdp_path,parse_dates=True, index_col='Date', infer_datetime_format=True)\n",
    "real_gdp.head()"
   ]
  },
  {
   "cell_type": "code",
   "execution_count": 7,
   "id": "breeding-chambers",
   "metadata": {},
   "outputs": [
    {
     "ename": "NameError",
     "evalue": "name 'sp500' is not defined",
     "output_type": "error",
     "traceback": [
      "\u001b[0;31m---------------------------------------------------------------------------\u001b[0m",
      "\u001b[0;31mNameError\u001b[0m                                 Traceback (most recent call last)",
      "\u001b[0;32m<ipython-input-7-fa8ee379b684>\u001b[0m in \u001b[0;36m<module>\u001b[0;34m\u001b[0m\n\u001b[0;32m----> 1\u001b[0;31m \u001b[0msp500_and_real_gdp\u001b[0m \u001b[0;34m=\u001b[0m \u001b[0mpd\u001b[0m\u001b[0;34m.\u001b[0m\u001b[0mconcat\u001b[0m\u001b[0;34m(\u001b[0m\u001b[0;34m[\u001b[0m\u001b[0msp500\u001b[0m\u001b[0;34m,\u001b[0m\u001b[0mreal_gdp\u001b[0m\u001b[0;34m]\u001b[0m\u001b[0;34m,\u001b[0m \u001b[0maxis\u001b[0m \u001b[0;34m=\u001b[0m \u001b[0;34m'columns'\u001b[0m\u001b[0;34m,\u001b[0m \u001b[0mjoin\u001b[0m \u001b[0;34m=\u001b[0m \u001b[0;34m'inner'\u001b[0m\u001b[0;34m)\u001b[0m\u001b[0;34m.\u001b[0m\u001b[0mreset_index\u001b[0m\u001b[0;34m(\u001b[0m\u001b[0;34m)\u001b[0m\u001b[0;34m\u001b[0m\u001b[0;34m\u001b[0m\u001b[0m\n\u001b[0m\u001b[1;32m      2\u001b[0m \u001b[0msp500_and_real_gdp\u001b[0m\u001b[0;34m.\u001b[0m\u001b[0mtail\u001b[0m\u001b[0;34m(\u001b[0m\u001b[0;34m)\u001b[0m\u001b[0;34m\u001b[0m\u001b[0;34m\u001b[0m\u001b[0m\n",
      "\u001b[0;31mNameError\u001b[0m: name 'sp500' is not defined"
     ]
    }
   ],
   "source": [
    "sp500_and_real_gdp = pd.concat([sp500,real_gdp], axis = 'columns', join = 'inner').reset_index()\n",
    "sp500_and_real_gdp.tail()"
   ]
  },
  {
   "cell_type": "code",
   "execution_count": 8,
   "id": "independent-pendant",
   "metadata": {},
   "outputs": [
    {
     "ename": "NameError",
     "evalue": "name 'sp500_and_real_gdp' is not defined",
     "output_type": "error",
     "traceback": [
      "\u001b[0;31m---------------------------------------------------------------------------\u001b[0m",
      "\u001b[0;31mNameError\u001b[0m                                 Traceback (most recent call last)",
      "\u001b[0;32m<ipython-input-8-1d453bf2ad7d>\u001b[0m in \u001b[0;36m<module>\u001b[0;34m\u001b[0m\n\u001b[0;32m----> 1\u001b[0;31m \u001b[0msp500_and_real_gdp\u001b[0m \u001b[0;34m=\u001b[0m \u001b[0mpd\u001b[0m\u001b[0;34m.\u001b[0m\u001b[0mDataFrame\u001b[0m\u001b[0;34m(\u001b[0m\u001b[0msp500_and_real_gdp\u001b[0m\u001b[0;34m)\u001b[0m\u001b[0;34m\u001b[0m\u001b[0;34m\u001b[0m\u001b[0m\n\u001b[0m\u001b[1;32m      2\u001b[0m \u001b[0msp500_and_real_gdp\u001b[0m\u001b[0;34m[\u001b[0m\u001b[0;34m\"Ratio\"\u001b[0m\u001b[0;34m]\u001b[0m \u001b[0;34m=\u001b[0m \u001b[0;34m'NA'\u001b[0m\u001b[0;34m\u001b[0m\u001b[0;34m\u001b[0m\u001b[0m\n\u001b[1;32m      3\u001b[0m \u001b[0msp500_and_real_gdp\u001b[0m \u001b[0;34m=\u001b[0m \u001b[0msp500_and_real_gdp\u001b[0m\u001b[0;34m.\u001b[0m\u001b[0mset_index\u001b[0m\u001b[0;34m(\u001b[0m\u001b[0;34m\"Date\"\u001b[0m\u001b[0;34m)\u001b[0m\u001b[0;34m\u001b[0m\u001b[0;34m\u001b[0m\u001b[0m\n\u001b[1;32m      4\u001b[0m \u001b[0msp500_and_real_gdp\u001b[0m\u001b[0;34m.\u001b[0m\u001b[0mhead\u001b[0m\u001b[0;34m(\u001b[0m\u001b[0;34m)\u001b[0m\u001b[0;34m\u001b[0m\u001b[0;34m\u001b[0m\u001b[0m\n",
      "\u001b[0;31mNameError\u001b[0m: name 'sp500_and_real_gdp' is not defined"
     ]
    }
   ],
   "source": [
    "sp500_and_real_gdp = pd.DataFrame(sp500_and_real_gdp)\n",
    "sp500_and_real_gdp[\"Ratio\"] = 'NA'\n",
    "sp500_and_real_gdp = sp500_and_real_gdp.set_index(\"Date\")\n",
    "sp500_and_real_gdp.head()"
   ]
  },
  {
   "cell_type": "code",
   "execution_count": null,
   "id": "referenced-sigma",
   "metadata": {},
   "outputs": [],
   "source": [
    "sp500_and_real_gdp[[\"Ratio\"]] = sp500_and_real_gdp[\"SP500\"] / sp500_and_real_gdp[\"Real GDP\"]"
   ]
  },
  {
   "cell_type": "code",
   "execution_count": null,
   "id": "intimate-cameroon",
   "metadata": {},
   "outputs": [],
   "source": [
    "sp500_and_real_gdp_raio_plot = sp500_and_real_gdp[\"Ratio\"].hvplot()\n",
    "sp500_and_real_gdp_raio_plot"
   ]
  },
  {
   "cell_type": "code",
   "execution_count": null,
   "id": "massive-image",
   "metadata": {},
   "outputs": [],
   "source": []
  },
  {
   "cell_type": "code",
   "execution_count": null,
   "id": "collectible-wells",
   "metadata": {},
   "outputs": [],
   "source": [
    "sp500_and_gdp = pd.DataFrame(sp500_and_gdp)\n",
    "sp500_and_gdp[\"Ratio\"] = 'NA'\n",
    "sp500_and_gdp = sp500_and_gdp.set_index(\"Date\")\n",
    "sp500_and_gdp.head()"
   ]
  },
  {
   "cell_type": "code",
   "execution_count": null,
   "id": "configured-capitol",
   "metadata": {},
   "outputs": [],
   "source": [
    "sp500_and_gdp[[\"Ratio\"]] = sp500_and_gdp[\"SP500\"] / sp500_and_gdp[\"GDP\"]"
   ]
  },
  {
   "cell_type": "code",
   "execution_count": null,
   "id": "funky-decision",
   "metadata": {},
   "outputs": [],
   "source": []
  },
  {
   "cell_type": "code",
   "execution_count": null,
   "id": "opposite-extra",
   "metadata": {},
   "outputs": [],
   "source": []
  },
  {
   "cell_type": "code",
   "execution_count": null,
   "id": "meaningful-gallery",
   "metadata": {},
   "outputs": [],
   "source": []
  },
  {
   "cell_type": "code",
   "execution_count": null,
   "id": "impressive-bones",
   "metadata": {},
   "outputs": [],
   "source": [
    "sp500_to_gdp_ratio_plot"
   ]
  },
  {
   "cell_type": "code",
   "execution_count": null,
   "id": "painful-present",
   "metadata": {},
   "outputs": [],
   "source": [
    "sp500_and_gdp[[\"Ratio\"]].mean()"
   ]
  },
  {
   "cell_type": "code",
   "execution_count": null,
   "id": "widespread-novelty",
   "metadata": {},
   "outputs": [],
   "source": [
    "sp500_and_real_gdp_raio_plot"
   ]
  },
  {
   "cell_type": "code",
   "execution_count": null,
   "id": "skilled-america",
   "metadata": {},
   "outputs": [],
   "source": [
    "conf_chart"
   ]
  },
  {
   "cell_type": "code",
   "execution_count": null,
   "id": "scheduled-dodge",
   "metadata": {},
   "outputs": [],
   "source": []
  },
  {
   "cell_type": "code",
   "execution_count": null,
   "id": "returning-drama",
   "metadata": {},
   "outputs": [],
   "source": [
    "sp500_and_gdp = pd.DataFrame(sp500_and_gdp)\n",
    "sp500_and_gdp[\"Ratio\"] = 'NA'\n",
    "sp500_and_gdp = sp500_and_gdp\n",
    "sp500_and_gdp.head()"
   ]
  },
  {
   "cell_type": "code",
   "execution_count": null,
   "id": "laughing-damages",
   "metadata": {},
   "outputs": [],
   "source": [
    "sp500_and_gdp[[\"Ratio\"]] = sp500_and_gdp[\"SP500\"] / sp500_and_gdp[\"GDP\"]"
   ]
  },
  {
   "cell_type": "code",
   "execution_count": null,
   "id": "hawaiian-actor",
   "metadata": {},
   "outputs": [],
   "source": [
    "sp500_and_gdp[[\"Ratio\"]].mean()"
   ]
  },
  {
   "cell_type": "code",
   "execution_count": null,
   "id": "conscious-psychology",
   "metadata": {},
   "outputs": [],
   "source": [
    "sp500_plot = sp500.hvplot()"
   ]
  },
  {
   "cell_type": "code",
   "execution_count": null,
   "id": "understanding-november",
   "metadata": {},
   "outputs": [],
   "source": [
    "# SP500 to GDP Ratio is the SP500 to the United States GDP\n",
    "sp500_to_gdp_ratio_plot = sp500_and_gdp[\"Ratio\"].hvplot()\n",
    "sp500_to_gdp_ratio_plot + sp500_plot"
   ]
  },
  {
   "cell_type": "code",
   "execution_count": null,
   "id": "sunset-knitting",
   "metadata": {},
   "outputs": [],
   "source": [
    "conf_chart"
   ]
  },
  {
   "cell_type": "code",
   "execution_count": null,
   "id": "compressed-chaos",
   "metadata": {},
   "outputs": [],
   "source": [
    "# SP 500 PE Ratio from Quandl \n",
    "sp500pe = quandl.get(\"MULTPL/SP500_PE_RATIO_MONTH\")\n",
    "sp500pe.hvplot()\n",
    "#sp500pe.mean()"
   ]
  },
  {
   "cell_type": "code",
   "execution_count": null,
   "id": "tribal-canon",
   "metadata": {},
   "outputs": [],
   "source": [
    "# Cheesecake Factory Data from 2001\n",
    "cheesecake = yf.Ticker(\"CAKE\")\n",
    "cheesecake_df = cheesecake.history(period=\"20y\",interval = \"1mo\").reset_index()\n",
    "cheesecake_df = cheesecake_df[['Date', 'Close']].set_index('Date').dropna()\n",
    "cheesecake_df.head()"
   ]
  },
  {
   "cell_type": "code",
   "execution_count": null,
   "id": "formed-bradford",
   "metadata": {},
   "outputs": [],
   "source": [
    "cheese_pct_change = cheesecake_df.pct_change().dropna()\n",
    "confidence_pct_change = confidence[[\"US Institutional\"]].pct_change().dropna()\n",
    "confidence_pct_change.head()"
   ]
  },
  {
   "cell_type": "code",
   "execution_count": null,
   "id": "simple-bridge",
   "metadata": {},
   "outputs": [],
   "source": [
    "# Import confidence Data \n",
    "confidence_path = Path(\"data/one_year_confidence.csv\")\n",
    "confidence = pd.read_csv(confidence_path,parse_dates=True, index_col='Date', infer_datetime_format=True).dropna()\n",
    "# Import monthly Dow Data \n",
    "dow_pct_change_path = Path(\"data/Dow Pct Change.csv\")\n",
    "dow_pct_change = pd.read_csv(dow_pct_change_path,parse_dates=True, index_col='Date', infer_datetime_format=True).dropna()\n",
    "#dow_pct_change.head()"
   ]
  },
  {
   "cell_type": "code",
   "execution_count": null,
   "id": "stainless-mystery",
   "metadata": {},
   "outputs": [],
   "source": [
    "# Dow Jones Data from 2001\n",
    "DJI = yf.Ticker(\"^DJI\")\n",
    "DJI_df = DJI.history(period=\"23y\", interval = \"1mo\").reset_index()\n",
    "# Cleaned Dow Data \n",
    "DJI_df = DJI_df[['Date','Close']].set_index(\"Date\")\n",
    "Dow = DJI_df[[\"Close\"]].hvplot(title = \"Dow Jones Industrial Average\",\n",
    "                        x= 'Date',\n",
    "                        y= 'Close',\n",
    "                        ylabel = \"Dow Price\",\n",
    "                        xlabel= 'Date')"
   ]
  },
  {
   "cell_type": "code",
   "execution_count": null,
   "id": "explicit-thinking",
   "metadata": {},
   "outputs": [],
   "source": [
    "cheesecake_chart= cheesecake_df[[\"Close\"]].hvplot(title = \"Cheesecake Factory Chart\",\n",
    "                        x= 'Date',\n",
    "                        y= 'Close',\n",
    "                        ylabel = \"Price\",\n",
    "                        xlabel= 'Date')\n",
    "#cheesecake_chart"
   ]
  },
  {
   "cell_type": "code",
   "execution_count": null,
   "id": "living-spokesman",
   "metadata": {},
   "outputs": [],
   "source": [
    "conf_chart = confidence[['US Institutional',\"US Individual\"]].hvplot(title='Individual and Institutional Confidence ',\n",
    "                    x='Date',\n",
    "                    y='', \n",
    "                    xlabel='Year',\n",
    "                    ylabel='Percent',\n",
    "                    label = '',)\n",
    "                    \n",
    "\n",
    "\n",
    "#confidence.plot(figsize = (30,10))"
   ]
  },
  {
   "cell_type": "code",
   "execution_count": null,
   "id": "standing-frontier",
   "metadata": {},
   "outputs": [],
   "source": [
    "#Dow + \n",
    "conf_chart * cheesecake_chart"
   ]
  },
  {
   "cell_type": "code",
   "execution_count": null,
   "id": "improving-dining",
   "metadata": {},
   "outputs": [],
   "source": [
    "confidence_pct_change.head()"
   ]
  },
  {
   "cell_type": "code",
   "execution_count": null,
   "id": "compound-navigator",
   "metadata": {},
   "outputs": [],
   "source": [
    "cheesecake_return_when_confidence_drop.tail()"
   ]
  },
  {
   "cell_type": "code",
   "execution_count": null,
   "id": "short-surveillance",
   "metadata": {},
   "outputs": [],
   "source": [
    "confidence_drop_5 = confidence.loc[confidence['US Institutional'] > 80 ]\n",
    "\n",
    "cheesecake_return_when_confidence_drop = pd.concat([cheese_pct_change,confidence_drop_5], axis='columns', join='inner')\n",
    "cumulative_returns = cheesecake_return_when_confidence_drop[[\"Close\"]]+1\n",
    "cumulative_returns.cumprod().tail(1)"
   ]
  },
  {
   "cell_type": "code",
   "execution_count": null,
   "id": "arctic-alarm",
   "metadata": {},
   "outputs": [],
   "source": [
    "cheesecake_return_when_confidence_drop.count()"
   ]
  },
  {
   "cell_type": "code",
   "execution_count": null,
   "id": "hydraulic-rates",
   "metadata": {},
   "outputs": [],
   "source": [
    "confidence_drop_5 = confidence_pct_change.loc[confidence_pct_change['US Institutional'] < -0.05 ]\n",
    "\n",
    "cheesecake_return_when_confidence_drop = pd.concat([cheese_pct_change,confidence_drop_5], axis='columns', join='inner')\n",
    "cumulative_returns = cheesecake_return_when_confidence_drop[[\"Close\"]]+1\n",
    "cumulative_returns.cumprod().tail(1)\n",
    "\n"
   ]
  },
  {
   "cell_type": "code",
   "execution_count": null,
   "id": "imperial-soundtrack",
   "metadata": {},
   "outputs": [],
   "source": [
    "confidence_and_cheesecake = pd.concat([sp500/20,confidence[\"US Institutional\"]], axis = 'columns', join = 'inner')\n",
    "confidence_and_cheesecake.rolling(window=21).std().hvplot(figsize=(20,10))"
   ]
  },
  {
   "cell_type": "code",
   "execution_count": null,
   "id": "anonymous-toilet",
   "metadata": {},
   "outputs": [],
   "source": [
    "cheesecake_return_when_confidence_drop.head()"
   ]
  },
  {
   "cell_type": "code",
   "execution_count": null,
   "id": "greatest-moral",
   "metadata": {},
   "outputs": [],
   "source": [
    "cheesecake_pct_chart = cheese_pct_change[[\"Close\"]].hvplot(title = \"Cheesecake Factory Pct Change\",\n",
    "                        x= 'Date',\n",
    "                        y= 'Close',\n",
    "                        ylabel = \"Price\",\n",
    "                        xlabel= 'Date')\n",
    "\n",
    "conf_pct_chart = confidence_pct_change[['US Institutional']].hvplot(title='Individual and Institutional Confidence ',\n",
    "                    x='Date',\n",
    "                    y='', \n",
    "                    xlabel='Year',\n",
    "                    ylabel='Percent',\n",
    "                    label = '',)\n",
    "cheesecake_pct_chart * conf_pct_chart"
   ]
  },
  {
   "cell_type": "code",
   "execution_count": null,
   "id": "undefined-geology",
   "metadata": {},
   "outputs": [],
   "source": []
  },
  {
   "cell_type": "code",
   "execution_count": null,
   "id": "passive-clone",
   "metadata": {},
   "outputs": [],
   "source": [
    "# Confidence distribution\n",
    "confidence_dist = confidence.hist()"
   ]
  },
  {
   "cell_type": "code",
   "execution_count": null,
   "id": "hungarian-jumping",
   "metadata": {},
   "outputs": [],
   "source": [
    "# Dow Performance when institutional confidence is greater than 70%\n",
    "institutional_greater_70 = confidence.loc[confidence['US Institutional'] > 70].round(2)\n",
    "inst_and_dow_greater_70 = pd.concat([dow_pct_change,institutional_greater_70], axis='columns', join='inner')\n",
    "cumulative_returns = inst_and_dow_greater_70[[\"Percent Change\"]]+1\n",
    "cumulative_returns.cumprod().tail(1)\n",
    "\n",
    "#cumulative_returns.count()"
   ]
  },
  {
   "cell_type": "markdown",
   "id": "comprehensive-status",
   "metadata": {},
   "source": [
    "##### The data shows that cumulative return when institutional confidence is greater than 70% is 183%"
   ]
  },
  {
   "cell_type": "code",
   "execution_count": null,
   "id": "automated-integration",
   "metadata": {},
   "outputs": [],
   "source": [
    "# Dow Performance when individual confidence is below greater than 70%\n",
    "individual_greater_70 = confidence.loc[confidence['US Individual'] > 70].round(2)\n",
    "\n",
    "ind_and_dow_greater_70 = pd.concat([dow_pct_change,individual_greater_70], axis='columns', join='inner')\n",
    "cumprod_greater_individual = ind_and_dow_greater_70[[\"Percent Change\"]]+1\n",
    "cumprod_greater_individual.cumprod().tail(1)"
   ]
  },
  {
   "cell_type": "markdown",
   "id": "unexpected-russell",
   "metadata": {},
   "source": [
    "##### The data shows cumulative return when individual investor confidence is greater than 70% is 130% return"
   ]
  },
  {
   "cell_type": "code",
   "execution_count": null,
   "id": "driven-procedure",
   "metadata": {},
   "outputs": [],
   "source": [
    "# US individual confidence return when less than 70\n",
    "individual_below_70 = confidence.loc[confidence['US Individual'] < 70].round(2)\n",
    "#individual_below_70.count()\n",
    "\n",
    "# Concat the dataframes to include Dow points \n",
    "ind_and_dow_less_70 = pd.concat([dow_pct_change,individual_below_70], axis='columns', join='inner')\n",
    "#ind_and_dow_less_70[[\"Percent Change\"]].mean()\n",
    "\n",
    "\n",
    "ind_less_than_70 = ind_and_dow_less_70[[\"Percent Change\"]]+1\n",
    "ind_less_than_70.cumprod().tail(1)"
   ]
  },
  {
   "cell_type": "markdown",
   "id": "noted-handle",
   "metadata": {},
   "source": [
    "##### The data shows that if you were to invest when individual confidence was less than 70%, you would return roughly 41%"
   ]
  },
  {
   "cell_type": "code",
   "execution_count": null,
   "id": "seven-material",
   "metadata": {},
   "outputs": [],
   "source": [
    "# US institutional confidence return when less than 70%\n",
    "institutional_below_70 = confidence.loc[confidence['US Institutional'] < 70].round(2)\n",
    "institutional_below_70.head()\n",
    "\n",
    "# Dow Performance when institutional confidence is below 70\n",
    "inst_and_dow_less_70 = pd.concat([dow_pct_change,institutional_below_70], axis='columns', join='inner')\n",
    "inst_less_than_70 = inst_and_dow_less_70[[\"Percent Change\"]]+1\n",
    "inst_less_than_70.cumprod().tail(1)"
   ]
  },
  {
   "cell_type": "markdown",
   "id": "cosmetic-minnesota",
   "metadata": {},
   "source": [
    "##### The data shows that if you were only to invest when institutional confidence was less than 70%, you would only return roughly 15%"
   ]
  },
  {
   "cell_type": "markdown",
   "id": "muslim-colonial",
   "metadata": {},
   "source": [
    "### The data shows that the more bullish sentiment in the market derives from when institutional confidence is greater than 70%"
   ]
  },
  {
   "cell_type": "markdown",
   "id": "strong-worse",
   "metadata": {},
   "source": [
    "# Who is \"better\" at predicting the market? "
   ]
  },
  {
   "cell_type": "code",
   "execution_count": null,
   "id": "concrete-canyon",
   "metadata": {},
   "outputs": [],
   "source": [
    "# Return when institutional confidence is greater than individual confidence\n",
    "\n",
    "instutitional_greater_individual = confidence.loc[confidence[\"US Institutional\"] > confidence[\"US Individual\"]]\n",
    "\n",
    "\n",
    "# If you were to invest ONLY when institutional confidence was greater than individual confidence, you would have a return of almost 97%\n",
    "institutional_greater_individual = pd.concat([dow_pct_change,instutitional_greater_individual], axis='columns', join='inner')\n",
    "inst_over_ind = institutional_greater_individual[[\"Percent Change\"]]+1\n",
    "inst_over_ind.cumprod().tail(1)"
   ]
  },
  {
   "cell_type": "code",
   "execution_count": null,
   "id": "affected-california",
   "metadata": {},
   "outputs": [],
   "source": [
    "DJI_df.head()"
   ]
  },
  {
   "cell_type": "code",
   "execution_count": null,
   "id": "rubber-district",
   "metadata": {},
   "outputs": [],
   "source": [
    "DJI_df = DJI_df[\"Close\"]/110"
   ]
  },
  {
   "cell_type": "code",
   "execution_count": null,
   "id": "hybrid-terrorist",
   "metadata": {},
   "outputs": [],
   "source": [
    "institutional_greater_individual = pd.concat([DJI_df,instutitional_greater_individual], axis='columns', join='inner')"
   ]
  },
  {
   "cell_type": "code",
   "execution_count": null,
   "id": "sharing-passport",
   "metadata": {},
   "outputs": [],
   "source": [
    "institutional_greater_individual.head()"
   ]
  },
  {
   "cell_type": "code",
   "execution_count": null,
   "id": "upper-former",
   "metadata": {},
   "outputs": [],
   "source": [
    "institutional_greater_individual.rolling(window=21).std().plot(figsize=(20,10))"
   ]
  },
  {
   "cell_type": "markdown",
   "id": "psychological-senator",
   "metadata": {},
   "source": [
    "### The data shows that if you were to invest only when institutional confidence is greater than individual confidence, return is almost 97%"
   ]
  },
  {
   "cell_type": "code",
   "execution_count": null,
   "id": "apart-layer",
   "metadata": {},
   "outputs": [],
   "source": [
    "individual_greater_institutional = confidence.loc[confidence[\"US Institutional\"] < confidence[\"US Individual\"]]\n",
    "\n",
    "\n",
    "individual_greater_institutional = pd.concat([dow_pct_change,individual_greater_institutional], axis='columns', join='inner')\n",
    "\n",
    "ind_over_inst = individual_greater_institutional[[\"Percent Change\"]]+1\n",
    "ind_over_inst.cumprod().tail(1)"
   ]
  },
  {
   "cell_type": "code",
   "execution_count": null,
   "id": "narrative-apache",
   "metadata": {},
   "outputs": [],
   "source": [
    "inst_over_ind.count()"
   ]
  },
  {
   "cell_type": "code",
   "execution_count": null,
   "id": "informed-stone",
   "metadata": {},
   "outputs": [],
   "source": [
    "ind_over_inst.count()"
   ]
  },
  {
   "cell_type": "markdown",
   "id": "female-fifty",
   "metadata": {},
   "source": [
    "#### Although institutional investors outperformed indivduals, they were overall more bullish on the market and had more inputs\n",
    "#### We can conclude that \"institutioals\" outperformed \"individuals\" in this example"
   ]
  },
  {
   "cell_type": "code",
   "execution_count": null,
   "id": "designing-monkey",
   "metadata": {},
   "outputs": [],
   "source": []
  },
  {
   "cell_type": "code",
   "execution_count": null,
   "id": "differential-university",
   "metadata": {},
   "outputs": [],
   "source": []
  },
  {
   "cell_type": "code",
   "execution_count": null,
   "id": "orange-explorer",
   "metadata": {},
   "outputs": [],
   "source": []
  },
  {
   "cell_type": "code",
   "execution_count": null,
   "id": "beneficial-olympus",
   "metadata": {},
   "outputs": [],
   "source": []
  },
  {
   "cell_type": "markdown",
   "id": "racial-occupation",
   "metadata": {},
   "source": [
    "# Crash Confidence Correct? "
   ]
  },
  {
   "cell_type": "code",
   "execution_count": null,
   "id": "coated-plaintiff",
   "metadata": {},
   "outputs": [],
   "source": []
  },
  {
   "cell_type": "code",
   "execution_count": null,
   "id": "prerequisite-savings",
   "metadata": {},
   "outputs": [],
   "source": []
  },
  {
   "cell_type": "code",
   "execution_count": null,
   "id": "automotive-documentation",
   "metadata": {},
   "outputs": [],
   "source": []
  },
  {
   "cell_type": "code",
   "execution_count": null,
   "id": "electoral-sphere",
   "metadata": {},
   "outputs": [],
   "source": []
  },
  {
   "cell_type": "code",
   "execution_count": null,
   "id": "intense-vampire",
   "metadata": {},
   "outputs": [],
   "source": []
  },
  {
   "cell_type": "code",
   "execution_count": null,
   "id": "athletic-things",
   "metadata": {},
   "outputs": [],
   "source": []
  },
  {
   "cell_type": "markdown",
   "id": "acute-latitude",
   "metadata": {},
   "source": [
    "# Charts"
   ]
  },
  {
   "cell_type": "code",
   "execution_count": null,
   "id": "compatible-multiple",
   "metadata": {},
   "outputs": [],
   "source": [
    "my_DJI = yf.Ticker(\"^DJI\")\n",
    "my_DJI_df = my_DJI.history(period=\"20y\")\n",
    "my_DJI_df.drop(['Dividends', 'High', 'Low', 'Open', 'Stock Splits', 'Volume'], axis=1, inplace=True)\n",
    "DJI_PCT = my_DJI_df.pct_change()"
   ]
  },
  {
   "cell_type": "code",
   "execution_count": null,
   "id": "exact-translator",
   "metadata": {},
   "outputs": [],
   "source": [
    "#The percent of the population who think that the market is not too high.\n",
    "Investor_Valuation = pd.read_csv('data/us_valuation_confidence_index.csv',parse_dates=True, index_col='Date' )#, infer_datetime_format=True)"
   ]
  },
  {
   "cell_type": "code",
   "execution_count": null,
   "id": "circular-sandwich",
   "metadata": {},
   "outputs": [],
   "source": [
    "# Percent of market who thinks market is not too high \n",
    "Investor_Valuation[['US Institutional','US Individual']].hvplot(title='Investor Valuation ',\n",
    "                    x='Date',\n",
    "                    y='', \n",
    "                    xlabel='Year',\n",
    "                    ylabel='Percent',\n",
    "                    label = '',)"
   ]
  },
  {
   "cell_type": "code",
   "execution_count": null,
   "id": "emerging-produce",
   "metadata": {},
   "outputs": [],
   "source": []
  },
  {
   "cell_type": "code",
   "execution_count": null,
   "id": "charged-defeat",
   "metadata": {},
   "outputs": [],
   "source": [
    "Eff_Fed_Fund_Rate = quandl.get(\"FRED/DFF\", start_date='2002-01-01', end_date = '2021-02-01', collapse = 'monthly') \n",
    "Eff_Fed_Fund_Rate.rename(columns={'Value':'Fund Rate'}, inplace=True)\n",
    "Eff_Fed_Fund_Rate.plot(figsize = (30,10))"
   ]
  },
  {
   "cell_type": "code",
   "execution_count": null,
   "id": "outer-officer",
   "metadata": {},
   "outputs": [],
   "source": [
    "SandPComposite = quandl.get(\"YALE/SPCOMP\", start_date='2002-01-01', end_date = '2021-02-01', collapse = 'monthly')\n",
    "SandP_Percent = SandPComposite['S&P Composite']"
   ]
  },
  {
   "cell_type": "code",
   "execution_count": null,
   "id": "naked-mobile",
   "metadata": {},
   "outputs": [],
   "source": [
    "Misery_Index = quandl.get(\"USMISERY/INDEX\", start_date='2002-01-01', end_date = '2021-02-01', collapse = 'monthly')\n",
    "Misery_Index = Misery_Index.pct_change().dropna()\n",
    "Misery_Index.head()"
   ]
  },
  {
   "cell_type": "code",
   "execution_count": null,
   "id": "assisted-charter",
   "metadata": {},
   "outputs": [],
   "source": []
  },
  {
   "cell_type": "code",
   "execution_count": null,
   "id": "authentic-result",
   "metadata": {},
   "outputs": [],
   "source": [
    "Investor_Valuation.rename(columns={\"US Individual\" : \"US Indiv Val\"},inplace = True)\n",
    "Investor_Valuation.rename(columns = {\"US Institutional\" : \"US Inst Val\"}, inplace = True)"
   ]
  },
  {
   "cell_type": "code",
   "execution_count": null,
   "id": "figured-delta",
   "metadata": {},
   "outputs": [],
   "source": [
    "confidence.rename(columns={\"US Individual\" : \"US Indiv Conf\"},inplace = True)\n",
    "confidence.rename(columns = {\"US Institutional\" : \"US Inst Conf\"}, inplace = True)"
   ]
  },
  {
   "cell_type": "code",
   "execution_count": null,
   "id": "authentic-clerk",
   "metadata": {},
   "outputs": [],
   "source": [
    "Investor_Merged = pd.concat([Investor_Valuation, confidence], axis=1, join='inner').dropna()\n",
    "Investor_Merged.plot(figsize = (30,10))"
   ]
  },
  {
   "cell_type": "code",
   "execution_count": null,
   "id": "improved-oxford",
   "metadata": {},
   "outputs": [],
   "source": [
    "Investor_Merged.head()\n",
    "Corr = Investor_Merged.corr()\n",
    "Investor_Merged.cov().plot()"
   ]
  },
  {
   "cell_type": "code",
   "execution_count": null,
   "id": "bigger-usage",
   "metadata": {},
   "outputs": [],
   "source": [
    "fig = plt.figure()\n",
    "ax = fig.add_subplot(111)\n",
    "cax = ax.matshow(Corr,cmap='coolwarm', vmin=-1, vmax=1)\n",
    "fig.colorbar(cax)\n",
    "ticks = np.arange(0,len(Investor_Merged.columns),1)\n",
    "ax.set_xticks(ticks)\n",
    "plt.xticks(rotation=90)\n",
    "ax.set_yticks(ticks)\n",
    "ax.set_xticklabels(Investor_Merged.columns)\n",
    "ax.set_yticklabels(Investor_Merged.columns)\n",
    "plt.show()"
   ]
  },
  {
   "cell_type": "code",
   "execution_count": null,
   "id": "stretch-tours",
   "metadata": {},
   "outputs": [],
   "source": [
    "Misery_Index = quandl.get(\"USMISERY/INDEX\", start_date='2002-01-01', end_date = '2021-02-01', collapse = 'monthly')\n",
    "Misery_Index = Misery_Index.pct_change().dropna()\n",
    "Misery_Index.head()"
   ]
  },
  {
   "cell_type": "code",
   "execution_count": null,
   "id": "female-caribbean",
   "metadata": {},
   "outputs": [],
   "source": [
    "fig = go.Figure()\n",
    "fig.add_trace(go.Scatter(x=Investor_Merged.index, y=Investor_Merged['US Inst Conf'], mode='lines', name='US Inst Conf'))\n",
    "fig.add_trace(go.Scatter(x=Investor_Merged.index, y=Investor_Merged['US Indiv Conf'], mode='lines', name='US Indiv Conf'))\n",
    "fig.add_trace(go.Scatter(x=Investor_Merged.index, y=Investor_Merged['US Inst Val'], mode='lines', name='US Inst Val'))\n",
    "fig.add_trace(go.Scatter(x=Investor_Merged.index, y=Investor_Merged['US Indiv Val'], mode='lines', name='US Indiv Val'))\n",
    "#fig.add_trace(go.Scatter(x=Investor_Merged.index, y=SandPComposite['S&P Composite'], mode='lines', name='S&P Composite'))\n",
    "fig.update_xaxes(rangeslider_visible=True,\n",
    "                 rangeselector=dict(\n",
    "        buttons=list([\n",
    "            dict(count=12, label=\"12y\", step=\"year\", stepmode=\"backward\"),\n",
    "            dict(count=6, label=\"6y\", step=\"year\", stepmode=\"backward\"),\n",
    "            dict(count=3, label=\"3y\", step=\"year\", stepmode=\"backward\"),\n",
    "            dict(count=1, label=\"1y\", step=\"year\", stepmode=\"backward\"),\n",
    "            dict(step=\"all\")\n",
    "        ])\n",
    "    )\n",
    ")\n",
    "fig.show()"
   ]
  },
  {
   "cell_type": "code",
   "execution_count": null,
   "id": "private-participant",
   "metadata": {},
   "outputs": [],
   "source": [
    "Investor_Merged_Percent = Investor_Merged.pct_change()\n",
    "EFFR_Percent = Eff_Fed_Fund_Rate.pct_change()"
   ]
  },
  {
   "cell_type": "code",
   "execution_count": null,
   "id": "possible-protest",
   "metadata": {},
   "outputs": [],
   "source": [
    "fig = go.Figure()\n",
    "fig.add_trace(go.Scatter(x=Investor_Merged_Percent.index, y=Investor_Merged_Percent['US Inst Conf'], mode='lines', name='US Inst Conf'))\n",
    "fig.add_trace(go.Scatter(x=Investor_Merged_Percent.index, y=Investor_Merged_Percent['US Indiv Conf'], mode='lines', name='US Indiv Conf'))\n",
    "fig.add_trace(go.Scatter(x=Investor_Merged_Percent.index, y=Investor_Merged_Percent['US Inst Val'], mode='lines', name='US Inst Val'))\n",
    "fig.add_trace(go.Scatter(x=Investor_Merged_Percent.index, y=Investor_Merged_Percent['US Indiv Val'], mode='lines', name='US Indiv Val'))\n",
    "fig.add_trace(go.Scatter(x=Investor_Merged_Percent.index, y=EFFR_Percent['Fund Rate'], mode='lines', name='Fed Fund Rate'))\n",
    "fig.add_trace(go.Scatter(x=Investor_Merged_Percent.index, y=SandP_Percent, mode='lines', name='S&P Composite'))\n",
    "fig.add_trace(go.Scatter(x=Investor_Merged_Percent.index, y=Misery_Index['Misery Index'], mode='lines', name='Misery Index'))\n",
    "fig.update_xaxes(rangeslider_visible=True,\n",
    "                 rangeselector=dict(\n",
    "        buttons=list([\n",
    "            dict(count=12, label=\"12y\", step=\"year\", stepmode=\"backward\"),\n",
    "            dict(count=6, label=\"6y\", step=\"year\", stepmode=\"backward\"),\n",
    "            dict(count=3, label=\"3y\", step=\"year\", stepmode=\"backward\"),\n",
    "            dict(count=1, label=\"1y\", step=\"year\", stepmode=\"backward\"),\n",
    "            dict(step=\"all\")\n",
    "        ])\n",
    "    )\n",
    ")\n",
    "fig.show()"
   ]
  },
  {
   "cell_type": "code",
   "execution_count": null,
   "id": "historical-university",
   "metadata": {},
   "outputs": [],
   "source": []
  },
  {
   "cell_type": "code",
   "execution_count": null,
   "id": "reserved-usage",
   "metadata": {},
   "outputs": [],
   "source": []
  }
 ],
 "metadata": {
  "kernelspec": {
   "display_name": "Python [conda env:pyvizenv]",
   "language": "python",
   "name": "conda-env-pyvizenv-py"
  },
  "language_info": {
   "codemirror_mode": {
    "name": "ipython",
    "version": 3
   },
   "file_extension": ".py",
   "mimetype": "text/x-python",
   "name": "python",
   "nbconvert_exporter": "python",
   "pygments_lexer": "ipython3",
   "version": "3.7.9"
  }
 },
 "nbformat": 4,
 "nbformat_minor": 5
}
