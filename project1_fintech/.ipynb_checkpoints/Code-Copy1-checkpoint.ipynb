{
 "cells": [
  {
   "cell_type": "code",
   "execution_count": 1,
   "id": "veterinary-darwin",
   "metadata": {},
   "outputs": [
    {
     "name": "stdout",
     "output_type": "stream",
     "text": [
      "Collecting yfinance\n",
      "  Downloading yfinance-0.1.59.tar.gz (25 kB)\n",
      "Requirement already satisfied: pandas>=0.24 in c:\\users\\anduc\\anaconda3\\envs\\alpacaenv\\lib\\site-packages (from yfinance) (1.1.3)\n",
      "Requirement already satisfied: numpy>=1.15 in c:\\users\\anduc\\anaconda3\\envs\\alpacaenv\\lib\\site-packages (from yfinance) (1.17.0)\n",
      "Requirement already satisfied: requests>=2.20 in c:\\users\\anduc\\anaconda3\\envs\\alpacaenv\\lib\\site-packages (from yfinance) (2.24.0)\n",
      "Collecting multitasking>=0.0.7\n",
      "  Downloading multitasking-0.0.9.tar.gz (8.1 kB)\n",
      "Requirement already satisfied: lxml>=4.5.1 in c:\\users\\anduc\\anaconda3\\envs\\alpacaenv\\lib\\site-packages (from yfinance) (4.6.1)\n",
      "Requirement already satisfied: pytz>=2017.2 in c:\\users\\anduc\\anaconda3\\envs\\alpacaenv\\lib\\site-packages (from pandas>=0.24->yfinance) (2020.1)\n",
      "Requirement already satisfied: python-dateutil>=2.7.3 in c:\\users\\anduc\\anaconda3\\envs\\alpacaenv\\lib\\site-packages (from pandas>=0.24->yfinance) (2.8.1)\n",
      "Requirement already satisfied: certifi>=2017.4.17 in c:\\users\\anduc\\anaconda3\\envs\\alpacaenv\\lib\\site-packages (from requests>=2.20->yfinance) (2020.6.20)\n",
      "Requirement already satisfied: idna<3,>=2.5 in c:\\users\\anduc\\anaconda3\\envs\\alpacaenv\\lib\\site-packages (from requests>=2.20->yfinance) (2.10)\n",
      "Requirement already satisfied: urllib3!=1.25.0,!=1.25.1,<1.26,>=1.21.1 in c:\\users\\anduc\\anaconda3\\envs\\alpacaenv\\lib\\site-packages (from requests>=2.20->yfinance) (1.25.11)\n",
      "Requirement already satisfied: chardet<4,>=3.0.2 in c:\\users\\anduc\\anaconda3\\envs\\alpacaenv\\lib\\site-packages (from requests>=2.20->yfinance) (3.0.4)\n",
      "Requirement already satisfied: six>=1.5 in c:\\users\\anduc\\anaconda3\\envs\\alpacaenv\\lib\\site-packages (from python-dateutil>=2.7.3->pandas>=0.24->yfinance) (1.15.0)\n",
      "Building wheels for collected packages: yfinance, multitasking\n",
      "  Building wheel for yfinance (setup.py): started\n",
      "  Building wheel for yfinance (setup.py): finished with status 'done'\n",
      "  Created wheel for yfinance: filename=yfinance-0.1.59-py2.py3-none-any.whl size=23447 sha256=fa75a5d2ecc33e4bc60694cdd31225e4f1331e89dbda43ec97d1751b4966a4da\n",
      "  Stored in directory: c:\\users\\anduc\\appdata\\local\\pip\\cache\\wheels\\26\\af\\8b\\fac1b47dffef567f945641cdc9b67bb25fae5725d462a8cf81\n",
      "  Building wheel for multitasking (setup.py): started\n",
      "  Building wheel for multitasking (setup.py): finished with status 'done'\n",
      "  Created wheel for multitasking: filename=multitasking-0.0.9-py3-none-any.whl size=8372 sha256=7fc932c3a0ecf628b4545946499ee88a82e20cd12b79cd631cafc79fffcefb17\n",
      "  Stored in directory: c:\\users\\anduc\\appdata\\local\\pip\\cache\\wheels\\ae\\25\\47\\4d68431a7ec1b6c4b5233365934b74c1d4e665bf5f968d363a\n",
      "Successfully built yfinance multitasking\n",
      "Installing collected packages: multitasking, yfinance\n",
      "Successfully installed multitasking-0.0.9 yfinance-0.1.59\n",
      "Collecting quandl\n",
      "  Downloading Quandl-3.6.1-py2.py3-none-any.whl (26 kB)\n",
      "Requirement already satisfied: pandas>=0.14 in c:\\users\\anduc\\anaconda3\\envs\\alpacaenv\\lib\\site-packages (from quandl) (1.1.3)\n",
      "Requirement already satisfied: six in c:\\users\\anduc\\anaconda3\\envs\\alpacaenv\\lib\\site-packages (from quandl) (1.15.0)\n",
      "Requirement already satisfied: numpy>=1.8 in c:\\users\\anduc\\anaconda3\\envs\\alpacaenv\\lib\\site-packages (from quandl) (1.17.0)\n",
      "Collecting inflection>=0.3.1\n",
      "  Downloading inflection-0.5.1-py2.py3-none-any.whl (9.5 kB)\n",
      "Requirement already satisfied: more-itertools in c:\\users\\anduc\\anaconda3\\envs\\alpacaenv\\lib\\site-packages (from quandl) (8.6.0)\n",
      "Requirement already satisfied: requests>=2.7.0 in c:\\users\\anduc\\anaconda3\\envs\\alpacaenv\\lib\\site-packages (from quandl) (2.24.0)\n",
      "Requirement already satisfied: python-dateutil in c:\\users\\anduc\\anaconda3\\envs\\alpacaenv\\lib\\site-packages (from quandl) (2.8.1)\n",
      "Requirement already satisfied: pytz>=2017.2 in c:\\users\\anduc\\anaconda3\\envs\\alpacaenv\\lib\\site-packages (from pandas>=0.14->quandl) (2020.1)\n",
      "Requirement already satisfied: certifi>=2017.4.17 in c:\\users\\anduc\\anaconda3\\envs\\alpacaenv\\lib\\site-packages (from requests>=2.7.0->quandl) (2020.6.20)\n",
      "Requirement already satisfied: urllib3!=1.25.0,!=1.25.1,<1.26,>=1.21.1 in c:\\users\\anduc\\anaconda3\\envs\\alpacaenv\\lib\\site-packages (from requests>=2.7.0->quandl) (1.25.11)\n",
      "Requirement already satisfied: chardet<4,>=3.0.2 in c:\\users\\anduc\\anaconda3\\envs\\alpacaenv\\lib\\site-packages (from requests>=2.7.0->quandl) (3.0.4)\n",
      "Requirement already satisfied: idna<3,>=2.5 in c:\\users\\anduc\\anaconda3\\envs\\alpacaenv\\lib\\site-packages (from requests>=2.7.0->quandl) (2.10)\n",
      "Installing collected packages: inflection, quandl\n",
      "Successfully installed inflection-0.5.1 quandl-3.6.1\n"
     ]
    }
   ],
   "source": [
    "# Loading Data \n",
    "import pandas as pd  \n",
    "import numpy as np\n",
    "from pathlib import Path\n",
    "import seaborn as sns\n",
    "import alpaca_trade_api as tradeapi\n",
    "\n",
    "import matplotlib.pyplot as plt\n",
    "%matplotlib inline\n",
    "import os \n",
    "!pip install yfinance\n",
    "!pip install quandl\n",
    "from dotenv import load_dotenv\n",
    "import yfinance as yf\n",
    "import quandl"
   ]
  },
  {
   "cell_type": "code",
   "execution_count": 2,
   "id": "secret-delight",
   "metadata": {},
   "outputs": [],
   "source": [
    "# Import Quandl API key\n",
    "load_dotenv()\n",
    "quandl_api_key = os.getenv(\"QUANDL_API_KEY\")"
   ]
  },
  {
   "cell_type": "code",
   "execution_count": 3,
   "id": "jewish-remains",
   "metadata": {},
   "outputs": [
    {
     "data": {
      "text/html": [
       "<div>\n",
       "<style scoped>\n",
       "    .dataframe tbody tr th:only-of-type {\n",
       "        vertical-align: middle;\n",
       "    }\n",
       "\n",
       "    .dataframe tbody tr th {\n",
       "        vertical-align: top;\n",
       "    }\n",
       "\n",
       "    .dataframe thead th {\n",
       "        text-align: right;\n",
       "    }\n",
       "</style>\n",
       "<table border=\"1\" class=\"dataframe\">\n",
       "  <thead>\n",
       "    <tr style=\"text-align: right;\">\n",
       "      <th></th>\n",
       "      <th>Value</th>\n",
       "    </tr>\n",
       "    <tr>\n",
       "      <th>Date</th>\n",
       "      <th></th>\n",
       "    </tr>\n",
       "  </thead>\n",
       "  <tbody>\n",
       "    <tr>\n",
       "      <th>2019-10-01</th>\n",
       "      <td>21747.394</td>\n",
       "    </tr>\n",
       "    <tr>\n",
       "      <th>2020-01-01</th>\n",
       "      <td>21561.139</td>\n",
       "    </tr>\n",
       "    <tr>\n",
       "      <th>2020-04-01</th>\n",
       "      <td>19520.114</td>\n",
       "    </tr>\n",
       "    <tr>\n",
       "      <th>2020-07-01</th>\n",
       "      <td>21170.252</td>\n",
       "    </tr>\n",
       "    <tr>\n",
       "      <th>2020-10-01</th>\n",
       "      <td>21494.731</td>\n",
       "    </tr>\n",
       "  </tbody>\n",
       "</table>\n",
       "</div>"
      ],
      "text/plain": [
       "                Value\n",
       "Date                 \n",
       "2019-10-01  21747.394\n",
       "2020-01-01  21561.139\n",
       "2020-04-01  19520.114\n",
       "2020-07-01  21170.252\n",
       "2020-10-01  21494.731"
      ]
     },
     "execution_count": 3,
     "metadata": {},
     "output_type": "execute_result"
    }
   ],
   "source": [
    "# GDP from Quandl \n",
    "gdp = quandl.get(\"FRED/GDP\") \n",
    "gdp.tail()"
   ]
  },
  {
   "cell_type": "code",
   "execution_count": 4,
   "id": "balanced-quantum",
   "metadata": {},
   "outputs": [],
   "source": [
    "# Dow Jones Data from 2001\n",
    "DJI = yf.Ticker(\"^DJI\")\n",
    "DJI_df = DJI.history(period=\"20y\").reset_index()"
   ]
  },
  {
   "cell_type": "code",
   "execution_count": 5,
   "id": "suitable-dictionary",
   "metadata": {},
   "outputs": [
    {
     "data": {
      "text/html": [
       "<div>\n",
       "<style scoped>\n",
       "    .dataframe tbody tr th:only-of-type {\n",
       "        vertical-align: middle;\n",
       "    }\n",
       "\n",
       "    .dataframe tbody tr th {\n",
       "        vertical-align: top;\n",
       "    }\n",
       "\n",
       "    .dataframe thead th {\n",
       "        text-align: right;\n",
       "    }\n",
       "</style>\n",
       "<table border=\"1\" class=\"dataframe\">\n",
       "  <thead>\n",
       "    <tr style=\"text-align: right;\">\n",
       "      <th></th>\n",
       "      <th>Date</th>\n",
       "      <th>Open</th>\n",
       "      <th>High</th>\n",
       "      <th>Low</th>\n",
       "      <th>Close</th>\n",
       "      <th>Volume</th>\n",
       "      <th>Dividends</th>\n",
       "      <th>Stock Splits</th>\n",
       "    </tr>\n",
       "  </thead>\n",
       "  <tbody>\n",
       "    <tr>\n",
       "      <th>0</th>\n",
       "      <td>2001-04-02</td>\n",
       "      <td>9877.160156</td>\n",
       "      <td>9992.530273</td>\n",
       "      <td>9705.070312</td>\n",
       "      <td>9777.929688</td>\n",
       "      <td>237210000</td>\n",
       "      <td>0</td>\n",
       "      <td>0</td>\n",
       "    </tr>\n",
       "    <tr>\n",
       "      <th>1</th>\n",
       "      <td>2001-04-03</td>\n",
       "      <td>9774.780273</td>\n",
       "      <td>9774.780273</td>\n",
       "      <td>9428.070312</td>\n",
       "      <td>9485.709961</td>\n",
       "      <td>273290000</td>\n",
       "      <td>0</td>\n",
       "      <td>0</td>\n",
       "    </tr>\n",
       "    <tr>\n",
       "      <th>2</th>\n",
       "      <td>2001-04-04</td>\n",
       "      <td>9480.950195</td>\n",
       "      <td>9625.900391</td>\n",
       "      <td>9375.719727</td>\n",
       "      <td>9515.419922</td>\n",
       "      <td>301600000</td>\n",
       "      <td>0</td>\n",
       "      <td>0</td>\n",
       "    </tr>\n",
       "    <tr>\n",
       "      <th>3</th>\n",
       "      <td>2001-04-05</td>\n",
       "      <td>9527.209961</td>\n",
       "      <td>9929.790039</td>\n",
       "      <td>9527.209961</td>\n",
       "      <td>9918.049805</td>\n",
       "      <td>281710000</td>\n",
       "      <td>0</td>\n",
       "      <td>0</td>\n",
       "    </tr>\n",
       "    <tr>\n",
       "      <th>4</th>\n",
       "      <td>2001-04-06</td>\n",
       "      <td>9913.940430</td>\n",
       "      <td>9913.940430</td>\n",
       "      <td>9698.070312</td>\n",
       "      <td>9791.089844</td>\n",
       "      <td>270000000</td>\n",
       "      <td>0</td>\n",
       "      <td>0</td>\n",
       "    </tr>\n",
       "  </tbody>\n",
       "</table>\n",
       "</div>"
      ],
      "text/plain": [
       "        Date         Open         High          Low        Close     Volume  \\\n",
       "0 2001-04-02  9877.160156  9992.530273  9705.070312  9777.929688  237210000   \n",
       "1 2001-04-03  9774.780273  9774.780273  9428.070312  9485.709961  273290000   \n",
       "2 2001-04-04  9480.950195  9625.900391  9375.719727  9515.419922  301600000   \n",
       "3 2001-04-05  9527.209961  9929.790039  9527.209961  9918.049805  281710000   \n",
       "4 2001-04-06  9913.940430  9913.940430  9698.070312  9791.089844  270000000   \n",
       "\n",
       "   Dividends  Stock Splits  \n",
       "0          0             0  \n",
       "1          0             0  \n",
       "2          0             0  \n",
       "3          0             0  \n",
       "4          0             0  "
      ]
     },
     "execution_count": 5,
     "metadata": {},
     "output_type": "execute_result"
    }
   ],
   "source": [
    "DJI_df.head()"
   ]
  },
  {
   "cell_type": "code",
   "execution_count": 6,
   "id": "boxed-ballot",
   "metadata": {},
   "outputs": [],
   "source": [
    "# Cleaned Dow Data \n",
    "DJI_df = DJI_df[['Date','Close']].set_index(\"Date\")"
   ]
  },
  {
   "cell_type": "code",
   "execution_count": 7,
   "id": "wooden-memorabilia",
   "metadata": {},
   "outputs": [
    {
     "data": {
      "text/html": [
       "<div>\n",
       "<style scoped>\n",
       "    .dataframe tbody tr th:only-of-type {\n",
       "        vertical-align: middle;\n",
       "    }\n",
       "\n",
       "    .dataframe tbody tr th {\n",
       "        vertical-align: top;\n",
       "    }\n",
       "\n",
       "    .dataframe thead th {\n",
       "        text-align: right;\n",
       "    }\n",
       "</style>\n",
       "<table border=\"1\" class=\"dataframe\">\n",
       "  <thead>\n",
       "    <tr style=\"text-align: right;\">\n",
       "      <th></th>\n",
       "      <th>Close</th>\n",
       "    </tr>\n",
       "    <tr>\n",
       "      <th>Date</th>\n",
       "      <th></th>\n",
       "    </tr>\n",
       "  </thead>\n",
       "  <tbody>\n",
       "    <tr>\n",
       "      <th>2001-04-02</th>\n",
       "      <td>9777.929688</td>\n",
       "    </tr>\n",
       "    <tr>\n",
       "      <th>2001-04-03</th>\n",
       "      <td>9485.709961</td>\n",
       "    </tr>\n",
       "    <tr>\n",
       "      <th>2001-04-04</th>\n",
       "      <td>9515.419922</td>\n",
       "    </tr>\n",
       "    <tr>\n",
       "      <th>2001-04-05</th>\n",
       "      <td>9918.049805</td>\n",
       "    </tr>\n",
       "    <tr>\n",
       "      <th>2001-04-06</th>\n",
       "      <td>9791.089844</td>\n",
       "    </tr>\n",
       "  </tbody>\n",
       "</table>\n",
       "</div>"
      ],
      "text/plain": [
       "                  Close\n",
       "Date                   \n",
       "2001-04-02  9777.929688\n",
       "2001-04-03  9485.709961\n",
       "2001-04-04  9515.419922\n",
       "2001-04-05  9918.049805\n",
       "2001-04-06  9791.089844"
      ]
     },
     "execution_count": 7,
     "metadata": {},
     "output_type": "execute_result"
    }
   ],
   "source": [
    "DJI_df.head()"
   ]
  },
  {
   "cell_type": "code",
   "execution_count": 8,
   "id": "blind-library",
   "metadata": {},
   "outputs": [
    {
     "data": {
      "text/html": [
       "<div>\n",
       "<style scoped>\n",
       "    .dataframe tbody tr th:only-of-type {\n",
       "        vertical-align: middle;\n",
       "    }\n",
       "\n",
       "    .dataframe tbody tr th {\n",
       "        vertical-align: top;\n",
       "    }\n",
       "\n",
       "    .dataframe thead th {\n",
       "        text-align: right;\n",
       "    }\n",
       "</style>\n",
       "<table border=\"1\" class=\"dataframe\">\n",
       "  <thead>\n",
       "    <tr style=\"text-align: right;\">\n",
       "      <th></th>\n",
       "      <th>Close</th>\n",
       "    </tr>\n",
       "  </thead>\n",
       "  <tbody>\n",
       "    <tr>\n",
       "      <th>count</th>\n",
       "      <td>5032.000000</td>\n",
       "    </tr>\n",
       "    <tr>\n",
       "      <th>mean</th>\n",
       "      <td>15112.322480</td>\n",
       "    </tr>\n",
       "    <tr>\n",
       "      <th>std</th>\n",
       "      <td>6129.901006</td>\n",
       "    </tr>\n",
       "    <tr>\n",
       "      <th>min</th>\n",
       "      <td>6547.049805</td>\n",
       "    </tr>\n",
       "    <tr>\n",
       "      <th>25%</th>\n",
       "      <td>10456.947510</td>\n",
       "    </tr>\n",
       "    <tr>\n",
       "      <th>50%</th>\n",
       "      <td>12654.604980</td>\n",
       "    </tr>\n",
       "    <tr>\n",
       "      <th>75%</th>\n",
       "      <td>18001.237793</td>\n",
       "    </tr>\n",
       "    <tr>\n",
       "      <th>max</th>\n",
       "      <td>33171.371094</td>\n",
       "    </tr>\n",
       "  </tbody>\n",
       "</table>\n",
       "</div>"
      ],
      "text/plain": [
       "              Close\n",
       "count   5032.000000\n",
       "mean   15112.322480\n",
       "std     6129.901006\n",
       "min     6547.049805\n",
       "25%    10456.947510\n",
       "50%    12654.604980\n",
       "75%    18001.237793\n",
       "max    33171.371094"
      ]
     },
     "execution_count": 8,
     "metadata": {},
     "output_type": "execute_result"
    }
   ],
   "source": [
    "# Dow data described \n",
    "DJI_df.describe()"
   ]
  },
  {
   "cell_type": "code",
   "execution_count": 9,
   "id": "social-argentina",
   "metadata": {},
   "outputs": [
    {
     "data": {
      "text/html": [
       "<div>\n",
       "<style scoped>\n",
       "    .dataframe tbody tr th:only-of-type {\n",
       "        vertical-align: middle;\n",
       "    }\n",
       "\n",
       "    .dataframe tbody tr th {\n",
       "        vertical-align: top;\n",
       "    }\n",
       "\n",
       "    .dataframe thead th {\n",
       "        text-align: right;\n",
       "    }\n",
       "</style>\n",
       "<table border=\"1\" class=\"dataframe\">\n",
       "  <thead>\n",
       "    <tr style=\"text-align: right;\">\n",
       "      <th></th>\n",
       "      <th></th>\n",
       "      <th>Close</th>\n",
       "    </tr>\n",
       "    <tr>\n",
       "      <th>Date</th>\n",
       "      <th>Date</th>\n",
       "      <th></th>\n",
       "    </tr>\n",
       "  </thead>\n",
       "  <tbody>\n",
       "    <tr>\n",
       "      <th rowspan=\"5\" valign=\"top\">2001</th>\n",
       "      <th>4</th>\n",
       "      <td>9777.929688</td>\n",
       "    </tr>\n",
       "    <tr>\n",
       "      <th>5</th>\n",
       "      <td>10898.339844</td>\n",
       "    </tr>\n",
       "    <tr>\n",
       "      <th>6</th>\n",
       "      <td>10990.410156</td>\n",
       "    </tr>\n",
       "    <tr>\n",
       "      <th>7</th>\n",
       "      <td>10593.719727</td>\n",
       "    </tr>\n",
       "    <tr>\n",
       "      <th>8</th>\n",
       "      <td>10510.009766</td>\n",
       "    </tr>\n",
       "  </tbody>\n",
       "</table>\n",
       "</div>"
      ],
      "text/plain": [
       "                  Close\n",
       "Date Date              \n",
       "2001 4      9777.929688\n",
       "     5     10898.339844\n",
       "     6     10990.410156\n",
       "     7     10593.719727\n",
       "     8     10510.009766"
      ]
     },
     "execution_count": 9,
     "metadata": {},
     "output_type": "execute_result"
    }
   ],
   "source": [
    "# Dow grouped by month\n",
    "DJI_grp = DJI_df.groupby([DJI_df.index.year,DJI_df.index.month]).first()\n",
    "DJI_grp.head()"
   ]
  },
  {
   "cell_type": "code",
   "execution_count": 10,
   "id": "signal-static",
   "metadata": {},
   "outputs": [
    {
     "data": {
      "text/html": [
       "<div>\n",
       "<style scoped>\n",
       "    .dataframe tbody tr th:only-of-type {\n",
       "        vertical-align: middle;\n",
       "    }\n",
       "\n",
       "    .dataframe tbody tr th {\n",
       "        vertical-align: top;\n",
       "    }\n",
       "\n",
       "    .dataframe thead th {\n",
       "        text-align: right;\n",
       "    }\n",
       "</style>\n",
       "<table border=\"1\" class=\"dataframe\">\n",
       "  <thead>\n",
       "    <tr style=\"text-align: right;\">\n",
       "      <th></th>\n",
       "      <th></th>\n",
       "      <th>Close</th>\n",
       "    </tr>\n",
       "    <tr>\n",
       "      <th>Date</th>\n",
       "      <th>Date</th>\n",
       "      <th></th>\n",
       "    </tr>\n",
       "  </thead>\n",
       "  <tbody>\n",
       "    <tr>\n",
       "      <th rowspan=\"5\" valign=\"top\">2001</th>\n",
       "      <th>5</th>\n",
       "      <td>0.114586</td>\n",
       "    </tr>\n",
       "    <tr>\n",
       "      <th>6</th>\n",
       "      <td>0.008448</td>\n",
       "    </tr>\n",
       "    <tr>\n",
       "      <th>7</th>\n",
       "      <td>-0.036094</td>\n",
       "    </tr>\n",
       "    <tr>\n",
       "      <th>8</th>\n",
       "      <td>-0.007902</td>\n",
       "    </tr>\n",
       "    <tr>\n",
       "      <th>9</th>\n",
       "      <td>-0.048765</td>\n",
       "    </tr>\n",
       "  </tbody>\n",
       "</table>\n",
       "</div>"
      ],
      "text/plain": [
       "              Close\n",
       "Date Date          \n",
       "2001 5     0.114586\n",
       "     6     0.008448\n",
       "     7    -0.036094\n",
       "     8    -0.007902\n",
       "     9    -0.048765"
      ]
     },
     "execution_count": 10,
     "metadata": {},
     "output_type": "execute_result"
    }
   ],
   "source": [
    "# Dow Month Percent Change \n",
    "month_percent_change = DJI_grp.pct_change().dropna()\n",
    "month_percent_change = pd.DataFrame(month_percent_change)\n",
    "month_percent_change.head()"
   ]
  },
  {
   "cell_type": "code",
   "execution_count": 11,
   "id": "thermal-elephant",
   "metadata": {},
   "outputs": [
    {
     "data": {
      "text/html": [
       "<div>\n",
       "<style scoped>\n",
       "    .dataframe tbody tr th:only-of-type {\n",
       "        vertical-align: middle;\n",
       "    }\n",
       "\n",
       "    .dataframe tbody tr th {\n",
       "        vertical-align: top;\n",
       "    }\n",
       "\n",
       "    .dataframe thead th {\n",
       "        text-align: right;\n",
       "    }\n",
       "</style>\n",
       "<table border=\"1\" class=\"dataframe\">\n",
       "  <thead>\n",
       "    <tr style=\"text-align: right;\">\n",
       "      <th></th>\n",
       "      <th>Close</th>\n",
       "    </tr>\n",
       "    <tr>\n",
       "      <th>Date</th>\n",
       "      <th></th>\n",
       "    </tr>\n",
       "  </thead>\n",
       "  <tbody>\n",
       "    <tr>\n",
       "      <th>2001-04-03</th>\n",
       "      <td>-0.029886</td>\n",
       "    </tr>\n",
       "    <tr>\n",
       "      <th>2001-04-04</th>\n",
       "      <td>0.003132</td>\n",
       "    </tr>\n",
       "    <tr>\n",
       "      <th>2001-04-05</th>\n",
       "      <td>0.042313</td>\n",
       "    </tr>\n",
       "    <tr>\n",
       "      <th>2001-04-06</th>\n",
       "      <td>-0.012801</td>\n",
       "    </tr>\n",
       "    <tr>\n",
       "      <th>2001-04-09</th>\n",
       "      <td>0.005521</td>\n",
       "    </tr>\n",
       "  </tbody>\n",
       "</table>\n",
       "</div>"
      ],
      "text/plain": [
       "               Close\n",
       "Date                \n",
       "2001-04-03 -0.029886\n",
       "2001-04-04  0.003132\n",
       "2001-04-05  0.042313\n",
       "2001-04-06 -0.012801\n",
       "2001-04-09  0.005521"
      ]
     },
     "execution_count": 11,
     "metadata": {},
     "output_type": "execute_result"
    }
   ],
   "source": [
    "# Dow Percent Change \n",
    "dow_percent_change = DJI_df.pct_change().dropna()\n",
    "dow_percent_change.head()"
   ]
  },
  {
   "cell_type": "markdown",
   "id": "coordinate-laptop",
   "metadata": {},
   "source": [
    "# Confidence Indicator on Dow"
   ]
  },
  {
   "cell_type": "code",
   "execution_count": 12,
   "id": "seasonal-trash",
   "metadata": {},
   "outputs": [],
   "source": [
    "# Import confidence Data \n",
    "confidence_path = Path(\"data/one_year_confidence.csv\")\n",
    "confidence = pd.read_csv(confidence_path,parse_dates=True, index_col='Date', infer_datetime_format=True).dropna()"
   ]
  },
  {
   "cell_type": "code",
   "execution_count": 13,
   "id": "welcome-sucking",
   "metadata": {},
   "outputs": [
    {
     "data": {
      "text/html": [
       "<div>\n",
       "<style scoped>\n",
       "    .dataframe tbody tr th:only-of-type {\n",
       "        vertical-align: middle;\n",
       "    }\n",
       "\n",
       "    .dataframe tbody tr th {\n",
       "        vertical-align: top;\n",
       "    }\n",
       "\n",
       "    .dataframe thead th {\n",
       "        text-align: right;\n",
       "    }\n",
       "</style>\n",
       "<table border=\"1\" class=\"dataframe\">\n",
       "  <thead>\n",
       "    <tr style=\"text-align: right;\">\n",
       "      <th></th>\n",
       "      <th>Percent Change</th>\n",
       "    </tr>\n",
       "    <tr>\n",
       "      <th>Date</th>\n",
       "      <th></th>\n",
       "    </tr>\n",
       "  </thead>\n",
       "  <tbody>\n",
       "    <tr>\n",
       "      <th>2000-05-01</th>\n",
       "      <td>-0.020918</td>\n",
       "    </tr>\n",
       "    <tr>\n",
       "      <th>2000-06-01</th>\n",
       "      <td>-0.008902</td>\n",
       "    </tr>\n",
       "    <tr>\n",
       "      <th>2000-07-01</th>\n",
       "      <td>0.005988</td>\n",
       "    </tr>\n",
       "    <tr>\n",
       "      <th>2000-08-01</th>\n",
       "      <td>0.071131</td>\n",
       "    </tr>\n",
       "    <tr>\n",
       "      <th>2000-09-01</th>\n",
       "      <td>-0.051959</td>\n",
       "    </tr>\n",
       "  </tbody>\n",
       "</table>\n",
       "</div>"
      ],
      "text/plain": [
       "            Percent Change\n",
       "Date                      \n",
       "2000-05-01       -0.020918\n",
       "2000-06-01       -0.008902\n",
       "2000-07-01        0.005988\n",
       "2000-08-01        0.071131\n",
       "2000-09-01       -0.051959"
      ]
     },
     "execution_count": 13,
     "metadata": {},
     "output_type": "execute_result"
    }
   ],
   "source": [
    "dow_pct_change_path = Path(\"data/Dow Pct Change.csv\")\n",
    "dow_pct_change = pd.read_csv(dow_pct_change_path,parse_dates=True, index_col='Date', infer_datetime_format=True).dropna()\n",
    "dow_pct_change.head()"
   ]
  },
  {
   "cell_type": "code",
   "execution_count": 14,
   "id": "absolute-ballet",
   "metadata": {},
   "outputs": [
    {
     "data": {
      "text/html": [
       "<div>\n",
       "<style scoped>\n",
       "    .dataframe tbody tr th:only-of-type {\n",
       "        vertical-align: middle;\n",
       "    }\n",
       "\n",
       "    .dataframe tbody tr th {\n",
       "        vertical-align: top;\n",
       "    }\n",
       "\n",
       "    .dataframe thead th {\n",
       "        text-align: right;\n",
       "    }\n",
       "</style>\n",
       "<table border=\"1\" class=\"dataframe\">\n",
       "  <thead>\n",
       "    <tr style=\"text-align: right;\">\n",
       "      <th></th>\n",
       "      <th>US Institutional</th>\n",
       "      <th>US Individual</th>\n",
       "    </tr>\n",
       "    <tr>\n",
       "      <th>Date</th>\n",
       "      <th></th>\n",
       "      <th></th>\n",
       "    </tr>\n",
       "  </thead>\n",
       "  <tbody>\n",
       "    <tr>\n",
       "      <th>2021-02-01</th>\n",
       "      <td>62.12</td>\n",
       "      <td>75.00</td>\n",
       "    </tr>\n",
       "    <tr>\n",
       "      <th>2021-01-01</th>\n",
       "      <td>61.90</td>\n",
       "      <td>73.17</td>\n",
       "    </tr>\n",
       "    <tr>\n",
       "      <th>2020-12-01</th>\n",
       "      <td>61.54</td>\n",
       "      <td>69.17</td>\n",
       "    </tr>\n",
       "    <tr>\n",
       "      <th>2020-11-01</th>\n",
       "      <td>62.86</td>\n",
       "      <td>70.68</td>\n",
       "    </tr>\n",
       "    <tr>\n",
       "      <th>2020-10-01</th>\n",
       "      <td>67.61</td>\n",
       "      <td>70.71</td>\n",
       "    </tr>\n",
       "  </tbody>\n",
       "</table>\n",
       "</div>"
      ],
      "text/plain": [
       "            US Institutional  US Individual\n",
       "Date                                       \n",
       "2021-02-01             62.12          75.00\n",
       "2021-01-01             61.90          73.17\n",
       "2020-12-01             61.54          69.17\n",
       "2020-11-01             62.86          70.68\n",
       "2020-10-01             67.61          70.71"
      ]
     },
     "execution_count": 14,
     "metadata": {},
     "output_type": "execute_result"
    }
   ],
   "source": [
    "confidence.head()"
   ]
  },
  {
   "cell_type": "code",
   "execution_count": 15,
   "id": "concerned-hospital",
   "metadata": {},
   "outputs": [
    {
     "data": {
      "image/png": "[encoded data removed]",
      "text/plain": [
       "<Figure size 432x288 with 2 Axes>"
      ]
     },
     "metadata": {
      "needs_background": "light"
     },
     "output_type": "display_data"
    }
   ],
   "source": [
    "confidence_dist = confidence.hist()"
   ]
  },
  {
   "cell_type": "code",
   "execution_count": 16,
   "id": "bulgarian-police",
   "metadata": {},
   "outputs": [
    {
     "data": {
      "text/plain": [
       "54.74"
      ]
     },
     "execution_count": 16,
     "metadata": {},
     "output_type": "execute_result"
    }
   ],
   "source": [
    "confidence['US Institutional'].min()"
   ]
  },
  {
   "cell_type": "code",
   "execution_count": 17,
   "id": "brutal-appeal",
   "metadata": {},
   "outputs": [
    {
     "data": {
      "text/plain": [
       "59.75"
      ]
     },
     "execution_count": 17,
     "metadata": {},
     "output_type": "execute_result"
    }
   ],
   "source": [
    "confidence['US Individual'].min()"
   ]
  },
  {
   "cell_type": "code",
   "execution_count": 18,
   "id": "atlantic-custody",
   "metadata": {},
   "outputs": [
    {
     "data": {
      "text/html": [
       "<div>\n",
       "<style scoped>\n",
       "    .dataframe tbody tr th:only-of-type {\n",
       "        vertical-align: middle;\n",
       "    }\n",
       "\n",
       "    .dataframe tbody tr th {\n",
       "        vertical-align: top;\n",
       "    }\n",
       "\n",
       "    .dataframe thead th {\n",
       "        text-align: right;\n",
       "    }\n",
       "</style>\n",
       "<table border=\"1\" class=\"dataframe\">\n",
       "  <thead>\n",
       "    <tr style=\"text-align: right;\">\n",
       "      <th></th>\n",
       "      <th>US Institutional</th>\n",
       "      <th>US Individual</th>\n",
       "    </tr>\n",
       "    <tr>\n",
       "      <th>Date</th>\n",
       "      <th></th>\n",
       "      <th></th>\n",
       "    </tr>\n",
       "  </thead>\n",
       "  <tbody>\n",
       "    <tr>\n",
       "      <th>2000-04-01</th>\n",
       "      <td>56.82</td>\n",
       "      <td>76.34</td>\n",
       "    </tr>\n",
       "    <tr>\n",
       "      <th>1999-04-01</th>\n",
       "      <td>54.74</td>\n",
       "      <td>75.59</td>\n",
       "    </tr>\n",
       "  </tbody>\n",
       "</table>\n",
       "</div>"
      ],
      "text/plain": [
       "            US Institutional  US Individual\n",
       "Date                                       \n",
       "2000-04-01             56.82          76.34\n",
       "1999-04-01             54.74          75.59"
      ]
     },
     "execution_count": 18,
     "metadata": {},
     "output_type": "execute_result"
    }
   ],
   "source": [
    "# US Institutional data less than 60%\n",
    "confidence.loc[confidence['US Institutional'] < 60].round(2)"
   ]
  },
  {
   "cell_type": "code",
   "execution_count": 19,
   "id": "ordered-frost",
   "metadata": {},
   "outputs": [
    {
     "data": {
      "text/html": [
       "<div>\n",
       "<style scoped>\n",
       "    .dataframe tbody tr th:only-of-type {\n",
       "        vertical-align: middle;\n",
       "    }\n",
       "\n",
       "    .dataframe tbody tr th {\n",
       "        vertical-align: top;\n",
       "    }\n",
       "\n",
       "    .dataframe thead th {\n",
       "        text-align: right;\n",
       "    }\n",
       "</style>\n",
       "<table border=\"1\" class=\"dataframe\">\n",
       "  <thead>\n",
       "    <tr style=\"text-align: right;\">\n",
       "      <th></th>\n",
       "      <th>US Institutional</th>\n",
       "      <th>US Individual</th>\n",
       "    </tr>\n",
       "    <tr>\n",
       "      <th>Date</th>\n",
       "      <th></th>\n",
       "      <th></th>\n",
       "    </tr>\n",
       "  </thead>\n",
       "  <tbody>\n",
       "    <tr>\n",
       "      <th>2021-02-01</th>\n",
       "      <td>62.12</td>\n",
       "      <td>75.00</td>\n",
       "    </tr>\n",
       "    <tr>\n",
       "      <th>2021-01-01</th>\n",
       "      <td>61.90</td>\n",
       "      <td>73.17</td>\n",
       "    </tr>\n",
       "    <tr>\n",
       "      <th>2020-12-01</th>\n",
       "      <td>61.54</td>\n",
       "      <td>69.17</td>\n",
       "    </tr>\n",
       "    <tr>\n",
       "      <th>2020-11-01</th>\n",
       "      <td>62.86</td>\n",
       "      <td>70.68</td>\n",
       "    </tr>\n",
       "    <tr>\n",
       "      <th>2020-10-01</th>\n",
       "      <td>67.61</td>\n",
       "      <td>70.71</td>\n",
       "    </tr>\n",
       "  </tbody>\n",
       "</table>\n",
       "</div>"
      ],
      "text/plain": [
       "            US Institutional  US Individual\n",
       "Date                                       \n",
       "2021-02-01             62.12          75.00\n",
       "2021-01-01             61.90          73.17\n",
       "2020-12-01             61.54          69.17\n",
       "2020-11-01             62.86          70.68\n",
       "2020-10-01             67.61          70.71"
      ]
     },
     "execution_count": 19,
     "metadata": {},
     "output_type": "execute_result"
    }
   ],
   "source": [
    "confidence.head()"
   ]
  },
  {
   "cell_type": "code",
   "execution_count": 20,
   "id": "successful-associate",
   "metadata": {},
   "outputs": [
    {
     "data": {
      "text/plain": [
       "US Institutional    53\n",
       "US Individual       53\n",
       "dtype: int64"
      ]
     },
     "execution_count": 20,
     "metadata": {},
     "output_type": "execute_result"
    }
   ],
   "source": [
    "# US individual less than 70%\n",
    "individual_below_70 = confidence.loc[confidence['US Individual'] < 70].round(2)\n",
    "individual_below_70.count()"
   ]
  },
  {
   "cell_type": "code",
   "execution_count": 22,
   "id": "sustainable-taylor",
   "metadata": {},
   "outputs": [],
   "source": [
    "#ind_and_dow_less_70.head()"
   ]
  },
  {
   "cell_type": "code",
   "execution_count": 23,
   "id": "desperate-leave",
   "metadata": {},
   "outputs": [
    {
     "data": {
      "text/plain": [
       "Percent Change    0.007167\n",
       "dtype: float64"
      ]
     },
     "execution_count": 23,
     "metadata": {},
     "output_type": "execute_result"
    }
   ],
   "source": [
    "# Percent of Dow when individual confidence less than 70%\n",
    "ind_and_dow_less_70 = pd.concat([dow_pct_change,individual_below_70], axis='columns', join='inner')\n",
    "ind_and_dow_less_70[[\"Percent Change\"]].mean()"
   ]
  },
  {
   "cell_type": "code",
   "execution_count": 24,
   "id": "trying-drain",
   "metadata": {},
   "outputs": [
    {
     "data": {
      "text/plain": [
       "US Institutional    24\n",
       "US Individual       24\n",
       "dtype: int64"
      ]
     },
     "execution_count": 24,
     "metadata": {},
     "output_type": "execute_result"
    }
   ],
   "source": [
    "# US institutional confidence less than 70%\n",
    "institutional_below_70 = confidence.loc[confidence['US Institutional'] < 70].round(2)\n",
    "institutional_below_70.count()"
   ]
  },
  {
   "cell_type": "code",
   "execution_count": 25,
   "id": "freelance-formula",
   "metadata": {},
   "outputs": [
    {
     "data": {
      "text/plain": [
       "Percent Change    0.007506\n",
       "dtype: float64"
      ]
     },
     "execution_count": 25,
     "metadata": {},
     "output_type": "execute_result"
    }
   ],
   "source": [
    "# Dow Performance when institutional confidence is below 70\n",
    "inst_and_dow_less_70 = pd.concat([dow_pct_change,institutional_below_70], axis='columns', join='inner')\n",
    "inst_and_dow_less_70[[\"Percent Change\"]].mean()"
   ]
  },
  {
   "cell_type": "code",
   "execution_count": 26,
   "id": "narrative-connectivity",
   "metadata": {},
   "outputs": [
    {
     "data": {
      "text/html": [
       "<div>\n",
       "<style scoped>\n",
       "    .dataframe tbody tr th:only-of-type {\n",
       "        vertical-align: middle;\n",
       "    }\n",
       "\n",
       "    .dataframe tbody tr th {\n",
       "        vertical-align: top;\n",
       "    }\n",
       "\n",
       "    .dataframe thead th {\n",
       "        text-align: right;\n",
       "    }\n",
       "</style>\n",
       "<table border=\"1\" class=\"dataframe\">\n",
       "  <thead>\n",
       "    <tr style=\"text-align: right;\">\n",
       "      <th></th>\n",
       "      <th>US Institutional</th>\n",
       "      <th>US Individual</th>\n",
       "    </tr>\n",
       "    <tr>\n",
       "      <th>Date</th>\n",
       "      <th></th>\n",
       "      <th></th>\n",
       "    </tr>\n",
       "  </thead>\n",
       "  <tbody>\n",
       "    <tr>\n",
       "      <th>2021-01-01</th>\n",
       "      <td>-0.003542</td>\n",
       "      <td>-0.024400</td>\n",
       "    </tr>\n",
       "    <tr>\n",
       "      <th>2020-12-01</th>\n",
       "      <td>-0.005816</td>\n",
       "      <td>-0.054667</td>\n",
       "    </tr>\n",
       "    <tr>\n",
       "      <th>2020-11-01</th>\n",
       "      <td>0.021449</td>\n",
       "      <td>0.021830</td>\n",
       "    </tr>\n",
       "    <tr>\n",
       "      <th>2020-10-01</th>\n",
       "      <td>0.075565</td>\n",
       "      <td>0.000424</td>\n",
       "    </tr>\n",
       "    <tr>\n",
       "      <th>2020-09-01</th>\n",
       "      <td>0.033279</td>\n",
       "      <td>-0.009051</td>\n",
       "    </tr>\n",
       "  </tbody>\n",
       "</table>\n",
       "</div>"
      ],
      "text/plain": [
       "            US Institutional  US Individual\n",
       "Date                                       \n",
       "2021-01-01         -0.003542      -0.024400\n",
       "2020-12-01         -0.005816      -0.054667\n",
       "2020-11-01          0.021449       0.021830\n",
       "2020-10-01          0.075565       0.000424\n",
       "2020-09-01          0.033279      -0.009051"
      ]
     },
     "execution_count": 26,
     "metadata": {},
     "output_type": "execute_result"
    }
   ],
   "source": [
    "# Confidence percent change\n",
    "confidence_pct_change = confidence.pct_change().dropna()\n",
    "confidence_pct_change.head()"
   ]
  },
  {
   "cell_type": "code",
   "execution_count": 27,
   "id": "chicken-store",
   "metadata": {},
   "outputs": [
    {
     "data": {
      "text/plain": [
       "US Institutional    5\n",
       "US Individual       5\n",
       "dtype: int64"
      ]
     },
     "execution_count": 27,
     "metadata": {},
     "output_type": "execute_result"
    }
   ],
   "source": [
    "# Institutional confidence that dropped\n",
    "institutional_zero = confidence_pct_change.loc[confidence_pct_change[\"US Institutional\"] < -0.08]\n",
    "institutional_zero.count()"
   ]
  },
  {
   "cell_type": "code",
   "execution_count": 28,
   "id": "nasty-parameter",
   "metadata": {},
   "outputs": [
    {
     "data": {
      "text/plain": [
       "US Institutional    4\n",
       "US Individual       4\n",
       "dtype: int64"
      ]
     },
     "execution_count": 28,
     "metadata": {},
     "output_type": "execute_result"
    }
   ],
   "source": [
    "# Individual confidence that dropped\n",
    "individual_zero = confidence_pct_change.loc[confidence_pct_change[\"US Individual\"] < -0.08]\n",
    "individual_zero.count()"
   ]
  },
  {
   "cell_type": "code",
   "execution_count": 29,
   "id": "soviet-picnic",
   "metadata": {},
   "outputs": [
    {
     "data": {
      "text/plain": [
       "Percent Change   -0.001684\n",
       "dtype: float64"
      ]
     },
     "execution_count": 29,
     "metadata": {},
     "output_type": "execute_result"
    },
    {
     "data": {
      "image/png": "[encoded data removed]",
      "text/plain": [
       "<Figure size 432x288 with 1 Axes>"
      ]
     },
     "metadata": {
      "needs_background": "light"
     },
     "output_type": "display_data"
    }
   ],
   "source": [
    "# Individual confidence when dipping 4%\n",
    "no_individual = pd.concat([dow_pct_change,individual_zero], axis='columns', join='inner')\n",
    "no_individual.plot()\n",
    "no_individual[[\"Percent Change\"]].mean()"
   ]
  },
  {
   "cell_type": "code",
   "execution_count": 30,
   "id": "oriented-despite",
   "metadata": {},
   "outputs": [
    {
     "data": {
      "text/plain": [
       "Percent Change    0.015721\n",
       "dtype: float64"
      ]
     },
     "execution_count": 30,
     "metadata": {},
     "output_type": "execute_result"
    },
    {
     "data": {
      "image/png": "[encoded data removed]",
      "text/plain": [
       "<Figure size 432x288 with 1 Axes>"
      ]
     },
     "metadata": {
      "needs_background": "light"
     },
     "output_type": "display_data"
    }
   ],
   "source": [
    "# Institutional confidence when dipping 8%\n",
    "no_institution = pd.concat([dow_pct_change,institutional_zero], axis='columns', join='inner')\n",
    "no_institution.plot()\n",
    "no_institution[[\"Percent Change\"]].mean()"
   ]
  },
  {
   "cell_type": "code",
   "execution_count": 31,
   "id": "objective-conviction",
   "metadata": {},
   "outputs": [],
   "source": [
    "#dow_pct_change = DJI_df.pct_change().dropna()\n",
    "#dow_pct_change.head()\n",
    "\n",
    "dow_and_confidence = pd.concat([dow_pct_change,confidence_pct_change], axis='columns', join='inner')"
   ]
  },
  {
   "cell_type": "code",
   "execution_count": 32,
   "id": "contrary-clearing",
   "metadata": {},
   "outputs": [
    {
     "data": {
      "text/html": [
       "<div>\n",
       "<style scoped>\n",
       "    .dataframe tbody tr th:only-of-type {\n",
       "        vertical-align: middle;\n",
       "    }\n",
       "\n",
       "    .dataframe tbody tr th {\n",
       "        vertical-align: top;\n",
       "    }\n",
       "\n",
       "    .dataframe thead th {\n",
       "        text-align: right;\n",
       "    }\n",
       "</style>\n",
       "<table border=\"1\" class=\"dataframe\">\n",
       "  <thead>\n",
       "    <tr style=\"text-align: right;\">\n",
       "      <th></th>\n",
       "      <th>Percent Change</th>\n",
       "      <th>US Institutional</th>\n",
       "      <th>US Individual</th>\n",
       "    </tr>\n",
       "    <tr>\n",
       "      <th>Date</th>\n",
       "      <th></th>\n",
       "      <th></th>\n",
       "      <th></th>\n",
       "    </tr>\n",
       "  </thead>\n",
       "  <tbody>\n",
       "    <tr>\n",
       "      <th>2000-10-01</th>\n",
       "      <td>0.026084</td>\n",
       "      <td>-0.153486</td>\n",
       "      <td>-0.155667</td>\n",
       "    </tr>\n",
       "    <tr>\n",
       "      <th>2001-04-01</th>\n",
       "      <td>0.081501</td>\n",
       "      <td>0.133126</td>\n",
       "      <td>-0.006545</td>\n",
       "    </tr>\n",
       "    <tr>\n",
       "      <th>2001-07-01</th>\n",
       "      <td>-0.001995</td>\n",
       "      <td>-0.010634</td>\n",
       "      <td>-0.007159</td>\n",
       "    </tr>\n",
       "    <tr>\n",
       "      <th>2001-08-01</th>\n",
       "      <td>-0.049034</td>\n",
       "      <td>0.005151</td>\n",
       "      <td>0.024255</td>\n",
       "    </tr>\n",
       "    <tr>\n",
       "      <th>2001-09-01</th>\n",
       "      <td>-0.115439</td>\n",
       "      <td>-0.023516</td>\n",
       "      <td>-0.041730</td>\n",
       "    </tr>\n",
       "  </tbody>\n",
       "</table>\n",
       "</div>"
      ],
      "text/plain": [
       "            Percent Change  US Institutional  US Individual\n",
       "Date                                                       \n",
       "2000-10-01        0.026084         -0.153486      -0.155667\n",
       "2001-04-01        0.081501          0.133126      -0.006545\n",
       "2001-07-01       -0.001995         -0.010634      -0.007159\n",
       "2001-08-01       -0.049034          0.005151       0.024255\n",
       "2001-09-01       -0.115439         -0.023516      -0.041730"
      ]
     },
     "execution_count": 32,
     "metadata": {},
     "output_type": "execute_result"
    }
   ],
   "source": [
    "dow_and_confidence.head()"
   ]
  },
  {
   "cell_type": "code",
   "execution_count": 33,
   "id": "laughing-spider",
   "metadata": {},
   "outputs": [
    {
     "data": {
      "text/html": [
       "<div>\n",
       "<style scoped>\n",
       "    .dataframe tbody tr th:only-of-type {\n",
       "        vertical-align: middle;\n",
       "    }\n",
       "\n",
       "    .dataframe tbody tr th {\n",
       "        vertical-align: top;\n",
       "    }\n",
       "\n",
       "    .dataframe thead th {\n",
       "        text-align: right;\n",
       "    }\n",
       "</style>\n",
       "<table border=\"1\" class=\"dataframe\">\n",
       "  <thead>\n",
       "    <tr style=\"text-align: right;\">\n",
       "      <th></th>\n",
       "      <th>Percent Change</th>\n",
       "      <th>US Institutional</th>\n",
       "      <th>US Individual</th>\n",
       "    </tr>\n",
       "  </thead>\n",
       "  <tbody>\n",
       "    <tr>\n",
       "      <th>Percent Change</th>\n",
       "      <td>1.000000</td>\n",
       "      <td>0.108051</td>\n",
       "      <td>0.063783</td>\n",
       "    </tr>\n",
       "    <tr>\n",
       "      <th>US Institutional</th>\n",
       "      <td>0.108051</td>\n",
       "      <td>1.000000</td>\n",
       "      <td>0.266446</td>\n",
       "    </tr>\n",
       "    <tr>\n",
       "      <th>US Individual</th>\n",
       "      <td>0.063783</td>\n",
       "      <td>0.266446</td>\n",
       "      <td>1.000000</td>\n",
       "    </tr>\n",
       "  </tbody>\n",
       "</table>\n",
       "</div>"
      ],
      "text/plain": [
       "                  Percent Change  US Institutional  US Individual\n",
       "Percent Change          1.000000          0.108051       0.063783\n",
       "US Institutional        0.108051          1.000000       0.266446\n",
       "US Individual           0.063783          0.266446       1.000000"
      ]
     },
     "execution_count": 33,
     "metadata": {},
     "output_type": "execute_result"
    }
   ],
   "source": [
    "dow_corr = dow_and_confidence.corr()\n",
    "dow_corr\n",
    "#sns.heatmap(dow_corr,vmin=-1,vmax=1)"
   ]
  },
  {
   "cell_type": "code",
   "execution_count": 34,
   "id": "confidential-michael",
   "metadata": {},
   "outputs": [
    {
     "data": {
      "text/html": [
       "<div>\n",
       "<style scoped>\n",
       "    .dataframe tbody tr th:only-of-type {\n",
       "        vertical-align: middle;\n",
       "    }\n",
       "\n",
       "    .dataframe tbody tr th {\n",
       "        vertical-align: top;\n",
       "    }\n",
       "\n",
       "    .dataframe thead th {\n",
       "        text-align: right;\n",
       "    }\n",
       "</style>\n",
       "<table border=\"1\" class=\"dataframe\">\n",
       "  <thead>\n",
       "    <tr style=\"text-align: right;\">\n",
       "      <th></th>\n",
       "      <th>Percent Change</th>\n",
       "      <th>US Institutional</th>\n",
       "      <th>US Individual</th>\n",
       "    </tr>\n",
       "  </thead>\n",
       "  <tbody>\n",
       "    <tr>\n",
       "      <th>Percent Change</th>\n",
       "      <td>1.000000</td>\n",
       "      <td>-0.295420</td>\n",
       "      <td>-0.310302</td>\n",
       "    </tr>\n",
       "    <tr>\n",
       "      <th>US Institutional</th>\n",
       "      <td>-0.295420</td>\n",
       "      <td>1.000000</td>\n",
       "      <td>0.999878</td>\n",
       "    </tr>\n",
       "    <tr>\n",
       "      <th>US Individual</th>\n",
       "      <td>-0.310302</td>\n",
       "      <td>0.999878</td>\n",
       "      <td>1.000000</td>\n",
       "    </tr>\n",
       "  </tbody>\n",
       "</table>\n",
       "</div>"
      ],
      "text/plain": [
       "                  Percent Change  US Institutional  US Individual\n",
       "Percent Change          1.000000         -0.295420      -0.310302\n",
       "US Institutional       -0.295420          1.000000       0.999878\n",
       "US Individual          -0.310302          0.999878       1.000000"
      ]
     },
     "execution_count": 34,
     "metadata": {},
     "output_type": "execute_result"
    }
   ],
   "source": [
    "no_institution.corr()"
   ]
  },
  {
   "cell_type": "code",
   "execution_count": 35,
   "id": "breathing-samuel",
   "metadata": {},
   "outputs": [
    {
     "data": {
      "text/plain": [
       "US Institutional    17\n",
       "US Individual       17\n",
       "dtype: int64"
      ]
     },
     "execution_count": 35,
     "metadata": {},
     "output_type": "execute_result"
    }
   ],
   "source": [
    "# Institutional confidence that increased\n",
    "institutional_great = confidence_pct_change.loc[confidence_pct_change[\"US Institutional\"] > 0.05]\n",
    "institutional_great.count()"
   ]
  },
  {
   "cell_type": "code",
   "execution_count": 36,
   "id": "confused-duncan",
   "metadata": {},
   "outputs": [
    {
     "data": {
      "text/plain": [
       "Percent Change    0.016046\n",
       "dtype: float64"
      ]
     },
     "execution_count": 36,
     "metadata": {},
     "output_type": "execute_result"
    },
    {
     "data": {
      "image/png": "[encoded data removed]",
      "text/plain": [
       "<Figure size 432x288 with 1 Axes>"
      ]
     },
     "metadata": {
      "needs_background": "light"
     },
     "output_type": "display_data"
    }
   ],
   "source": [
    "# Institutional Plot when confidence increase\n",
    "great_institution = pd.concat([dow_pct_change,institutional_great], axis='columns', join='inner')\n",
    "great_institution.plot()\n",
    "great_institution[[\"Percent Change\"]].mean()"
   ]
  },
  {
   "cell_type": "code",
   "execution_count": 37,
   "id": "aquatic-bowling",
   "metadata": {},
   "outputs": [
    {
     "data": {
      "text/plain": [
       "US Institutional    15\n",
       "US Individual       15\n",
       "dtype: int64"
      ]
     },
     "execution_count": 37,
     "metadata": {},
     "output_type": "execute_result"
    }
   ],
   "source": [
    "# Individual confidence increase \n",
    "individual_great = confidence_pct_change.loc[confidence_pct_change[\"US Individual\"] > 0.05]\n",
    "individual_great.count()"
   ]
  },
  {
   "cell_type": "code",
   "execution_count": 38,
   "id": "civilian-vector",
   "metadata": {},
   "outputs": [
    {
     "data": {
      "text/plain": [
       "Percent Change    0.009444\n",
       "dtype: float64"
      ]
     },
     "execution_count": 38,
     "metadata": {},
     "output_type": "execute_result"
    },
    {
     "data": {
      "image/png": "[encoded data removed]",
      "text/plain": [
       "<Figure size 432x288 with 1 Axes>"
      ]
     },
     "metadata": {
      "needs_background": "light"
     },
     "output_type": "display_data"
    }
   ],
   "source": [
    "# Individual confidence when increasing 5%\n",
    "great_individual = pd.concat([dow_pct_change,individual_great], axis='columns', join='inner')\n",
    "great_individual.plot()\n",
    "great_individual[[\"Percent Change\"]].mean()"
   ]
  },
  {
   "cell_type": "markdown",
   "id": "nuclear-immigration",
   "metadata": {},
   "source": [
    "# Dow on Confidence Indicator"
   ]
  },
  {
   "cell_type": "code",
   "execution_count": 39,
   "id": "other-acting",
   "metadata": {},
   "outputs": [
    {
     "data": {
      "text/plain": [
       "array([[<AxesSubplot:title={'center':'US Institutional'}>,\n",
       "        <AxesSubplot:title={'center':'US Individual'}>]], dtype=object)"
      ]
     },
     "execution_count": 39,
     "metadata": {},
     "output_type": "execute_result"
    },
    {
     "data": {
      "image/png": "[encoded data removed]",
      "text/plain": [
       "<Figure size 432x288 with 2 Axes>"
      ]
     },
     "metadata": {
      "needs_background": "light"
     },
     "output_type": "display_data"
    }
   ],
   "source": [
    "confidence.hist()"
   ]
  },
  {
   "cell_type": "code",
   "execution_count": 40,
   "id": "tough-signature",
   "metadata": {},
   "outputs": [
    {
     "data": {
      "text/plain": [
       "array([[<AxesSubplot:title={'center':'Percent Change'}>]], dtype=object)"
      ]
     },
     "execution_count": 40,
     "metadata": {},
     "output_type": "execute_result"
    },
    {
     "data": {
      "image/png": "[encoded data removed]",
      "text/plain": [
       "<Figure size 432x288 with 1 Axes>"
      ]
     },
     "metadata": {
      "needs_background": "light"
     },
     "output_type": "display_data"
    }
   ],
   "source": [
    "dow_pct_change.hist()"
   ]
  },
  {
   "cell_type": "code",
   "execution_count": 41,
   "id": "hydraulic-subscription",
   "metadata": {},
   "outputs": [
    {
     "data": {
      "text/plain": [
       "Percent Change      21\n",
       "US Institutional    21\n",
       "US Individual       21\n",
       "dtype: int64"
      ]
     },
     "execution_count": 41,
     "metadata": {},
     "output_type": "execute_result"
    }
   ],
   "source": [
    "# Percent of dow dropping 5%\n",
    "dow_drop_5 = dow_and_confidence.loc[dow_and_confidence['Percent Change'] < -.05]\n",
    "dow_drop_5.count()"
   ]
  },
  {
   "cell_type": "code",
   "execution_count": 42,
   "id": "extreme-election",
   "metadata": {},
   "outputs": [
    {
     "data": {
      "text/plain": [
       "Percent Change      21\n",
       "US Institutional    21\n",
       "US Individual       21\n",
       "dtype: int64"
      ]
     },
     "execution_count": 42,
     "metadata": {},
     "output_type": "execute_result"
    }
   ],
   "source": [
    "dow_drop_5 = dow_and_confidence.loc[dow_and_confidence[\"Percent Change\"] <-.05]\n",
    "dow_drop_5.count()"
   ]
  },
  {
   "cell_type": "code",
   "execution_count": 43,
   "id": "expanded-walter",
   "metadata": {},
   "outputs": [
    {
     "data": {
      "text/plain": [
       "US Institutional    -0.006152\n",
       "US Institutional    78.916190\n",
       "dtype: float64"
      ]
     },
     "execution_count": 43,
     "metadata": {},
     "output_type": "execute_result"
    }
   ],
   "source": [
    "# Dow on Confidence \n",
    "dow_impact = pd.concat([dow_drop_5,confidence], axis='columns', join='inner')\n",
    "\n",
    "dow_impact[[\"US Institutional\"]].mean()"
   ]
  },
  {
   "cell_type": "code",
   "execution_count": 44,
   "id": "juvenile-advocacy",
   "metadata": {},
   "outputs": [
    {
     "data": {
      "text/html": [
       "<div>\n",
       "<style scoped>\n",
       "    .dataframe tbody tr th:only-of-type {\n",
       "        vertical-align: middle;\n",
       "    }\n",
       "\n",
       "    .dataframe tbody tr th {\n",
       "        vertical-align: top;\n",
       "    }\n",
       "\n",
       "    .dataframe thead th {\n",
       "        text-align: right;\n",
       "    }\n",
       "</style>\n",
       "<table border=\"1\" class=\"dataframe\">\n",
       "  <thead>\n",
       "    <tr style=\"text-align: right;\">\n",
       "      <th></th>\n",
       "      <th>Percent Change</th>\n",
       "      <th>US Institutional</th>\n",
       "      <th>US Individual</th>\n",
       "      <th>US Institutional</th>\n",
       "      <th>US Individual</th>\n",
       "    </tr>\n",
       "    <tr>\n",
       "      <th>Date</th>\n",
       "      <th></th>\n",
       "      <th></th>\n",
       "      <th></th>\n",
       "      <th></th>\n",
       "      <th></th>\n",
       "    </tr>\n",
       "  </thead>\n",
       "  <tbody>\n",
       "    <tr>\n",
       "      <th>2001-09-01</th>\n",
       "      <td>-0.115439</td>\n",
       "      <td>-0.023516</td>\n",
       "      <td>-0.041730</td>\n",
       "      <td>77.65</td>\n",
       "      <td>88.64</td>\n",
       "    </tr>\n",
       "    <tr>\n",
       "      <th>2002-06-01</th>\n",
       "      <td>-0.067708</td>\n",
       "      <td>0.000713</td>\n",
       "      <td>0.010171</td>\n",
       "      <td>84.21</td>\n",
       "      <td>88.39</td>\n",
       "    </tr>\n",
       "    <tr>\n",
       "      <th>2002-07-01</th>\n",
       "      <td>-0.058143</td>\n",
       "      <td>0.041847</td>\n",
       "      <td>0.028928</td>\n",
       "      <td>84.15</td>\n",
       "      <td>87.50</td>\n",
       "    </tr>\n",
       "    <tr>\n",
       "      <th>2002-09-01</th>\n",
       "      <td>-0.121590</td>\n",
       "      <td>0.015327</td>\n",
       "      <td>-0.011930</td>\n",
       "      <td>81.48</td>\n",
       "      <td>84.48</td>\n",
       "    </tr>\n",
       "    <tr>\n",
       "      <th>2002-12-01</th>\n",
       "      <td>-0.060630</td>\n",
       "      <td>-0.031039</td>\n",
       "      <td>-0.021773</td>\n",
       "      <td>80.23</td>\n",
       "      <td>88.51</td>\n",
       "    </tr>\n",
       "  </tbody>\n",
       "</table>\n",
       "</div>"
      ],
      "text/plain": [
       "            Percent Change  US Institutional  US Individual  US Institutional  \\\n",
       "Date                                                                            \n",
       "2001-09-01       -0.115439         -0.023516      -0.041730             77.65   \n",
       "2002-06-01       -0.067708          0.000713       0.010171             84.21   \n",
       "2002-07-01       -0.058143          0.041847       0.028928             84.15   \n",
       "2002-09-01       -0.121590          0.015327      -0.011930             81.48   \n",
       "2002-12-01       -0.060630         -0.031039      -0.021773             80.23   \n",
       "\n",
       "            US Individual  \n",
       "Date                       \n",
       "2001-09-01          88.64  \n",
       "2002-06-01          88.39  \n",
       "2002-07-01          87.50  \n",
       "2002-09-01          84.48  \n",
       "2002-12-01          88.51  "
      ]
     },
     "execution_count": 44,
     "metadata": {},
     "output_type": "execute_result"
    }
   ],
   "source": [
    "dow_impact.head()"
   ]
  },
  {
   "cell_type": "code",
   "execution_count": 45,
   "id": "committed-rugby",
   "metadata": {},
   "outputs": [
    {
     "data": {
      "text/plain": [
       "US Individual    -0.016261\n",
       "US Individual    75.934286\n",
       "dtype: float64"
      ]
     },
     "execution_count": 45,
     "metadata": {},
     "output_type": "execute_result"
    }
   ],
   "source": [
    "dow_impact[[\"US Individual\"]].mean()"
   ]
  },
  {
   "cell_type": "code",
   "execution_count": 46,
   "id": "every-surname",
   "metadata": {},
   "outputs": [
    {
     "data": {
      "text/plain": [
       "Percent Change      27\n",
       "US Institutional    27\n",
       "US Individual       27\n",
       "dtype: int64"
      ]
     },
     "execution_count": 46,
     "metadata": {},
     "output_type": "execute_result"
    }
   ],
   "source": [
    "# Dow gain 5%\n",
    "dow_gain_5 = dow_and_confidence.loc[dow_and_confidence['Percent Change'] > .05]\n",
    "dow_gain_5.count()"
   ]
  },
  {
   "cell_type": "code",
   "execution_count": 47,
   "id": "exposed-reset",
   "metadata": {},
   "outputs": [
    {
     "data": {
      "text/plain": [
       "US Institutional     0.019359\n",
       "US Institutional    77.661481\n",
       "dtype: float64"
      ]
     },
     "execution_count": 47,
     "metadata": {},
     "output_type": "execute_result"
    }
   ],
   "source": [
    "# Dow gain and  Confidence \n",
    "dow_good_impact = pd.concat([dow_gain_5,confidence], axis='columns', join='inner')\n",
    "\n",
    "dow_good_impact[[\"US Institutional\"]].mean()"
   ]
  },
  {
   "cell_type": "code",
   "execution_count": 48,
   "id": "imperial-incidence",
   "metadata": {},
   "outputs": [
    {
     "data": {
      "text/plain": [
       "US Individual     0.005923\n",
       "US Individual    77.589259\n",
       "dtype: float64"
      ]
     },
     "execution_count": 48,
     "metadata": {},
     "output_type": "execute_result"
    }
   ],
   "source": [
    "dow_good_impact[[\"US Individual\"]].mean()"
   ]
  },
  {
   "cell_type": "code",
   "execution_count": null,
   "id": "involved-impossible",
   "metadata": {},
   "outputs": [],
   "source": []
  },
  {
   "cell_type": "code",
   "execution_count": null,
   "id": "billion-plain",
   "metadata": {},
   "outputs": [],
   "source": []
  },
  {
   "cell_type": "markdown",
   "id": "described-participant",
   "metadata": {},
   "source": [
    "# Crash Confidence Correct? "
   ]
  },
  {
   "cell_type": "code",
   "execution_count": 49,
   "id": "stylish-anaheim",
   "metadata": {},
   "outputs": [],
   "source": [
    "# Import confidence Data (Percent of population that thinks market is not too high)\n",
    "# High numnber indicates more bullish sentiment \n",
    "# Low number indicates bearish sentiment\n",
    "valuation_confidence_path = Path(\"data/us_valuation_confidence_index.csv\")\n",
    "valuation_confidence = pd.read_csv(valuation_confidence_path,parse_dates=True, index_col='Date', infer_datetime_format=True)"
   ]
  },
  {
   "cell_type": "code",
   "execution_count": 50,
   "id": "sunset-establishment",
   "metadata": {},
   "outputs": [
    {
     "data": {
      "text/html": [
       "<div>\n",
       "<style scoped>\n",
       "    .dataframe tbody tr th:only-of-type {\n",
       "        vertical-align: middle;\n",
       "    }\n",
       "\n",
       "    .dataframe tbody tr th {\n",
       "        vertical-align: top;\n",
       "    }\n",
       "\n",
       "    .dataframe thead th {\n",
       "        text-align: right;\n",
       "    }\n",
       "</style>\n",
       "<table border=\"1\" class=\"dataframe\">\n",
       "  <thead>\n",
       "    <tr style=\"text-align: right;\">\n",
       "      <th></th>\n",
       "      <th>US Institutional</th>\n",
       "      <th>US Individual</th>\n",
       "    </tr>\n",
       "    <tr>\n",
       "      <th>Date</th>\n",
       "      <th></th>\n",
       "      <th></th>\n",
       "    </tr>\n",
       "  </thead>\n",
       "  <tbody>\n",
       "    <tr>\n",
       "      <th>2021-02-01</th>\n",
       "      <td>42.70</td>\n",
       "      <td>29.51</td>\n",
       "    </tr>\n",
       "    <tr>\n",
       "      <th>2021-01-01</th>\n",
       "      <td>43.82</td>\n",
       "      <td>28.78</td>\n",
       "    </tr>\n",
       "    <tr>\n",
       "      <th>2020-12-01</th>\n",
       "      <td>44.68</td>\n",
       "      <td>31.47</td>\n",
       "    </tr>\n",
       "    <tr>\n",
       "      <th>2020-11-01</th>\n",
       "      <td>41.84</td>\n",
       "      <td>33.77</td>\n",
       "    </tr>\n",
       "    <tr>\n",
       "      <th>2020-10-01</th>\n",
       "      <td>46.39</td>\n",
       "      <td>34.16</td>\n",
       "    </tr>\n",
       "  </tbody>\n",
       "</table>\n",
       "</div>"
      ],
      "text/plain": [
       "            US Institutional  US Individual\n",
       "Date                                       \n",
       "2021-02-01             42.70          29.51\n",
       "2021-01-01             43.82          28.78\n",
       "2020-12-01             44.68          31.47\n",
       "2020-11-01             41.84          33.77\n",
       "2020-10-01             46.39          34.16"
      ]
     },
     "execution_count": 50,
     "metadata": {},
     "output_type": "execute_result"
    }
   ],
   "source": [
    "valuation_confidence.head()"
   ]
  },
  {
   "cell_type": "code",
   "execution_count": 51,
   "id": "sunset-facing",
   "metadata": {},
   "outputs": [
    {
     "data": {
      "text/plain": [
       "array([[<AxesSubplot:title={'center':'US Institutional'}>,\n",
       "        <AxesSubplot:title={'center':'US Individual'}>]], dtype=object)"
      ]
     },
     "execution_count": 51,
     "metadata": {},
     "output_type": "execute_result"
    },
    {
     "data": {
      "image/png": "[encoded data removed]",
      "text/plain": [
       "<Figure size 432x288 with 2 Axes>"
      ]
     },
     "metadata": {
      "needs_background": "light"
     },
     "output_type": "display_data"
    }
   ],
   "source": [
    "valuation_confidence.hist()"
   ]
  },
  {
   "cell_type": "code",
   "execution_count": null,
   "id": "collect-department",
   "metadata": {},
   "outputs": [],
   "source": []
  },
  {
   "cell_type": "code",
   "execution_count": null,
   "id": "identified-delicious",
   "metadata": {},
   "outputs": [],
   "source": []
  },
  {
   "cell_type": "code",
   "execution_count": 52,
   "id": "induced-building",
   "metadata": {},
   "outputs": [
    {
     "data": {
      "text/plain": [
       "US Institutional    72\n",
       "US Individual       72\n",
       "dtype: int64"
      ]
     },
     "execution_count": 52,
     "metadata": {},
     "output_type": "execute_result"
    }
   ],
   "source": [
    "# US individual less than 70%\n",
    "individual_greater_80 = confidence.loc[confidence['US Individual'] > 80].round(2)\n",
    "individual_greater_80.count()"
   ]
  },
  {
   "cell_type": "code",
   "execution_count": 53,
   "id": "purple-contest",
   "metadata": {},
   "outputs": [
    {
     "data": {
      "text/plain": [
       "US Institutional    72\n",
       "US Individual       72\n",
       "dtype: int64"
      ]
     },
     "execution_count": 53,
     "metadata": {},
     "output_type": "execute_result"
    }
   ],
   "source": [
    "individual_greater_80.count()"
   ]
  },
  {
   "cell_type": "code",
   "execution_count": 54,
   "id": "descending-money",
   "metadata": {},
   "outputs": [
    {
     "data": {
      "text/html": [
       "<div>\n",
       "<style scoped>\n",
       "    .dataframe tbody tr th:only-of-type {\n",
       "        vertical-align: middle;\n",
       "    }\n",
       "\n",
       "    .dataframe tbody tr th {\n",
       "        vertical-align: top;\n",
       "    }\n",
       "\n",
       "    .dataframe thead th {\n",
       "        text-align: right;\n",
       "    }\n",
       "</style>\n",
       "<table border=\"1\" class=\"dataframe\">\n",
       "  <thead>\n",
       "    <tr style=\"text-align: right;\">\n",
       "      <th></th>\n",
       "      <th>US Institutional</th>\n",
       "      <th>US Individual</th>\n",
       "    </tr>\n",
       "    <tr>\n",
       "      <th>Date</th>\n",
       "      <th></th>\n",
       "      <th></th>\n",
       "    </tr>\n",
       "  </thead>\n",
       "  <tbody>\n",
       "    <tr>\n",
       "      <th>2021-02-01</th>\n",
       "      <td>62.12</td>\n",
       "      <td>75.00</td>\n",
       "    </tr>\n",
       "    <tr>\n",
       "      <th>2021-01-01</th>\n",
       "      <td>61.90</td>\n",
       "      <td>73.17</td>\n",
       "    </tr>\n",
       "    <tr>\n",
       "      <th>2020-12-01</th>\n",
       "      <td>61.54</td>\n",
       "      <td>69.17</td>\n",
       "    </tr>\n",
       "    <tr>\n",
       "      <th>2020-11-01</th>\n",
       "      <td>62.86</td>\n",
       "      <td>70.68</td>\n",
       "    </tr>\n",
       "    <tr>\n",
       "      <th>2020-10-01</th>\n",
       "      <td>67.61</td>\n",
       "      <td>70.71</td>\n",
       "    </tr>\n",
       "  </tbody>\n",
       "</table>\n",
       "</div>"
      ],
      "text/plain": [
       "            US Institutional  US Individual\n",
       "Date                                       \n",
       "2021-02-01             62.12          75.00\n",
       "2021-01-01             61.90          73.17\n",
       "2020-12-01             61.54          69.17\n",
       "2020-11-01             62.86          70.68\n",
       "2020-10-01             67.61          70.71"
      ]
     },
     "execution_count": 54,
     "metadata": {},
     "output_type": "execute_result"
    }
   ],
   "source": [
    "confidence.head()"
   ]
  },
  {
   "cell_type": "code",
   "execution_count": 55,
   "id": "assured-exhibit",
   "metadata": {},
   "outputs": [
    {
     "data": {
      "text/plain": [
       "Date             2021-02-01 00:00:00\n",
       "US Individual                  95.62\n",
       "dtype: object"
      ]
     },
     "execution_count": 55,
     "metadata": {},
     "output_type": "execute_result"
    }
   ],
   "source": [
    "confidence[['US Individual']].reset_index().max()"
   ]
  },
  {
   "cell_type": "code",
   "execution_count": 56,
   "id": "elect-howard",
   "metadata": {},
   "outputs": [
    {
     "data": {
      "text/plain": [
       "Date             1999-04-01 00:00:00\n",
       "US Individual                  59.75\n",
       "dtype: object"
      ]
     },
     "execution_count": 56,
     "metadata": {},
     "output_type": "execute_result"
    }
   ],
   "source": [
    "confidence[['US Individual']].reset_index().min()"
   ]
  },
  {
   "cell_type": "code",
   "execution_count": 57,
   "id": "intensive-secretariat",
   "metadata": {},
   "outputs": [],
   "source": [
    "lowest_individual_confidence = confidence.sort_values(\"US Individual\", ascending = True)"
   ]
  },
  {
   "cell_type": "code",
   "execution_count": 58,
   "id": "pacific-statement",
   "metadata": {},
   "outputs": [
    {
     "data": {
      "text/html": [
       "<div>\n",
       "<style scoped>\n",
       "    .dataframe tbody tr th:only-of-type {\n",
       "        vertical-align: middle;\n",
       "    }\n",
       "\n",
       "    .dataframe tbody tr th {\n",
       "        vertical-align: top;\n",
       "    }\n",
       "\n",
       "    .dataframe thead th {\n",
       "        text-align: right;\n",
       "    }\n",
       "</style>\n",
       "<table border=\"1\" class=\"dataframe\">\n",
       "  <thead>\n",
       "    <tr style=\"text-align: right;\">\n",
       "      <th></th>\n",
       "      <th>US Institutional</th>\n",
       "      <th>US Individual</th>\n",
       "    </tr>\n",
       "    <tr>\n",
       "      <th>Date</th>\n",
       "      <th></th>\n",
       "      <th></th>\n",
       "    </tr>\n",
       "  </thead>\n",
       "  <tbody>\n",
       "    <tr>\n",
       "      <th>2017-08-01</th>\n",
       "      <td>72.85</td>\n",
       "      <td>59.75</td>\n",
       "    </tr>\n",
       "    <tr>\n",
       "      <th>2019-10-01</th>\n",
       "      <td>66.33</td>\n",
       "      <td>59.79</td>\n",
       "    </tr>\n",
       "    <tr>\n",
       "      <th>2017-07-01</th>\n",
       "      <td>74.40</td>\n",
       "      <td>60.12</td>\n",
       "    </tr>\n",
       "    <tr>\n",
       "      <th>2017-11-01</th>\n",
       "      <td>69.92</td>\n",
       "      <td>60.61</td>\n",
       "    </tr>\n",
       "    <tr>\n",
       "      <th>2017-04-01</th>\n",
       "      <td>79.61</td>\n",
       "      <td>60.69</td>\n",
       "    </tr>\n",
       "  </tbody>\n",
       "</table>\n",
       "</div>"
      ],
      "text/plain": [
       "            US Institutional  US Individual\n",
       "Date                                       \n",
       "2017-08-01             72.85          59.75\n",
       "2019-10-01             66.33          59.79\n",
       "2017-07-01             74.40          60.12\n",
       "2017-11-01             69.92          60.61\n",
       "2017-04-01             79.61          60.69"
      ]
     },
     "execution_count": 58,
     "metadata": {},
     "output_type": "execute_result"
    }
   ],
   "source": [
    "lowest_individual_confidence.head()"
   ]
  },
  {
   "cell_type": "code",
   "execution_count": 67,
   "id": "improved-thompson",
   "metadata": {},
   "outputs": [],
   "source": [
    "DJI_df_sorted = DJI_df.sort_values(\"Close\", ascending = True)#.reset_index()\n",
    "\n",
    "\n",
    "\n",
    "#DJI_df_sorted.loc[[DJI_df_sorted['2017-08-01':'2018-02-01',:]]]"
   ]
  },
  {
   "cell_type": "code",
   "execution_count": 72,
   "id": "consolidated-institute",
   "metadata": {},
   "outputs": [
    {
     "data": {
      "text/html": [
       "<div>\n",
       "<style scoped>\n",
       "    .dataframe tbody tr th:only-of-type {\n",
       "        vertical-align: middle;\n",
       "    }\n",
       "\n",
       "    .dataframe tbody tr th {\n",
       "        vertical-align: top;\n",
       "    }\n",
       "\n",
       "    .dataframe thead th {\n",
       "        text-align: right;\n",
       "    }\n",
       "</style>\n",
       "<table border=\"1\" class=\"dataframe\">\n",
       "  <thead>\n",
       "    <tr style=\"text-align: right;\">\n",
       "      <th></th>\n",
       "      <th>Close</th>\n",
       "    </tr>\n",
       "    <tr>\n",
       "      <th>Date</th>\n",
       "      <th></th>\n",
       "    </tr>\n",
       "  </thead>\n",
       "  <tbody>\n",
       "    <tr>\n",
       "      <th>2009-03-05</th>\n",
       "      <td>6594.439941</td>\n",
       "    </tr>\n",
       "    <tr>\n",
       "      <th>2009-03-05</th>\n",
       "      <td>6594.439941</td>\n",
       "    </tr>\n",
       "  </tbody>\n",
       "</table>\n",
       "</div>"
      ],
      "text/plain": [
       "                  Close\n",
       "Date                   \n",
       "2009-03-05  6594.439941\n",
       "2009-03-05  6594.439941"
      ]
     },
     "execution_count": 72,
     "metadata": {},
     "output_type": "execute_result"
    }
   ],
   "source": [
    "DJI_df_sorted.loc[[DJI_df_sorted['2017-08-01':'2018-02-01'],1]]"
   ]
  },
  {
   "cell_type": "code",
   "execution_count": null,
   "id": "material-while",
   "metadata": {},
   "outputs": [],
   "source": []
  },
  {
   "cell_type": "code",
   "execution_count": null,
   "id": "dress-ability",
   "metadata": {},
   "outputs": [],
   "source": []
  }
 ],
 "metadata": {
  "kernelspec": {
   "display_name": "Python [conda env:alpacaenv]",
   "language": "python",
   "name": "conda-env-alpacaenv-py"
  },
  "language_info": {
   "codemirror_mode": {
    "name": "ipython",
    "version": 3
   },
   "file_extension": ".py",
   "mimetype": "text/x-python",
   "name": "python",
   "nbconvert_exporter": "python",
   "pygments_lexer": "ipython3",
   "version": "3.7.9"
  }
 },
 "nbformat": 4,
 "nbformat_minor": 5
}
